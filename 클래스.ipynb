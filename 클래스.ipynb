{
  "nbformat": 4,
  "nbformat_minor": 0,
  "metadata": {
    "colab": {
      "provenance": []
    },
    "kernelspec": {
      "name": "python3",
      "display_name": "Python 3"
    },
    "language_info": {
      "name": "python"
    }
  },
  "cells": [
    {
      "cell_type": "markdown",
      "source": [
        "#클래스(class)\n",
        "관련있는 변수와 함수를 하나로 묶은 것\n",
        "\n",
        "비슷한 데이터+기능을 묶어서 프로그램을 더 체계적이고 깔끔하게 만드는 도구"
      ],
      "metadata": {
        "id": "9gqwHaX2_wDy"
      }
    },
    {
      "cell_type": "markdown",
      "source": [
        "#클래스는 왜 필요한가?\n",
        "프로그램이 커지거나 복잡해지면, 데이터 관리가 힘들고 오류가 발생하기 쉬움\n",
        "\n",
        "클래스를 사용하면 서로 독립적인 객체를 만들수 있고, 깔끔하고 유지보수하기 쉬운 프로그램을 만들수 있음"
      ],
      "metadata": {
        "id": "H83X_fAD_7Qq"
      }
    },
    {
      "cell_type": "markdown",
      "source": [
        "#계산기 프로그램\n",
        "전역변수를 사용해서 결괏값을 유지하는 방식\n",
        "\n"
      ],
      "metadata": {
        "id": "HEyFpYuiAIs2"
      }
    },
    {
      "cell_type": "code",
      "source": [
        "result = 0\n",
        "\n",
        "def add(num):\n",
        "  global result\n",
        "  result += num\n",
        "  return result\n",
        "\n",
        "print(add(3))\n",
        "print(add(4))"
      ],
      "metadata": {
        "colab": {
          "base_uri": "https://localhost:8080/"
        },
        "id": "PeI1AaqMAP_r",
        "outputId": "c65a7fca-d247-46ef-e749-8b371fd2eb98"
      },
      "execution_count": null,
      "outputs": [
        {
          "output_type": "stream",
          "name": "stdout",
          "text": [
            "3\n",
            "7\n"
          ]
        }
      ]
    },
    {
      "cell_type": "code",
      "source": [
        "result1 = 0\n",
        "result2 = 0\n",
        "\n",
        "def add(num):\n",
        "  global result1\n",
        "  result1 += num\n",
        "  return result1\n",
        "\n",
        "def add(num):\n",
        "  global result2\n",
        "  result2 += num\n",
        "  return result2\n",
        "\n",
        "print(add(3))\n",
        "print(add(4))"
      ],
      "metadata": {
        "colab": {
          "base_uri": "https://localhost:8080/"
        },
        "id": "mNizQ2NwAiz6",
        "outputId": "c983b7ce-6819-448c-8004-b53200e44594"
      },
      "execution_count": null,
      "outputs": [
        {
          "output_type": "stream",
          "name": "stdout",
          "text": [
            "3\n",
            "7\n"
          ]
        }
      ]
    },
    {
      "cell_type": "code",
      "source": [
        "class calculator:\n",
        "  def __init__(self):\n",
        "    self.result = 0\n",
        "\n",
        "  def add(self, num):\n",
        "    self.result += num\n",
        "    return self.result\n",
        "\n",
        "cal1 = calculator()\n",
        "cal2 = calculator()\n",
        "\n",
        "print(cal1.add(3))\n",
        "print(cal1.add(4))\n",
        "print(cal2.add(3))\n",
        "print(cal2.add(7))"
      ],
      "metadata": {
        "colab": {
          "base_uri": "https://localhost:8080/"
        },
        "id": "KLTYj3SSA6SK",
        "outputId": "ac604526-5504-4224-982d-974813de52b2"
      },
      "execution_count": null,
      "outputs": [
        {
          "output_type": "stream",
          "name": "stdout",
          "text": [
            "3\n",
            "7\n",
            "3\n",
            "10\n"
          ]
        }
      ]
    },
    {
      "cell_type": "markdown",
      "source": [
        "#사칙연산"
      ],
      "metadata": {
        "id": "w8JHIiByBpU-"
      }
    },
    {
      "cell_type": "code",
      "source": [
        "class FouCal:\n",
        "  def __init__(self,first,second):\n",
        "    self.first = first\n",
        "    self.second = second\n",
        "\n",
        "  def setdata(self, first, second):\n",
        "    self.first = first\n",
        "    self.second = second\n",
        "\n",
        "  def add(self):\n",
        "    return self.first + self.second\n",
        "\n",
        "  def mul(self):\n",
        "    return self.first * self.second\n",
        "\n",
        "  def sub(self):\n",
        "    return self.first - self.second\n",
        "\n",
        "  def div(self):\n",
        "    return self.first / self.second\n",
        "\n",
        "a = FouCal(10,5)\n",
        "#a.setdata(4,2)\n",
        "print(a.add())\n",
        "print(a.mul())\n",
        "print(a.sub())\n",
        "print(a.div())"
      ],
      "metadata": {
        "colab": {
          "base_uri": "https://localhost:8080/"
        },
        "id": "93KNi_XrBpHS",
        "outputId": "3f2e0217-833a-4032-90d3-c218943b1e81"
      },
      "execution_count": null,
      "outputs": [
        {
          "output_type": "stream",
          "name": "stdout",
          "text": [
            "15\n",
            "50\n",
            "5\n",
            "2.0\n"
          ]
        }
      ]
    },
    {
      "cell_type": "markdown",
      "source": [
        "#생성자\n",
        "__init__ 매서드를 생성자라고 부른다\n",
        "\n",
        "객체가 생성될 때 자동 호출된다"
      ],
      "metadata": {
        "id": "N7VMB-z8De51"
      }
    },
    {
      "cell_type": "code",
      "source": [
        "class FourCal:\n",
        "  def __init__(self,first,second):\n",
        "    self.first = first\n",
        "    self.second = second\n",
        "    print(\"객체 생성\")\n",
        "\n",
        "  def add(self):\n",
        "    return self.first + self.second"
      ],
      "metadata": {
        "id": "6kxpmCO0B0mo"
      },
      "execution_count": null,
      "outputs": []
    },
    {
      "cell_type": "markdown",
      "source": [
        "#클래스의 상속\n",
        "상속이란 물려받다라는 뜻으로 재산을 상속받다의 상속과 같은 의미이다.\n",
        "\n",
        "상속받으면 기존 클래스의 기능을 그대로 사용할 수 있다.\n",
        "\n",
        "위에 만들었던 사칙연산 클래스 FouCal을 사용하여 다른 기능들을 추가한다."
      ],
      "metadata": {
        "id": "g1ejUhUgEIf7"
      }
    },
    {
      "cell_type": "markdown",
      "source": [
        "#상속 기능을 사용하는 이유\n",
        "상속은 기존 클래스를 변경하지 않고 기능을 추가하거나 기존 기능을 변경하려고 할 때 사용한다.\n",
        "\n",
        "근데 클래스에 기능을 추가하고 싶으면 기존 클래스에 수정하는 되는데 왜 상속을 받아서 처리를 하지?\n",
        "\n",
        "기존 클래스가 라이브러리 형태로 제공되거나 수정이 가능하지 않은 상황에 상속을 사용한다."
      ],
      "metadata": {
        "id": "vzjxv-gkJwpu"
      }
    },
    {
      "cell_type": "code",
      "source": [
        "class moreFourCal(FouCal):\n",
        "  def pow(self):\n",
        "    return self.first ** self.second\n",
        "\n",
        "b = moreFourCal(4,2)\n",
        "print(b.pow())\n",
        "print(b.add())"
      ],
      "metadata": {
        "colab": {
          "base_uri": "https://localhost:8080/"
        },
        "id": "Zz0Rkv_bE7l8",
        "outputId": "d9d89dc4-3109-46d9-a3c0-7da4286c3dfa"
      },
      "execution_count": null,
      "outputs": [
        {
          "output_type": "stream",
          "name": "stdout",
          "text": [
            "16\n",
            "6\n"
          ]
        }
      ]
    },
    {
      "cell_type": "markdown",
      "source": [
        "#매서드 오버라이딩\n",
        "FouCal 클래스에 있는 div 매서드를 동일한 이름으로 다시 작성했다.\n",
        "\n",
        "이렇게 부모 클래스에 있는 매서드를 동일한 이름으로 다시 사용하는 것을 매서드 오버라이딩 이라고한다.\n",
        "\n",
        "매서드 오버라이딩 하면 부모 클래스의 매서드 대신 오버라이딩한 매서드가 호출된다."
      ],
      "metadata": {
        "id": "MBFJrJM3KTZW"
      }
    },
    {
      "cell_type": "code",
      "source": [
        "class SafeFourCal(FouCal):\n",
        "  def div(self):\n",
        "    if self.second == 0:\n",
        "      return 0\n",
        "    else:\n",
        "      return self.frist / self.second\n",
        "\n",
        "c = SafeFourCal(4,0)\n",
        "print(c.div())\n",
        "d = FouCal(4,1)\n",
        "print(d.div())"
      ],
      "metadata": {
        "colab": {
          "base_uri": "https://localhost:8080/"
        },
        "id": "f75ms-9MF-zl",
        "outputId": "03f203a7-043f-4e53-d08e-f7155db5116d"
      },
      "execution_count": null,
      "outputs": [
        {
          "output_type": "stream",
          "name": "stdout",
          "text": [
            "0\n",
            "4.0\n"
          ]
        }
      ]
    }
  ]
}