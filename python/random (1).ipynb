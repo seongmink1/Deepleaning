{
  "nbformat": 4,
  "nbformat_minor": 0,
  "metadata": {
    "colab": {
      "provenance": []
    },
    "kernelspec": {
      "name": "python3",
      "display_name": "Python 3"
    },
    "language_info": {
      "name": "python"
    }
  },
  "cells": [
    {
      "cell_type": "markdown",
      "source": [
        "#Random 모듈\n",
        "무작위 값을 생성할 때 사용하는 파이썬 표준 라이브러리\n",
        "\n",
        "주로 난수 생성, 무작위 선택, 섞기 등에 사용\n",
        "\n",
        "import random 명령어를 통해 사용가능"
      ],
      "metadata": {
        "id": "RRNVlfFrdkQ_"
      }
    },
    {
      "cell_type": "code",
      "execution_count": null,
      "metadata": {
        "id": "5tQ1xBc0djzs"
      },
      "outputs": [],
      "source": []
    },
    {
      "cell_type": "markdown",
      "source": [
        "#관련 함수\n",
        "random.random 0~1사이 실수 반환\n",
        "\n",
        "random.randint a~b 사이 정수 반환\n",
        "\n",
        "random.choice 시퀀스에서 하나 선택\n",
        "\n",
        "random.sample 시퀀스에서 k개 샘플 추출\n",
        "\n",
        "random.shuffle 리스트 섞기\n",
        "\n",
        "random.seed 난수 고정\n"
      ],
      "metadata": {
        "id": "EjKFQ388dz1V"
      }
    },
    {
      "cell_type": "code",
      "source": [
        "import random\n",
        "\n",
        "print(random.random())\n",
        "print(random.random()*1000)\n",
        "print(random.randint(1,10))\n",
        "\n",
        "list1 = [1,2,3,4,5,6,7,8,9,10]\n",
        "print(random.choice(list1))\n",
        "text = \"asddsfsfhsfdsefa\"\n",
        "\n",
        "print(random.sample(list1,3))\n",
        "print(random.sample(text,5))\n",
        "\n"
      ],
      "metadata": {
        "colab": {
          "base_uri": "https://localhost:8080/"
        },
        "id": "mr2dkoDUeWO8",
        "outputId": "c8343118-4695-44df-c2bc-873abc5ea87d"
      },
      "execution_count": 13,
      "outputs": [
        {
          "output_type": "stream",
          "name": "stdout",
          "text": [
            "0.9478904712606687\n",
            "8.420531798546183\n",
            "2\n",
            "4\n",
            "[5, 9, 7]\n",
            "['s', 'f', 'd', 'f', 'a']\n"
          ]
        }
      ]
    },
    {
      "cell_type": "markdown",
      "source": [
        "#가위 바위 보 게임 만들기\n",
        "\n",
        "*   random 모듈을 사용하여 컴퓨터가 가위 바위 보 중 무작위로 하나를 선택하게 만든다\n",
        "*   사용자로부터 가위 바위 보 중 하나를 입력받는다.\n",
        "*   사용자가 입력한 값이 가위 바위 보 가 아닐경우 올바른 문자를 입력해주세요.를 출력한다\n",
        "\n",
        "*   사용자와 컴퓨터의 선택을 비교하여 결과를 출력한다\n",
        "\n",
        "사용자의 승리 패배 무승부 출력\n",
        "\n"
      ],
      "metadata": {
        "id": "hz14ZE-MfsOA"
      }
    },
    {
      "cell_type": "code",
      "source": [
        "list1 = [\"가위\",\"바위\",\"보\"]\n",
        "com = random.choice(list1)\n",
        "\n",
        "my = input(\"'가위', '바위', '보' 중 하나를 입력해주세요\")\n",
        "if my == \"가위\" or \"바위\" or \"보\":\n",
        "  print(f\"사용자:{my}, 컴퓨터:{com}\")\n",
        "  if (my == \"가위\" and com == \"보\") or  (my == \"바위\" and com == \"가위\") or (my == \"보\" and com == \"바위\"):\n",
        "    print(\"승리\")\n",
        "  elif (my == \"가위\" and com == \"바위\") or (my == \"바위\" and com == \"보\") or (my == \"보\" and com == \"가위\"):\n",
        "    print(\"패배\")\n",
        "  else:\n",
        "    print(\"무승부\")\n",
        "else:\n",
        "  print(\"올바른 문자를 입력해주세요.\")\n",
        "\n"
      ],
      "metadata": {
        "colab": {
          "base_uri": "https://localhost:8080/"
        },
        "id": "_nJ8lBBSgF8u",
        "outputId": "e14a7196-b2cb-4734-de7a-57efd5013b88"
      },
      "execution_count": 112,
      "outputs": [
        {
          "output_type": "stream",
          "name": "stdout",
          "text": [
            "'가위', '바위', '보' 중 하나를 입력해주세요보\n",
            "사용자:보, 컴퓨터:가위\n",
            "패배\n"
          ]
        }
      ]
    },
    {
      "cell_type": "markdown",
      "source": [
        "#로또 번호 추첨기 만들기\n",
        "요구사항\n",
        "\n",
        "*   random 모듈을 사용하여 로또 번호를 생성한다\n",
        "\n",
        "*   로또 번호는 1부터 45사이의 숫자 중 중복 없이 6개를 뽑는다\n",
        "*   6개의 번호를 오름차순으로 정렬하여 출력한다.\n",
        "\n",
        "\n"
      ],
      "metadata": {
        "id": "LPd8ho1o49DJ"
      }
    },
    {
      "cell_type": "code",
      "source": [
        "list=[]\n",
        "for i in range(1,46):\n",
        "  list.append(i)\n",
        "\n",
        "a=random.sample(list,6)\n",
        "a.sort()\n",
        "print(a)"
      ],
      "metadata": {
        "colab": {
          "base_uri": "https://localhost:8080/"
        },
        "id": "R5RMfl1lGJ-t",
        "outputId": "deffb4f0-7b21-459c-c55b-5f1f8fe68372"
      },
      "execution_count": 110,
      "outputs": [
        {
          "output_type": "stream",
          "name": "stdout",
          "text": [
            "[1, 10, 16, 34, 36, 41]\n"
          ]
        }
      ]
    }
  ]
}