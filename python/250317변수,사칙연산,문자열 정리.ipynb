{
  "nbformat": 4,
  "nbformat_minor": 0,
  "metadata": {
    "colab": {
      "provenance": []
    },
    "kernelspec": {
      "name": "python3",
      "display_name": "Python 3"
    },
    "language_info": {
      "name": "python"
    }
  },
  "cells": [
    {
      "cell_type": "markdown",
      "source": [
        "#변수란?\n",
        "파이썬에서 사용하는 변수는 객체를 가리키는 것이라고도 말할 수 있다.\n",
        "\n",
        "객체란 우리가 지금까지 보아 온 자료형의 데이터(값)와 같은 것을 의미하는 말이다."
      ],
      "metadata": {
        "id": "wPamlMrWoUl5"
      }
    },
    {
      "cell_type": "code",
      "source": [
        "#1. 변수 a에 10 저장\n",
        "a = 10\n",
        "#2. 변수 a 출력\n",
        "print(a)\n",
        "\n",
        "#3. 변수 a에 20저장\n",
        "a = 20\n",
        "#4, 변수 a 출력\n",
        "print(a)"
      ],
      "metadata": {
        "colab": {
          "base_uri": "https://localhost:8080/"
        },
        "id": "tM-VCO0RjmDK",
        "outputId": "6f360533-113b-4cf1-d7b7-f54e70ab8756"
      },
      "execution_count": 3,
      "outputs": [
        {
          "output_type": "stream",
          "name": "stdout",
          "text": [
            "10\n",
            "20\n"
          ]
        }
      ]
    },
    {
      "cell_type": "markdown",
      "source": [
        "#변수 만드는법\n",
        "변수 선언 : 변수이름 = 값\n",
        "\n",
        "변수가 자료형을 스스로 판단하여 지정해준다.\n",
        "\n",
        "type() 함수를 사용하여 변수의 자료형을 확인할 수 있다."
      ],
      "metadata": {
        "id": "Vo_tMiHgpDNe"
      }
    },
    {
      "cell_type": "code",
      "source": [
        "a = 10\n",
        "b = 10.123\n",
        "c = 0o111\n",
        "d = 0x88F\n",
        "\n",
        "print(a)\n",
        "print(b)  #변수 값 출력\n",
        "print(c)\n",
        "print(d)\n",
        "\n",
        "print(type(a))\n",
        "print(type(b))  #변수의 자료형 출력 후 확인\n",
        "print(type(c))\n",
        "print(type(d))"
      ],
      "metadata": {
        "colab": {
          "base_uri": "https://localhost:8080/"
        },
        "id": "qhjgVnxnkfNs",
        "outputId": "09118c78-6c8c-4129-f530-69b4f60b8ef1"
      },
      "execution_count": 4,
      "outputs": [
        {
          "output_type": "stream",
          "name": "stdout",
          "text": [
            "10\n",
            "10.123\n",
            "73\n",
            "2191\n",
            "<class 'int'>\n",
            "<class 'float'>\n",
            "<class 'int'>\n",
            "<class 'int'>\n"
          ]
        }
      ]
    },
    {
      "cell_type": "markdown",
      "source": [
        "#숫자형을 활용하기 위한 연산자\n",
        "더하기, 빼기, 곱하기, 나누기를 활용한 사칙연산\n",
        "\n",
        "**(제곱),  %(나머지),  //(몫)"
      ],
      "metadata": {
        "id": "MRDHyN80q-ux"
      }
    },
    {
      "cell_type": "code",
      "source": [
        "#사칙연산\n",
        "a = 10\n",
        "b = 5\n",
        "result = a + b  #더하기\n",
        "print(result)\n",
        "\n",
        "result = a - b  #빼기\n",
        "print(result)\n",
        "\n",
        "result = a * b  #곱하기\n",
        "print(result)\n",
        "\n",
        "result = a / b  #나누기(나누기는 항상 실수형으로 답이 나옴.)\n",
        "print(result)\n",
        "\n",
        "result = a % b  #나머지값\n",
        "print(result)\n",
        "\n",
        "result = a ** b #제곱\n",
        "print(result)\n",
        "\n",
        "result = a // b #몫\n",
        "print(result)\n",
        "\n",
        "result = 2 + 3 * 4  #곱하기 먼저\n",
        "print(result)\n",
        "\n",
        "result = (2 + 3) * 4  #괄호 먼저\n",
        "print(result)"
      ],
      "metadata": {
        "colab": {
          "base_uri": "https://localhost:8080/"
        },
        "id": "DW-n9ylTkUEh",
        "outputId": "cdea4bb5-7aae-4991-e7d0-7d4608dc1bea"
      },
      "execution_count": 18,
      "outputs": [
        {
          "output_type": "stream",
          "name": "stdout",
          "text": [
            "15\n",
            "5\n",
            "50\n",
            "2.0\n",
            "0\n",
            "100000\n",
            "2\n",
            "14\n",
            "20\n"
          ]
        }
      ]
    },
    {
      "cell_type": "markdown",
      "source": [
        "#문자열을 만들고 사용하기\n",
        "\n",
        "*     \"큰따옴표로 양쪽 둘러싸기\"\n",
        "*     '작은따옴표로 양쪽 둘러싸기'\n",
        "*   \"\"\"큰따옴표 3개를 연속으로 써서 양쪽 둘러싸기\"\"\"\n",
        "*   '''작은따옴표 3개를 연속으로 써서 양쪽 둘러싸기'''\n",
        "\n"
      ],
      "metadata": {
        "id": "As411vH1ss4r"
      }
    },
    {
      "cell_type": "code",
      "source": [
        "a = 'a , 누구는 말했다.\"최선을 다하라\"\\n' #작은 따옴표로 문자열 만들기\n",
        "print(a)\n",
        "\n",
        "b = 'b , 누구는 말했다.\"최선을 다하라\"\\n' #줄이 바뀌면 에러\n",
        "print(b)\n",
        "\n",
        "c = '''c, 안\"녕\n",
        "하'세'\n",
        "요\\n'''\n",
        "print(c)    #작은 따옴표 3개를 써서 줄이 바뀌어도 에러가 나지 않음.\n",
        "\n",
        "d = \"\"\"안녕하\n",
        "세요\"\"\"\n",
        "print(d)  #큰 따옴표 3개를 사용 작은 따옴표와 마찬가지\n"
      ],
      "metadata": {
        "colab": {
          "base_uri": "https://localhost:8080/"
        },
        "id": "PRz1v51wpv46",
        "outputId": "3cb56ab0-4695-484a-8d02-caa73d057536"
      },
      "execution_count": 7,
      "outputs": [
        {
          "output_type": "stream",
          "name": "stdout",
          "text": [
            "a , 누구는 말했다.\"최선을 다하라\"\n",
            "\n",
            "b , 누구는 말했다.\"최선을 다하라\"\n",
            "\n",
            "c, 안\"녕\n",
            "하'세'\n",
            "요\n",
            "\n",
            "안녕하\n",
            "세요\n"
          ]
        }
      ]
    },
    {
      "cell_type": "markdown",
      "source": [
        "#이스케이프 코드\n",
        "이스케이프 코드란?\n",
        "\n",
        "문자열 예제에서 여러 줄의 문장을 처리할 때 역슬래시 문자와 소문자 n을 조합한 \\n 이스케이프 코드를 사용했다.\n",
        "\n",
        "이스케이프(escape) 코드란 프로그래밍할 때 사용할 수 있도록 미리 정의해 둔 ‘문자 조합’을 말한다.\n",
        "\n",
        "주로 출력물을 보기 좋게 정렬하는 용도로 사용한다. 몇 가지 이스케이프 코드를 정리하면 다음과 같다."
      ],
      "metadata": {
        "id": "kaRPwUq_tQHC"
      }
    },
    {
      "cell_type": "code",
      "source": [
        "a = 'a , 누구는 말했다.\"최선을 다하라\"\\n' #\\n으로 줄 바꿈\n",
        "print(a)\n",
        "\n",
        "b = \"115\\t23\\t4516\" #\\t 사용으로 중간중간 탭 만큼 간격을 줌\n",
        "c = \"1\\t31255\\t456\"\n",
        "print(b)\n",
        "print(c)"
      ],
      "metadata": {
        "colab": {
          "base_uri": "https://localhost:8080/"
        },
        "id": "6Ox198BmrCTb",
        "outputId": "be97ac28-b99e-4eb9-b4b3-4eb64fe435c2"
      },
      "execution_count": 8,
      "outputs": [
        {
          "output_type": "stream",
          "name": "stdout",
          "text": [
            "a , 누구는 말했다.\"최선을 다하라\"\n",
            "\n",
            "115\t23\t4516\n",
            "1\t31255\t456\n"
          ]
        }
      ]
    },
    {
      "cell_type": "markdown",
      "source": [
        "#문자열 연산하기\n",
        "파이썬에서는 문자열을 더하거나 곱할 수 있다.\n",
        "\n",
        " 이는 다른 언어에서는 쉽게 찾아볼 수 없는 재미있는 기능으로, 우리 생각을 그대로 반영해 주는 파이썬만의 장점이라고 할 수 있다."
      ],
      "metadata": {
        "id": "A3jczztytdVf"
      }
    },
    {
      "cell_type": "code",
      "source": [
        "a1 = \"python \"\n",
        "a2 = \"is good\"\n",
        "\n",
        "text = a1 + a2  #문자열을 더해서 합침\n",
        "print(text)\n",
        "\n",
        "text1 = a1 * 5  #문자열에 5를 곱하여 5개의 문자열이 나옴\n",
        "print(text1)\n",
        "print(a2*3)     #변수가 아닌 출력으로도 바로 문자열 곱하기"
      ],
      "metadata": {
        "colab": {
          "base_uri": "https://localhost:8080/"
        },
        "id": "uA3AEPQhrs6B",
        "outputId": "155660e1-d6c0-495a-98fe-50b53f25c05d"
      },
      "execution_count": 19,
      "outputs": [
        {
          "output_type": "stream",
          "name": "stdout",
          "text": [
            "python is good\n",
            "python python python python python \n",
            "is goodis goodis good\n"
          ]
        }
      ]
    },
    {
      "cell_type": "markdown",
      "source": [
        "#문자열 인덱싱\n",
        "파이썬에서는 0부터 시작하는 순차 인덱싱 처리도 가능하고, 역순 번호를 이용한 인덱싱도 가능합니다.\n",
        "\n",
        "역순 인덱싱 사용에는 항상 마지막 문자를 기준으로 -1부터 시작합니다."
      ],
      "metadata": {
        "id": "pEJ-KYlruBid"
      }
    },
    {
      "cell_type": "code",
      "source": [
        "#문자열 인덱싱\n",
        "text = \"python good\"\n",
        "\"\"\"python good   첫 문자열 부터 [0]으로 시작하고 공백 포함 [10]까지 되어있음\n",
        "   마이너스로 하면 역순으로 [-11]로 시작하고 [-1]로 끝남\"\"\"\n",
        "a = text[0]\n",
        "aa = text[-11]\n",
        "print(a)\n",
        "print(aa)\n",
        "\n",
        "b = text[6]\n",
        "print(b)\n",
        "\n",
        "c = text[7]\n",
        "cc = text[-4]\n",
        "print(c)\n",
        "\n",
        "d = text[8]\n",
        "print(d)\n",
        "\n",
        "e = text[9]\n",
        "print(e)\n",
        "print(text[-11])\n",
        "print(text[10])"
      ],
      "metadata": {
        "colab": {
          "base_uri": "https://localhost:8080/"
        },
        "id": "kzFizFqOsJyR",
        "outputId": "c17ab3c5-50b4-43a9-db1f-f3f6c3d7d36f"
      },
      "execution_count": 67,
      "outputs": [
        {
          "output_type": "stream",
          "name": "stdout",
          "text": [
            "p\n",
            "p\n",
            " \n",
            "g\n",
            "o\n",
            "o\n",
            "p\n",
            "d\n"
          ]
        }
      ]
    },
    {
      "cell_type": "markdown",
      "source": [
        "#문자열 슬라이싱\n",
        "문자열 인덱스 번호를 활용하여 한 문자 이상을 추출해 내는 방법입니다.\n",
        "\n",
        "출력되는 문자열의 경우, 진행 방향에 따라 종료 인덱스 번호의 이전까지 출력 됩니다."
      ],
      "metadata": {
        "id": "_p7_NTwvuZPX"
      }
    },
    {
      "cell_type": "code",
      "source": [
        "#문자열 슬라이싱\n",
        "text = \"python is good\"\n",
        "#하나의 문자만 뽑아내는게 아니라 여러 문자를 합칠 때 사용\n",
        "print(text[10]+text[11]+text[12]+text[13])\n",
        "print(text[10:14]) #[10] ~ [13]까지 출력\n",
        "print(text[10:])   #[10] ~ 끝까지 출력\n",
        "\n",
        "print(text[0]+text[1]+text[2]+text[3]+text[4]+text[5])\n",
        "\n",
        "\n"
      ],
      "metadata": {
        "colab": {
          "base_uri": "https://localhost:8080/"
        },
        "id": "FhHTDL5CtwhM",
        "outputId": "03a7255c-a502-4890-db82-dc0de32a6258"
      },
      "execution_count": 31,
      "outputs": [
        {
          "output_type": "stream",
          "name": "stdout",
          "text": [
            "good\n",
            "good\n",
            "good\n",
            "python\n"
          ]
        }
      ]
    },
    {
      "cell_type": "markdown",
      "source": [
        "\n"
      ],
      "metadata": {
        "id": "6uZFpOAOQbmj"
      }
    },
    {
      "cell_type": "markdown",
      "source": [
        "#문자열 길이 구하기(len)"
      ],
      "metadata": {
        "id": "MCCWr0RcumnK"
      }
    },
    {
      "cell_type": "code",
      "source": [
        "text = \"i love\\tpython.\"\n",
        "print(text)\n",
        "print(len(text))"
      ],
      "metadata": {
        "colab": {
          "base_uri": "https://localhost:8080/"
        },
        "id": "aFStRPpWuUa9",
        "outputId": "9d82e3d0-c839-4f01-b34b-79d154d7b252"
      },
      "execution_count": 10,
      "outputs": [
        {
          "output_type": "stream",
          "name": "stdout",
          "text": [
            "i love\tpython.\n",
            "14\n"
          ]
        }
      ]
    },
    {
      "cell_type": "markdown",
      "source": [
        "#같은 문자의 개수 구하기(count)"
      ],
      "metadata": {
        "id": "FIDKXEAAutip"
      }
    },
    {
      "cell_type": "code",
      "source": [
        "text = \"python is good\"\n",
        "print(text.count('o'))\n",
        "print(text.count('a'))"
      ],
      "metadata": {
        "colab": {
          "base_uri": "https://localhost:8080/"
        },
        "id": "P4QlnV9NuwM8",
        "outputId": "0106dcb3-1c86-49c4-e68f-a62b7990706a"
      },
      "execution_count": 37,
      "outputs": [
        {
          "output_type": "stream",
          "name": "stdout",
          "text": [
            "3\n",
            "0\n"
          ]
        }
      ]
    },
    {
      "cell_type": "markdown",
      "source": [
        "#문자열의 첫 위치 찾기(find)\n",
        "없는 문자열이면 -1값을 준다"
      ],
      "metadata": {
        "id": "8JczCmXuu05y"
      }
    },
    {
      "cell_type": "code",
      "source": [
        "text = \"python is good\"\n",
        "print(text.find(\"d\"))\n",
        "print(text.find(\"o\"))\n",
        "print(text.find(\" \"))\n",
        "print(text.find(\"a\"))\n"
      ],
      "metadata": {
        "colab": {
          "base_uri": "https://localhost:8080/"
        },
        "id": "1hineBmufjEl",
        "outputId": "959087c9-864e-454f-c05e-5b7296a8607c"
      },
      "execution_count": 57,
      "outputs": [
        {
          "output_type": "stream",
          "name": "stdout",
          "text": [
            "13\n",
            "4\n",
            "-1\n"
          ]
        }
      ]
    },
    {
      "cell_type": "markdown",
      "source": [
        "#find와 같이 문자열의 첫 위치를 찾아준다(index)\n",
        "다른점은 없는 문자열을 찾으면 오류가 난다"
      ],
      "metadata": {
        "id": "-FZir_uSu5pP"
      }
    },
    {
      "cell_type": "code",
      "source": [
        "text = \"python is good\"\n",
        "print(text.index(\"d\"))\n",
        "print(text.index(\"o\"))\n",
        "print(text.index(\" \"))\n",
        "print(text.index(\"a\")) #없는 문자라 오류를 발생시킴"
      ],
      "metadata": {
        "colab": {
          "base_uri": "https://localhost:8080/",
          "height": 228
        },
        "id": "Ur1KGYDPfi5S",
        "outputId": "47051395-41ba-4e8f-c606-8ded4501fa27"
      },
      "execution_count": 58,
      "outputs": [
        {
          "output_type": "stream",
          "name": "stdout",
          "text": [
            "13\n",
            "4\n",
            "6\n"
          ]
        },
        {
          "output_type": "error",
          "ename": "ValueError",
          "evalue": "substring not found",
          "traceback": [
            "\u001b[0;31m---------------------------------------------------------------------------\u001b[0m",
            "\u001b[0;31mValueError\u001b[0m                                Traceback (most recent call last)",
            "\u001b[0;32m<ipython-input-58-e9a1652babdd>\u001b[0m in \u001b[0;36m<cell line: 0>\u001b[0;34m()\u001b[0m\n\u001b[1;32m      3\u001b[0m \u001b[0mprint\u001b[0m\u001b[0;34m(\u001b[0m\u001b[0mtext\u001b[0m\u001b[0;34m.\u001b[0m\u001b[0mindex\u001b[0m\u001b[0;34m(\u001b[0m\u001b[0;34m\"o\"\u001b[0m\u001b[0;34m)\u001b[0m\u001b[0;34m)\u001b[0m\u001b[0;34m\u001b[0m\u001b[0;34m\u001b[0m\u001b[0m\n\u001b[1;32m      4\u001b[0m \u001b[0mprint\u001b[0m\u001b[0;34m(\u001b[0m\u001b[0mtext\u001b[0m\u001b[0;34m.\u001b[0m\u001b[0mindex\u001b[0m\u001b[0;34m(\u001b[0m\u001b[0;34m\" \"\u001b[0m\u001b[0;34m)\u001b[0m\u001b[0;34m)\u001b[0m\u001b[0;34m\u001b[0m\u001b[0;34m\u001b[0m\u001b[0m\n\u001b[0;32m----> 5\u001b[0;31m \u001b[0mprint\u001b[0m\u001b[0;34m(\u001b[0m\u001b[0mtext\u001b[0m\u001b[0;34m.\u001b[0m\u001b[0mindex\u001b[0m\u001b[0;34m(\u001b[0m\u001b[0;34m\"a\"\u001b[0m\u001b[0;34m)\u001b[0m\u001b[0;34m)\u001b[0m\u001b[0;34m\u001b[0m\u001b[0;34m\u001b[0m\u001b[0m\n\u001b[0m",
            "\u001b[0;31mValueError\u001b[0m: substring not found"
          ]
        }
      ]
    },
    {
      "cell_type": "markdown",
      "source": [
        "#문자열 사이에 문자열 삽입(join)"
      ],
      "metadata": {
        "id": "BclEafKFvQAr"
      }
    },
    {
      "cell_type": "code",
      "source": [
        "text = \"python is good\"\n",
        "\n",
        "print(','.join(text))"
      ],
      "metadata": {
        "colab": {
          "base_uri": "https://localhost:8080/"
        },
        "id": "4qWaos8ju8j7",
        "outputId": "81689ca6-9173-474f-d645-963761f4ed30"
      },
      "execution_count": 33,
      "outputs": [
        {
          "output_type": "stream",
          "name": "stdout",
          "text": [
            "p,y,t,h,o,n, ,i,s, ,g,o,o,d\n"
          ]
        }
      ]
    },
    {
      "cell_type": "markdown",
      "source": [
        "#문자열의 소문자를 대문자로 바꾸기(upper)"
      ],
      "metadata": {
        "id": "9NDFB_YpvVR7"
      }
    },
    {
      "cell_type": "code",
      "source": [
        "text1 = \"python is good\"\n",
        "text2 = \"PYTHON IS GOOD\"\n",
        "\n",
        "print(text1.upper())\n",
        "print(text2.upper())"
      ],
      "metadata": {
        "colab": {
          "base_uri": "https://localhost:8080/"
        },
        "id": "KJddw10_vPwT",
        "outputId": "2b16852b-4223-41fb-d99a-4ae38d27b613"
      },
      "execution_count": 39,
      "outputs": [
        {
          "output_type": "stream",
          "name": "stdout",
          "text": [
            "PYTHON IS GOOD\n",
            "PYTHON IS GOOD\n"
          ]
        }
      ]
    },
    {
      "cell_type": "markdown",
      "source": [
        "#문자열의 대문자를 소문자로 바꾸기(lower)"
      ],
      "metadata": {
        "id": "7mncCJksvZ3T"
      }
    },
    {
      "cell_type": "code",
      "source": [
        "text1 = \"python is good\"\n",
        "text2 = \"PYTHON IS GOOD\"\n",
        "\n",
        "print(text1.lower())\n",
        "print(text2.lower())"
      ],
      "metadata": {
        "colab": {
          "base_uri": "https://localhost:8080/"
        },
        "id": "nD2wh3LlvdrT",
        "outputId": "d66ed058-1679-41d3-df17-2645af764b47"
      },
      "execution_count": 40,
      "outputs": [
        {
          "output_type": "stream",
          "name": "stdout",
          "text": [
            "python is good\n",
            "python is good\n"
          ]
        }
      ]
    },
    {
      "cell_type": "markdown",
      "source": [
        "#문자열의 공백 지우기(strip)"
      ],
      "metadata": {
        "id": "dXBzq28Xvdk6"
      }
    },
    {
      "cell_type": "code",
      "source": [
        "text = \"  hi  \"\n",
        "\n",
        "print(text)\n",
        "print(text.strip()) #문자열의 양쪽 끝에 있는 연속되는 공백을 지운다\n",
        "print(text.lstrip()) #문자열의 왼쪽 끝에 있는 연속되는 공백을 지운다\n",
        "print(text.rstrip()) #문자열의 오른쪽 끝에 있는 연속되는 공백을 지운다"
      ],
      "metadata": {
        "colab": {
          "base_uri": "https://localhost:8080/"
        },
        "id": "ie64l3fAviLC",
        "outputId": "a8aef963-ca59-4f0c-cd83-d021c7501673"
      },
      "execution_count": 60,
      "outputs": [
        {
          "output_type": "stream",
          "name": "stdout",
          "text": [
            "  hi  \n",
            "hi\n",
            "hi  \n",
            "  hi\n"
          ]
        }
      ]
    },
    {
      "cell_type": "markdown",
      "source": [
        "#문자열 나누기(split)"
      ],
      "metadata": {
        "id": "n-XatYwtvjKf"
      }
    },
    {
      "cell_type": "code",
      "source": [
        "text = \"python is good\"\n",
        "print(text.split()) #split의 괄호안에 아무것도 넣지 않으면 공백을 기준으로 문자열을 나누어준다\n",
        "\n",
        "text1 = \"a,b,c,d,e\"\n",
        "print(text1.split(','))#괄호안에 넣은 ,로 문자열을 하나씩 나누어 준다"
      ],
      "metadata": {
        "colab": {
          "base_uri": "https://localhost:8080/"
        },
        "id": "SMx-9UkhvugD",
        "outputId": "5da1575e-0a5c-4d90-9817-26eb29f6270e"
      },
      "execution_count": 66,
      "outputs": [
        {
          "output_type": "stream",
          "name": "stdout",
          "text": [
            "['python', 'is', 'good']\n",
            "['a', 'b', 'c', 'd', 'e']\n"
          ]
        }
      ]
    },
    {
      "cell_type": "markdown",
      "source": [
        "#문자열, 정수, 실수 입력받기(input)"
      ],
      "metadata": {
        "id": "8JHbYgn0vq-M"
      }
    },
    {
      "cell_type": "code",
      "source": [
        "a = input('문자열을 입력해주세요: ') #문자열 입력받기\n",
        "b = int(input('정수를 입력해주세요: ')) #정수형 입력받기\n",
        "c = float(input('실수를을 입력해주세요: ')) #실수형 입력받기\n",
        "\n",
        "print(b+c) #입력받은 수를 더해서 출력"
      ],
      "metadata": {
        "colab": {
          "base_uri": "https://localhost:8080/"
        },
        "id": "cxhI3nDcypwe",
        "outputId": "67b1df9f-11dd-4e5a-e12b-db4e2f9e6c05"
      },
      "execution_count": 68,
      "outputs": [
        {
          "output_type": "stream",
          "name": "stdout",
          "text": [
            "문자열을 입력해주세요: 123\n",
            "정수를 입력해주세요: 123\n",
            "실수를을 입력해주세요: 123.123\n",
            "246.123\n"
          ]
        }
      ]
    }
  ]
}