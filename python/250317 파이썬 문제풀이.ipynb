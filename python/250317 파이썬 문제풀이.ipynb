{
  "nbformat": 4,
  "nbformat_minor": 0,
  "metadata": {
    "colab": {
      "provenance": []
    },
    "kernelspec": {
      "name": "python3",
      "display_name": "Python 3"
    },
    "language_info": {
      "name": "python"
    }
  },
  "cells": [
    {
      "cell_type": "markdown",
      "source": [
        "#전화번호 형식 바꾸기 문제\n",
        "\n",
        "*   010-1234-5678를 -를 제거한 01012345678 형식으로 바꾸기\n",
        "*   문자열 슬라이싱을 사용해도 상관없음\n",
        "\n"
      ],
      "metadata": {
        "id": "E_XCoVXqR0mR"
      }
    },
    {
      "cell_type": "code",
      "source": [
        "num = '010-1234-5678'\n",
        "\n",
        "num1 = num[0:3]+num[4:8]+num[9:]\n",
        "print(num1)\n",
        "num.replace(\"-\",\"\")\n",
        "#replace//"
      ],
      "metadata": {
        "colab": {
          "base_uri": "https://localhost:8080/",
          "height": 53
        },
        "id": "V-AQkBn7RzxJ",
        "outputId": "ece04acc-a169-4794-c0d4-599856de6253"
      },
      "execution_count": 82,
      "outputs": [
        {
          "output_type": "stream",
          "name": "stdout",
          "text": [
            "01012345678\n"
          ]
        },
        {
          "output_type": "execute_result",
          "data": {
            "text/plain": [
              "'01012345678'"
            ],
            "application/vnd.google.colaboratory.intrinsic+json": {
              "type": "string"
            }
          },
          "metadata": {},
          "execution_count": 82
        }
      ]
    },
    {
      "cell_type": "markdown",
      "source": [
        "# 새 섹션"
      ],
      "metadata": {
        "id": "nbASoKn4RvjV"
      }
    },
    {
      "cell_type": "markdown",
      "source": [
        "#제곱 문제\n",
        "사용자에게 입력받은 수의 제곱을 계산하여 출력하는 코드를 작성하시오.\n",
        "\n",
        "*   a=3,결과 -> 9출력\n",
        "*   b=5,결과 -> 25출력\n",
        "\n"
      ],
      "metadata": {
        "id": "l_4mx-IhSu3A"
      }
    },
    {
      "cell_type": "code",
      "source": [
        "a = int(input(\"a의 수 입력:\"))\n",
        "b = int(input(\"b의 수 입력:\"))\n",
        "\n",
        "a = a**2\n",
        "b = b**2\n",
        "print(\"a의 제곱 =\",a)\n",
        "print(\"b의 제곱 =\",b)"
      ],
      "metadata": {
        "colab": {
          "base_uri": "https://localhost:8080/"
        },
        "id": "GK__P-1bTdwT",
        "outputId": "275448a7-179e-48ff-933f-497b9c6e9817"
      },
      "execution_count": 19,
      "outputs": [
        {
          "output_type": "stream",
          "name": "stdout",
          "text": [
            "a의 수 입력:3\n",
            "b의 수 입력:5\n",
            "a의 제곱 = 9\n",
            "b의 제곱 = 25\n"
          ]
        }
      ]
    },
    {
      "cell_type": "markdown",
      "source": [
        "#제목글 변환 문제\n",
        "사용자에게 영어로된 문자열을 입력받고, 첫 문자만 대문자로 변경하시오.\n",
        "\n",
        "입력:i am a boy\n",
        "\n",
        "출력:I am a boy\n",
        "\n",
        "\n"
      ],
      "metadata": {
        "id": "TemcaMiGTd9b"
      }
    },
    {
      "cell_type": "markdown",
      "source": [],
      "metadata": {
        "id": "zgv9S3IgT39r"
      }
    },
    {
      "cell_type": "code",
      "source": [
        "text = input()\n",
        "text1 = text[0].upper()\n",
        "print(text1,text[2:])\n",
        "\n",
        "\n",
        "#print(text.capitalize())\n",
        "#upper() -> 전체를 대문자\n",
        "#첫 글자에만 upper()\n"
      ],
      "metadata": {
        "colab": {
          "base_uri": "https://localhost:8080/"
        },
        "id": "ISXmVVtkT42z",
        "outputId": "21c69b42-bf99-418d-f76f-78bcc54d3e9a"
      },
      "execution_count": 92,
      "outputs": [
        {
          "output_type": "stream",
          "name": "stdout",
          "text": [
            "i am a boy\n",
            "I am a boy\n"
          ]
        }
      ]
    },
    {
      "cell_type": "markdown",
      "source": [
        "#문자열 분활 문제\n",
        "카카오톡의 대화 정보는 다음과 같이 저장된다.\n",
        "\n",
        "\"2023년 1월 2일 오후 9:52, 유연휘 : 일단\"\n",
        "\n",
        "위 문장을, 날짜, 시간, 이름, 내용별로 분할해보자"
      ],
      "metadata": {
        "id": "dVhM56q_T5gT"
      }
    },
    {
      "cell_type": "code",
      "source": [
        "text = \"2023년 1월 2일 오후 9:52, 유연휘 : 일단\"\n",
        "print(\"날짜:\" + text[0:12])\n",
        "print(\"시간:\" + text[12:19])\n",
        "print(\"날짜:\" + text[21:24])\n",
        "print(\"내용:\" + text[27:29])"
      ],
      "metadata": {
        "colab": {
          "base_uri": "https://localhost:8080/"
        },
        "id": "jsdLKrMHULDT",
        "outputId": "8ae8a004-dbd2-4ef2-df1d-02b345555219"
      },
      "execution_count": 76,
      "outputs": [
        {
          "output_type": "stream",
          "name": "stdout",
          "text": [
            "날짜:2023년 1월 2일 \n",
            "시간:오후 9:52\n",
            "날짜:유연휘\n",
            "내용:일단\n"
          ]
        }
      ]
    },
    {
      "cell_type": "markdown",
      "source": [
        "#문자열 인덱싱,슬라이싱 문제\n",
        "\n",
        "문자열 인덱싱 또는 슬라이싱을 사용하여 년 월 일 날씨를 출력하시오.\n",
        "\n",
        "text = '20230601sunny'\n",
        "\n",
        "*   year = '2023'\n",
        "*   month = '06'\n",
        "*   day = '01'\n",
        "*   weather = 'sunny'\n",
        "\n",
        "\n",
        "\n"
      ],
      "metadata": {
        "id": "pp-FoUkRjeMz"
      }
    },
    {
      "cell_type": "code",
      "source": [
        "text = '20230601sunny'\n",
        "\n",
        "print(\"year = \" + text[0:4])\n",
        "print(\"month = \" + text[4:6])\n",
        "print(\"dayr = \" + text[6:8])\n",
        "print(\"weather = \" + text[8:])"
      ],
      "metadata": {
        "colab": {
          "base_uri": "https://localhost:8080/"
        },
        "id": "xQjMWbmLkSsq",
        "outputId": "cdd9f1ca-64c4-4169-ea63-eab6d866b9e9"
      },
      "execution_count": 77,
      "outputs": [
        {
          "output_type": "stream",
          "name": "stdout",
          "text": [
            "year = 2023\n",
            "month = 06\n",
            "dayr = 01\n",
            "weather = sunny\n"
          ]
        }
      ]
    }
  ]
}