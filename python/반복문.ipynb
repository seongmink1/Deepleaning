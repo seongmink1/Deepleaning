{
  "nbformat": 4,
  "nbformat_minor": 0,
  "metadata": {
    "colab": {
      "provenance": []
    },
    "kernelspec": {
      "name": "python3",
      "display_name": "Python 3"
    },
    "language_info": {
      "name": "python"
    }
  },
  "cells": [
    {
      "cell_type": "markdown",
      "source": [
        "#반복문\n"
      ],
      "metadata": {
        "id": "FfnwqDH3hX9C"
      }
    },
    {
      "cell_type": "markdown",
      "source": [
        "#while문\n",
        "주어진 조건이 참인 동안 코드를 반복 실행\n",
        "\n",
        "while 조건:\n",
        "  조건이 참인 경우 실행되는 문장(코드)"
      ],
      "metadata": {
        "id": "FZDuqPQPhbhK"
      }
    },
    {
      "cell_type": "code",
      "source": [
        "num = 0\n",
        "#while문 조건\n",
        "while num <= 5:\n",
        "  #조건이 참인 경우 실행되는 문장\n",
        "  print(num)\n",
        "  #조건을 변경시키는 문장을 항상 while문 내부에 포함시켜야함 그렇지 않으면 무한반복에 빠짐\n",
        "  num+=1 #num = num+1\n",
        "#마지막 num의 값은 6이되어 while문에서 빠져나온 후 이 문장을 출력\n",
        "print(\"while문이 종료된 후 num의 값은 %d입니다\"% num)"
      ],
      "metadata": {
        "colab": {
          "base_uri": "https://localhost:8080/"
        },
        "id": "KTjJ3BAahzE7",
        "outputId": "937eb1f4-d507-4409-b4f3-9e68cc8b6892"
      },
      "execution_count": null,
      "outputs": [
        {
          "output_type": "stream",
          "name": "stdout",
          "text": [
            "0\n",
            "1\n",
            "2\n",
            "3\n",
            "4\n",
            "5\n",
            "while문이 종료된 후 num의 값은 6입니다\n"
          ]
        }
      ]
    },
    {
      "cell_type": "markdown",
      "source": [
        "#Break문\n",
        "while문의 조건과 관계없이 강제로 탈출하는 명령어"
      ],
      "metadata": {
        "id": "eBVtl7agklr8"
      }
    },
    {
      "cell_type": "code",
      "source": [
        "while True:\n",
        "  print(\"True\")\n",
        "  break\n",
        "\n",
        "while False:\n",
        "  print(\"False\")"
      ],
      "metadata": {
        "colab": {
          "base_uri": "https://localhost:8080/"
        },
        "id": "AvJBQoOJk1PC",
        "outputId": "4ba6473d-2f7f-40a2-9731-98f5aedd1a6f"
      },
      "execution_count": null,
      "outputs": [
        {
          "output_type": "stream",
          "name": "stdout",
          "text": [
            "True\n"
          ]
        }
      ]
    },
    {
      "cell_type": "code",
      "source": [
        "num = 1\n",
        "\n",
        "while True:\n",
        "  print(num)\n",
        "  num += 1\n",
        "\n",
        "  if num >5:\n",
        "    break"
      ],
      "metadata": {
        "colab": {
          "base_uri": "https://localhost:8080/"
        },
        "id": "FHA0dRXEjhy7",
        "outputId": "6fa53e4d-8158-4456-a8cc-45f500ce3014"
      },
      "execution_count": null,
      "outputs": [
        {
          "output_type": "stream",
          "name": "stdout",
          "text": [
            "1\n",
            "2\n",
            "3\n",
            "4\n",
            "5\n"
          ]
        }
      ]
    },
    {
      "cell_type": "markdown",
      "source": [
        "#CONTINUE 명령어\n",
        "while문을 continue 아래의 문장을 무시하고 다음 루프로 실행시키는 코드\n",
        "\n",
        "continue를 만나는 순간 즉시 조건을 검색하러간다"
      ],
      "metadata": {
        "id": "iUviVxxEllHC"
      }
    },
    {
      "cell_type": "code",
      "source": [
        "num = 0\n",
        "while num <= 10:\n",
        "  num += 1\n",
        "\n",
        "  if num < 5:\n",
        "    continue  #num이 5미만일 때 continue문으로 인해 print문이 실행되지 않는다\n",
        "\n",
        "  print(num)"
      ],
      "metadata": {
        "colab": {
          "base_uri": "https://localhost:8080/"
        },
        "id": "5G02MQw_l7tb",
        "outputId": "54414e7e-bd8f-4332-fe43-29f8272e8eef"
      },
      "execution_count": null,
      "outputs": [
        {
          "output_type": "stream",
          "name": "stdout",
          "text": [
            "5\n",
            "6\n",
            "7\n",
            "8\n",
            "9\n",
            "10\n",
            "11\n"
          ]
        }
      ]
    },
    {
      "cell_type": "markdown",
      "source": [
        "#n보다 작거나 같은 3의 배수 합 구하기 예제\n",
        "사용자로부터 정수n을 입력받는다.\n",
        "\n",
        "while 반복문을 사용하여 1부터 n까지의 숫자중 3의 배수만 더한 합계를 출력한다"
      ],
      "metadata": {
        "id": "Bc-ZbaWTm-Hk"
      }
    },
    {
      "cell_type": "code",
      "source": [
        "n = int(input(\"정수를 입력하세요:\"))\n",
        "m = 0\n",
        "sum = 0\n",
        "while m <= n:\n",
        "  if m % 3 == 0:\n",
        "    sum += m\n",
        "  m += 1\n",
        "print(sum)"
      ],
      "metadata": {
        "colab": {
          "base_uri": "https://localhost:8080/"
        },
        "id": "tdsIwjTQnXwL",
        "outputId": "aee69806-ddda-491b-d079-ac0457f50d5b"
      },
      "execution_count": null,
      "outputs": [
        {
          "output_type": "stream",
          "name": "stdout",
          "text": [
            "정수를 입력하세요:10\n",
            "18\n"
          ]
        }
      ]
    },
    {
      "cell_type": "markdown",
      "source": [
        "#1부터 입력한 수까지 홀수만 출력하되, 100보다 크면 종료하는 예제\n",
        "\n",
        "사용자로부터 정수 n을 입력받는다.\n",
        "\n",
        "while문을 사용하여 1부터 n까지의 숫자중 홀수만 출력한다\n",
        "\n",
        "단 숫자가 100보다 크면 더이상 출력하지 않고 반복문을 종료한다\n",
        "\n",
        "continue는 짝수를 건너뛸 때 사용하고, break는 100초과 시 종료할 때 사용한다"
      ],
      "metadata": {
        "id": "nSdgajZ0qYQM"
      }
    },
    {
      "cell_type": "code",
      "source": [
        "n = int(input(\"정수를 입력하세요:\"))\n",
        "m = 1\n",
        "while m <= n:\n",
        "  if m >= 100:\n",
        "    break\n",
        "  if m % 2 == 0:\n",
        "    m+=1\n",
        "    continue\n",
        "\n",
        "  print(m)\n",
        "  m+=1\n",
        "\n",
        "\n",
        "\n",
        "\n",
        "\n",
        "\n",
        "\n"
      ],
      "metadata": {
        "colab": {
          "base_uri": "https://localhost:8080/"
        },
        "id": "tr6ha4J-qXD3",
        "outputId": "d5e04123-1772-4d19-df87-77a08374a99d"
      },
      "execution_count": null,
      "outputs": [
        {
          "output_type": "stream",
          "name": "stdout",
          "text": [
            "정수를 입력하세요:199\n",
            "1\n",
            "3\n",
            "5\n",
            "7\n",
            "9\n",
            "11\n",
            "13\n",
            "15\n",
            "17\n",
            "19\n",
            "21\n",
            "23\n",
            "25\n",
            "27\n",
            "29\n",
            "31\n",
            "33\n",
            "35\n",
            "37\n",
            "39\n",
            "41\n",
            "43\n",
            "45\n",
            "47\n",
            "49\n",
            "51\n",
            "53\n",
            "55\n",
            "57\n",
            "59\n",
            "61\n",
            "63\n",
            "65\n",
            "67\n",
            "69\n",
            "71\n",
            "73\n",
            "75\n",
            "77\n",
            "79\n",
            "81\n",
            "83\n",
            "85\n",
            "87\n",
            "89\n",
            "91\n",
            "93\n",
            "95\n",
            "97\n",
            "99\n"
          ]
        }
      ]
    },
    {
      "cell_type": "markdown",
      "source": [
        "#for문\n",
        "특정 코드를 여러 번 실행\n",
        "\n",
        "while문과 비슷하게 사용\n",
        "\n",
        "continue, break문 사용 가능\n"
      ],
      "metadata": {
        "id": "6krDuxfovdDg"
      }
    },
    {
      "cell_type": "code",
      "source": [
        "list1 = ['one','twe','three','four','five']\n",
        "\n",
        "count = 1\n",
        "for i in list1:\n",
        "  print(str(count)+'회차 i의 값:',end=\"\")\n",
        "  print(i)\n",
        "  count = count+1\n",
        "\n",
        "\n",
        "a = [(1,1),(2,2),(3,3)]\n",
        "\n",
        "for (b,c)in a:\n",
        "  print(b+c)"
      ],
      "metadata": {
        "colab": {
          "base_uri": "https://localhost:8080/"
        },
        "id": "oCDwoS1qvps_",
        "outputId": "9ebfb89e-06a0-4962-e77c-feac9a5ec145"
      },
      "execution_count": null,
      "outputs": [
        {
          "output_type": "stream",
          "name": "stdout",
          "text": [
            "1회차 i의 값:one\n",
            "2회차 i의 값:twe\n",
            "3회차 i의 값:three\n",
            "4회차 i의 값:four\n",
            "5회차 i의 값:five\n",
            "2\n",
            "4\n",
            "6\n"
          ]
        }
      ]
    },
    {
      "cell_type": "markdown",
      "source": [
        "#학생들의 점수 출력 예제\n",
        "\n",
        "\n",
        "*   아래와 같이 (이름,점수) 형태의 튜플이 담긴 리스트가 주어진다.\n",
        "\n",
        "    students = [(\"철수\", 85), (\"영희\",92),(\"민수\",78)]\n",
        "*   for 반복문을 사용하여 다음과 같이 각 학생의 이름과 점수를 출력한다.\n",
        "\n"
      ],
      "metadata": {
        "id": "8lKN-vH2yGKK"
      }
    },
    {
      "cell_type": "code",
      "source": [
        "students = [(\"철수\", 85), (\"영희\",92),(\"민수\",78)]\n",
        "\n",
        "for (name,score) in students:\n",
        "  print(f\"{name}의 점수는 {score}입니다\")"
      ],
      "metadata": {
        "colab": {
          "base_uri": "https://localhost:8080/"
        },
        "id": "-WhIodVwyLjR",
        "outputId": "2431f13c-cdbd-4cb2-9927-fe24f60afa73"
      },
      "execution_count": null,
      "outputs": [
        {
          "output_type": "stream",
          "name": "stdout",
          "text": [
            "철수의 점수는 85입니다\n",
            "영희의 점수는 92입니다\n",
            "민수의 점수는 78입니다\n"
          ]
        }
      ]
    },
    {
      "cell_type": "code",
      "source": [
        "for i in range(10):\n",
        "  print(i)\n",
        "\n",
        "print()\n",
        "\n",
        "for i in range(-10,11,2):\n",
        "  print(i)"
      ],
      "metadata": {
        "colab": {
          "base_uri": "https://localhost:8080/"
        },
        "id": "u90JhOrPy_a6",
        "outputId": "89bf2810-01fa-4342-8a99-a56cf2e5e20f"
      },
      "execution_count": null,
      "outputs": [
        {
          "output_type": "stream",
          "name": "stdout",
          "text": [
            "0\n",
            "1\n",
            "2\n",
            "3\n",
            "4\n",
            "5\n",
            "6\n",
            "7\n",
            "8\n",
            "9\n",
            "\n",
            "-10\n",
            "-8\n",
            "-6\n",
            "-4\n",
            "-2\n",
            "0\n",
            "2\n",
            "4\n",
            "6\n",
            "8\n",
            "10\n"
          ]
        }
      ]
    },
    {
      "cell_type": "markdown",
      "source": [
        "#구구단 출력 예제"
      ],
      "metadata": {
        "id": "B6Ad7-CyzvJy"
      }
    },
    {
      "cell_type": "code",
      "source": [
        "for i in range(1,10):\n",
        "  print(f\"9 x {i} = {9*i}\")\n",
        "\n",
        "for i in range(1,10):\n",
        "  print(\"9 x %d = %d\"%(i,i*9))\n"
      ],
      "metadata": {
        "colab": {
          "base_uri": "https://localhost:8080/"
        },
        "id": "6bxkNMmpzqFC",
        "outputId": "ff231ade-561a-4665-c2f8-c681361db23b"
      },
      "execution_count": null,
      "outputs": [
        {
          "output_type": "stream",
          "name": "stdout",
          "text": [
            "9 x 1 = 9\n",
            "9 x 2 = 18\n",
            "9 x 3 = 27\n",
            "9 x 4 = 36\n",
            "9 x 5 = 45\n",
            "9 x 6 = 54\n",
            "9 x 7 = 63\n",
            "9 x 8 = 72\n",
            "9 x 9 = 81\n",
            "9 x 1 = 9\n",
            "9 x 2 = 18\n",
            "9 x 3 = 27\n",
            "9 x 4 = 36\n",
            "9 x 5 = 45\n",
            "9 x 6 = 54\n",
            "9 x 7 = 63\n",
            "9 x 8 = 72\n",
            "9 x 9 = 81\n"
          ]
        }
      ]
    },
    {
      "cell_type": "markdown",
      "source": [
        "#학생 점수에 따라 합격/불합격을 판별 예제\n",
        "학생들의 점수 리스트 scores = [15,50,46,86,94]가 주어진다\n",
        "\n",
        "for 반복문을 이용하여 리스트의 각 점수를 확인하며 다음 조건을 따른다\n",
        "\n",
        "1.num이라는 번호를 1부터 증가시긴다\n",
        "\n",
        "2.번호가 짝수인 경우 continue를 사용하여 건너뛴다\n",
        "\n",
        "3.번호가 5가되면 break를 사용하여 반복을 중단한다\n",
        "\n",
        "4.그 외에는 점수가 50이상이면 합격 아니면 불합격"
      ],
      "metadata": {
        "id": "gXhc5FAB0z1r"
      }
    },
    {
      "cell_type": "code",
      "source": [
        "scores = [15,50,46,86,94]\n",
        "num = 0\n",
        "\n",
        "for i in scores:\n",
        "  num = num+1\n",
        "\n",
        "  if num % 2 == 0:\n",
        "    continue\n",
        "\n",
        "  if num == 5:\n",
        "    break\n",
        "\n",
        "  if i >= 50:\n",
        "    print(f\"{num}번학생 합격\")\n",
        "  else:\n",
        "    print(f\"{num}번학생 불합격\")\n"
      ],
      "metadata": {
        "colab": {
          "base_uri": "https://localhost:8080/"
        },
        "id": "LzsMRxg91UG7",
        "outputId": "7528b743-caa7-4969-cad1-9cd03f168631"
      },
      "execution_count": null,
      "outputs": [
        {
          "output_type": "stream",
          "name": "stdout",
          "text": [
            "1번학생 불합격\n",
            "3번학생 불합격\n"
          ]
        }
      ]
    },
    {
      "cell_type": "markdown",
      "source": [
        "#예제 심화"
      ],
      "metadata": {
        "id": "3FGRvSi674DR"
      }
    },
    {
      "cell_type": "code",
      "source": [
        "scores = [15,50,46,86,94,100,51,60]\n",
        "num = 0\n",
        "avg = 0\n",
        "m = 0\n",
        "for i in scores:\n",
        "  num = num+1\n",
        "\n",
        "  if num % 2 == 0:\n",
        "    continue\n",
        "\n",
        "  if i >= 60:\n",
        "    print(f\"{num}번학생 합격\")\n",
        "  else:\n",
        "    avg = avg+i\n",
        "    m+=1\n",
        "    print(f\"{num}번학생 불합격\")\n",
        "#print(f\"불합격한 학생들의 평균점수는{avg/m}입니다\")\n",
        "#print(str(count)+'회차 i의 값:',end=\"\")\n",
        "print(str(avg/m)+'불합격한 학생들이 평균점수는:',end=\"\")\n",
        "print(avg/m)"
      ],
      "metadata": {
        "colab": {
          "base_uri": "https://localhost:8080/"
        },
        "id": "dtAWrHOh8COJ",
        "outputId": "06f9f5af-ac94-47af-a209-4a9166ca7d4e"
      },
      "execution_count": null,
      "outputs": [
        {
          "output_type": "stream",
          "name": "stdout",
          "text": [
            "1번학생 불합격\n",
            "3번학생 불합격\n",
            "5번학생 합격\n",
            "7번학생 불합격\n",
            "37.333333333333336불합격한 학생들이 평균점수는:37.333333333333336\n"
          ]
        }
      ]
    },
    {
      "cell_type": "markdown",
      "source": [
        "#2중for문 간단 예시"
      ],
      "metadata": {
        "id": "_T8ITv-3ARy8"
      }
    },
    {
      "cell_type": "code",
      "source": [
        "for i in range(3):\n",
        "  for j in range(5):\n",
        "    print('*',end='')\n",
        "  print()"
      ],
      "metadata": {
        "colab": {
          "base_uri": "https://localhost:8080/"
        },
        "id": "tIa207Ek_m7d",
        "outputId": "77b7804f-5a49-47aa-ff23-4f95c259ee42"
      },
      "execution_count": null,
      "outputs": [
        {
          "output_type": "stream",
          "name": "stdout",
          "text": [
            "*****\n",
            "*****\n",
            "*****\n"
          ]
        }
      ]
    },
    {
      "cell_type": "markdown",
      "source": [
        "#3장 연습문제"
      ],
      "metadata": {
        "id": "M8QGhMBLAVN6"
      }
    },
    {
      "cell_type": "code",
      "source": [
        "#1번문제\n",
        "a = \"Life is too short, you need python\"\n",
        "\n",
        "if \"wife\" in a: print(\"wife\")\n",
        "elif \"python\" in a and \"you\" not in a: print(\"python\")\n",
        "elif \"shirt\" not in a: print(\"shirt\")\n",
        "elif \"need\" in a: print(\"need\")\n",
        "else: print(\"none\")"
      ],
      "metadata": {
        "colab": {
          "base_uri": "https://localhost:8080/"
        },
        "id": "fLOnlDovAh6L",
        "outputId": "b8159f3a-885a-4e88-c49c-d0e80c2fa416"
      },
      "execution_count": null,
      "outputs": [
        {
          "output_type": "stream",
          "name": "stdout",
          "text": [
            "shirt\n"
          ]
        }
      ]
    },
    {
      "cell_type": "code",
      "source": [
        "#2번문제\n",
        "result = 0\n",
        "i = 1\n",
        "while i <= 1000:\n",
        "  if i % 3 == 0:\n",
        "    result += i\n",
        "  i += 1\n",
        "print(result)"
      ],
      "metadata": {
        "colab": {
          "base_uri": "https://localhost:8080/"
        },
        "id": "oS-xSaiABcSu",
        "outputId": "ad67175a-c125-414f-f4d1-88d0768f9fb8"
      },
      "execution_count": null,
      "outputs": [
        {
          "output_type": "stream",
          "name": "stdout",
          "text": [
            "166833\n"
          ]
        }
      ]
    },
    {
      "cell_type": "code",
      "source": [
        "#3번문제\n",
        "i = 0\n",
        "while True:\n",
        "  i += 1\n",
        "  if i > 5:\n",
        "    break\n",
        "  print('*'*i)"
      ],
      "metadata": {
        "colab": {
          "base_uri": "https://localhost:8080/"
        },
        "id": "Yy8JdhPSBzYB",
        "outputId": "203deba9-7a72-43fc-c37c-fa43aefd7eb7"
      },
      "execution_count": null,
      "outputs": [
        {
          "output_type": "stream",
          "name": "stdout",
          "text": [
            "*\n",
            "**\n",
            "***\n",
            "****\n",
            "*****\n"
          ]
        }
      ]
    },
    {
      "cell_type": "code",
      "source": [
        "#4번문제\n",
        "for i in range(1,101):\n",
        "  print(i)"
      ],
      "metadata": {
        "colab": {
          "base_uri": "https://localhost:8080/"
        },
        "id": "-l0OxmJ4C3il",
        "outputId": "cfc289a5-2fe2-4d54-fdaa-8486caaeaa5c"
      },
      "execution_count": null,
      "outputs": [
        {
          "output_type": "stream",
          "name": "stdout",
          "text": [
            "1\n",
            "2\n",
            "3\n",
            "4\n",
            "5\n",
            "6\n",
            "7\n",
            "8\n",
            "9\n"
          ]
        }
      ]
    },
    {
      "cell_type": "code",
      "source": [
        "#5번문제\n",
        "A = [70,60,55,75,95,90,80,80,85,100]\n",
        "total = 0\n",
        "for score in A:\n",
        "  total += score\n",
        "average = total/10\n",
        "print(average)"
      ],
      "metadata": {
        "colab": {
          "base_uri": "https://localhost:8080/"
        },
        "id": "u1ObIFsQDCtp",
        "outputId": "1b855405-6cd0-458e-9697-5a1d3a0bdfab"
      },
      "execution_count": null,
      "outputs": [
        {
          "output_type": "stream",
          "name": "stdout",
          "text": [
            "79.0\n"
          ]
        }
      ]
    },
    {
      "cell_type": "markdown",
      "source": [],
      "metadata": {
        "id": "spiwOUJuXg3e"
      }
    }
  ]
}