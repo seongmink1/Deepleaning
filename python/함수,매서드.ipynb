{
  "nbformat": 4,
  "nbformat_minor": 0,
  "metadata": {
    "colab": {
      "provenance": []
    },
    "kernelspec": {
      "name": "python3",
      "display_name": "Python 3"
    },
    "language_info": {
      "name": "python"
    }
  },
  "cells": [
    {
      "cell_type": "markdown",
      "source": [
        "#함수\n",
        "독립적으로 정의되어 호출될 수 있는 코드 블록\n",
        "\n",
        "def 함수이름(매개변수):\n",
        "\n",
        "  실행할 코드\n",
        "\n",
        "  return 반환값"
      ],
      "metadata": {
        "id": "8GOYlpJxkunE"
      }
    },
    {
      "cell_type": "markdown",
      "source": [
        "#매서드\n",
        "특정 객체에서 호출되며, 그 객체의 상태를 변경하거나 동작을 수행"
      ],
      "metadata": {
        "id": "pgDLPArwm3Wa"
      }
    },
    {
      "cell_type": "markdown",
      "source": [
        "#함수와 매서드\n",
        "장점\n",
        "*   코드 재사용성을 높여 개발 시간을 단축시킨다.\n",
        "*   코드의 가독성과 유지보수성을 향상시킨다.\n",
        "*   코드의 복잡성을 줄이고 관리를 용이하게 한다.\n",
        "\n",
        "단점\n",
        "*   함수와 매서드가 너무 많아지면 코드 관리가 어려워질 수 있다.\n",
        "*   함수와 매서드의 오류는 전체 프로그램에 영향을 미칠 수 있다.\n",
        "*   복잡한 함수는 이해하기 어려워지고 디버깅이 어려울 수 있다."
      ],
      "metadata": {
        "id": "0YV6VVLOm9tK"
      }
    },
    {
      "cell_type": "markdown",
      "source": [
        "#함수란\n",
        "함수는 특정 작업을 수행하는 코드의 묶음입니다.\n",
        "\n",
        "특정한 기능,입력값을 가지고 기능에 맞는 출력값을 내어 놓는 것입니다."
      ],
      "metadata": {
        "id": "zz0p5mlLncip"
      }
    },
    {
      "cell_type": "code",
      "execution_count": null,
      "metadata": {
        "colab": {
          "base_uri": "https://localhost:8080/"
        },
        "id": "OFNJIVHYktgZ",
        "outputId": "e03d7a76-5e8d-4b84-ad73-bf33a7e32af3"
      },
      "outputs": [
        {
          "output_type": "stream",
          "name": "stdout",
          "text": [
            "Hello\n"
          ]
        }
      ],
      "source": [
        "#def 함수명 정의():\n",
        "def say_hello():\n",
        "  #hello 출력\n",
        "  print(\"Hello\")\n",
        "\n",
        "#함수 호출\n",
        "say_hello()"
      ]
    },
    {
      "cell_type": "markdown",
      "source": [
        "#함수에 입력값(매개변수) 전달하기\n",
        "함수를 좀 더 유용하게 만들려면, 외부에서 값을 받아올 수 있습니다.\n",
        "#매개변수와 인자\n",
        "매개변수:함수 정의 시 괄호 안에 적는 변수.\n",
        "\n",
        "인자:함수를 호출할 때 괄호 안에 넣어주는 실제 값."
      ],
      "metadata": {
        "id": "7BwHWUFooJJC"
      }
    },
    {
      "cell_type": "code",
      "source": [
        "def greet(name):\n",
        "  print(f\"Hello, {name}!\")\n",
        "\n",
        "#name =  Alice\n",
        "#print(f\"Hello,{name}!\")\n",
        "greet(\"Alice\")\n",
        "\n",
        "text = input(\"이름\")\n",
        "greet(text)"
      ],
      "metadata": {
        "colab": {
          "base_uri": "https://localhost:8080/"
        },
        "id": "xeiLWV2loiDb",
        "outputId": "68eb4f4a-1a76-48a7-c0e7-4fec77023a1f"
      },
      "execution_count": null,
      "outputs": [
        {
          "output_type": "stream",
          "name": "stdout",
          "text": [
            "Hello, Alice!\n",
            "이름aa\n",
            "Hello, aa!\n"
          ]
        }
      ]
    },
    {
      "cell_type": "code",
      "source": [
        "#a, b를 입력받아서 두 개의 변수를 더해서 출력하는 함수.\n",
        "def sum1():\n",
        "  a = int(input())\n",
        "  b = int(input())\n",
        "\n",
        "  print(a+b)\n",
        "\n",
        "sum1()\n"
      ],
      "metadata": {
        "colab": {
          "base_uri": "https://localhost:8080/"
        },
        "id": "0iB8-t3IpYQ7",
        "outputId": "dff746f1-de9f-4090-cb25-329ddfe618fc"
      },
      "execution_count": null,
      "outputs": [
        {
          "output_type": "stream",
          "name": "stdout",
          "text": [
            "1\n",
            "5\n",
            "6\n"
          ]
        }
      ]
    },
    {
      "cell_type": "markdown",
      "source": [
        "#함수의 반환값\n",
        "함수가 결과를 돌려주도록 만들 수 있다.\n",
        "\n",
        "return을 쓰지 않으면 결과를 저장하거나 본문에서 활용할 수 없다"
      ],
      "metadata": {
        "id": "uunhFS34qLd8"
      }
    },
    {
      "cell_type": "code",
      "source": [
        "def add(a,b):\n",
        "  #a+b의 결과 값을 함수 외부로 전달\n",
        "  return a+b\n",
        "#함수 호출 결과를 변수에 저장\n",
        "result = add(3,4)\n",
        "\n",
        "print(result)\n"
      ],
      "metadata": {
        "colab": {
          "base_uri": "https://localhost:8080/"
        },
        "id": "HnHhT40pqVQS",
        "outputId": "c76c6a87-017d-4d50-b9d1-60ad5fecf9c4"
      },
      "execution_count": 19,
      "outputs": [
        {
          "output_type": "stream",
          "name": "stdout",
          "text": [
            "7\n"
          ]
        }
      ]
    },
    {
      "cell_type": "markdown",
      "source": [
        "#여러 개의 값 반환하기\n",
        "함수는 한 번에 여러 개의 값을 돌려줄 수도 있습니다(튜플로 반환)"
      ],
      "metadata": {
        "id": "14FC4eAJrXkz"
      }
    },
    {
      "cell_type": "code",
      "source": [
        "def get_preson():\n",
        "  name = \"Bob\"\n",
        "  age = 22\n",
        "  #여러개의 자료를 ,로 이으면 ,튜플로 변경이된다.\n",
        "  #실제로 튜플이라는 하나의 값을 반환\n",
        "  return name,age\n",
        "\n",
        "n,a = get_preson()\n",
        "print(n,a)"
      ],
      "metadata": {
        "colab": {
          "base_uri": "https://localhost:8080/"
        },
        "id": "UseBo31qrgay",
        "outputId": "a5cf5515-ffe8-4436-bf9a-376ec5126cdb"
      },
      "execution_count": null,
      "outputs": [
        {
          "output_type": "stream",
          "name": "stdout",
          "text": [
            "Bob 22\n"
          ]
        }
      ]
    },
    {
      "cell_type": "markdown",
      "source": [
        "#매개변수 기본 값\n",
        "값을 전달하지 않으면 기본값이 사용된다\n"
      ],
      "metadata": {
        "id": "w3tSGlh2sSRE"
      }
    },
    {
      "cell_type": "code",
      "source": [
        "def greet(name=\"guest\"):\n",
        "  print(f\"Hello, {name}\")\n",
        "\n",
        "greet()\n",
        "greet(\"Alice\")\n"
      ],
      "metadata": {
        "colab": {
          "base_uri": "https://localhost:8080/"
        },
        "id": "Ix-eO4RGsaZa",
        "outputId": "d2c59969-0b1b-4d2d-c00d-19d040929b5a"
      },
      "execution_count": null,
      "outputs": [
        {
          "output_type": "stream",
          "name": "stdout",
          "text": [
            "Hello, guest\n",
            "Hello, Alice\n"
          ]
        }
      ]
    },
    {
      "cell_type": "code",
      "source": [
        "def introduce(name,age):\n",
        "  print(f\"my name is {name}, and i'm {age} years old\")\n",
        "\n",
        "introduce('david',20)\n",
        "introduce(age=20,name='david')"
      ],
      "metadata": {
        "colab": {
          "base_uri": "https://localhost:8080/"
        },
        "id": "Jyy5G-dBs4Aq",
        "outputId": "b818ea55-8d3a-47c1-9eb6-b82927248fd8"
      },
      "execution_count": null,
      "outputs": [
        {
          "output_type": "stream",
          "name": "stdout",
          "text": [
            "my name is david, and i'm 20 years old\n",
            "my name is david, and i'm 20 years old\n"
          ]
        }
      ]
    },
    {
      "cell_type": "markdown",
      "source": [
        "#가변 인자\n",
        "입력값 개수가 정해져 있지 않을 때 사용한다."
      ],
      "metadata": {
        "id": "eXW-VEK8zjgj"
      }
    },
    {
      "cell_type": "code",
      "source": [
        "# *args -> 개수 상관없이 입력가능\n",
        "def show_args(*args):\n",
        "  for arg in args:\n",
        "    print(arg)\n",
        "\n",
        "show_args(\"apple\",\"banana\")\n",
        "\n",
        "# **kwargs\n",
        "def show_kwargs(**kwargs):\n",
        "  for key,value in kwargs.items():\n",
        "    print(f\"{key}: {value}\")\n",
        "\n",
        "show_kwargs(name = \"Eve\", age=28)"
      ],
      "metadata": {
        "colab": {
          "base_uri": "https://localhost:8080/"
        },
        "id": "zxCtjcdwtYoi",
        "outputId": "4f078038-57a3-4d8f-8540-f12a5a74d33c"
      },
      "execution_count": null,
      "outputs": [
        {
          "output_type": "stream",
          "name": "stdout",
          "text": [
            "apple\n",
            "banana\n",
            "name: Eve\n",
            "age: 28\n"
          ]
        }
      ]
    },
    {
      "cell_type": "markdown",
      "source": [
        "#모듈\n",
        "관련된 함수, 클래스, 변수 등을 하나의 파일로 모아 놓은 것\n",
        "\n",
        "\n",
        "*   모듈은 일반적인 파이썬 파일\n",
        "*   독립적인 모듈은 다른 모듈에 영향을 미치지 않고 개발 및 수정이 가능\n",
        "*   파이썬 파일에서 import 키워드를 사용하여 모듈 불러올 수 있음\n",
        "\n",
        "\n",
        "\n"
      ],
      "metadata": {
        "id": "0YNAxn5NxTd9"
      }
    },
    {
      "cell_type": "markdown",
      "source": [
        "#패키지\n",
        "관련된 모듈을 하나의 디렉터리로 모아 놓은 것\n",
        "\n",
        "*  패키지 디렉터리에는 __ init__.py 파일이 모함되어 있어야 하며, 이 파일은 해당 디렉터리가 패키지임을 알려줌\n",
        "*   패키지를 사용하면 코드의 구조화와 조직화가 용이\n",
        "\n",
        "*   모듈간의 이름 충돌을 방지\n",
        "\n"
      ],
      "metadata": {
        "id": "d2Y3dVAKynpX"
      }
    }
  ]
}