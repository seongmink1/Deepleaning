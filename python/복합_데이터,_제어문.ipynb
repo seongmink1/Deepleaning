{
  "nbformat": 4,
  "nbformat_minor": 0,
  "metadata": {
    "colab": {
      "provenance": []
    },
    "kernelspec": {
      "name": "python3",
      "display_name": "Python 3"
    },
    "language_info": {
      "name": "python"
    }
  },
  "cells": [
    {
      "cell_type": "code",
      "execution_count": 5,
      "metadata": {
        "colab": {
          "base_uri": "https://localhost:8080/"
        },
        "id": "IKdAgNLk92gb",
        "outputId": "6c16e9c0-6f55-443b-ae7d-45c9d3a3730e"
      },
      "outputs": [
        {
          "output_type": "execute_result",
          "data": {
            "text/plain": [
              "([1, 2, 3, 4], [1, 2, 1, 4])"
            ]
          },
          "metadata": {},
          "execution_count": 5
        }
      ],
      "source": [
        "import copy\n",
        "a=[1,2,3,4]\n",
        "b=copy.deepcopy(a)\n",
        "b[2]=1\n",
        "a,b\n"
      ]
    },
    {
      "cell_type": "code",
      "source": [
        "prices=[85000,140000,200000]\n",
        "print(\"prices:%d\" % len(prices))#len을 이용해 길이 구하기\n",
        "prices.append(15000)#append를 이용해 마지막 자리에 15000추가하기\n",
        "print(\"prices:%d\" % len(prices))\n",
        "print(prices)\n",
        "x=[1,2,3,4]\n",
        "prices.extend(x)#extend로 합치기\n",
        "print(prices)\n",
        "prices.sort()#오름차순\n",
        "print(prices)\n",
        "prices.sort(reverse=True)#내림차순\n",
        "print(prices)\n",
        "y=sorted(prices)\n",
        "print(y)\n",
        "y=sorted(prices, reverse=True)\n",
        "print(y)\n"
      ],
      "metadata": {
        "colab": {
          "base_uri": "https://localhost:8080/"
        },
        "id": "x6a5zv6__m1K",
        "outputId": "7b4b72c3-48e1-4276-f159-24581e5f101a"
      },
      "execution_count": 29,
      "outputs": [
        {
          "output_type": "stream",
          "name": "stdout",
          "text": [
            "prices:3\n",
            "prices:4\n",
            "[85000, 140000, 200000, 15000]\n",
            "[85000, 140000, 200000, 15000, 1, 2, 3, 4]\n",
            "[1, 2, 3, 4, 15000, 85000, 140000, 200000]\n",
            "[200000, 140000, 85000, 15000, 4, 3, 2, 1]\n",
            "[1, 2, 3, 4, 15000, 85000, 140000, 200000]\n",
            "[200000, 140000, 85000, 15000, 4, 3, 2, 1]\n"
          ]
        }
      ]
    },
    {
      "cell_type": "code",
      "source": [
        "prices_tuple=(85000,140000,200000)\n",
        "print(prices_tuple)\n",
        "prices_tuple=85000,140000,200000\n",
        "print(prices_tuple)\n",
        "prices_tuple[0]\n",
        "#prices_tuple[0]=1 값을 바꿀수 없어 오류\n",
        "prices_tuple[0:2]"
      ],
      "metadata": {
        "colab": {
          "base_uri": "https://localhost:8080/"
        },
        "id": "JmlRVl00CY4D",
        "outputId": "5c08d304-d04d-469b-a25e-71b1596d9177"
      },
      "execution_count": 35,
      "outputs": [
        {
          "output_type": "stream",
          "name": "stdout",
          "text": [
            "(85000, 140000, 200000)\n",
            "(85000, 140000, 200000)\n"
          ]
        },
        {
          "output_type": "execute_result",
          "data": {
            "text/plain": [
              "(85000, 140000)"
            ]
          },
          "metadata": {},
          "execution_count": 35
        }
      ]
    },
    {
      "cell_type": "code",
      "source": [
        "prices_list=[85000,140000,200000,85000]\n",
        "#print(prices_list)\n",
        "prices_set=set(prices_list)\n",
        "prices_set.add(15000)#add 값 추가\n",
        "print(prices_set)\n",
        "prices_set.add(85000)\n",
        "print(prices_set)\n",
        "prices_set.remove(85000)#remove 값 삭제\n",
        "print(prices_set)\n",
        "print(len(prices_set))\n",
        "150 in prices_set #값이 있으면 True 없으면 False\n",
        "#prices_tuple=(85000,140000,200000)\n",
        "#prices_set=set(prices_tuple)\n",
        "#print(prices_set)"
      ],
      "metadata": {
        "colab": {
          "base_uri": "https://localhost:8080/"
        },
        "id": "_cEJHWc7Dp4T",
        "outputId": "f04afd9d-e66b-4183-8b5b-898c900eb6b0"
      },
      "execution_count": 55,
      "outputs": [
        {
          "output_type": "stream",
          "name": "stdout",
          "text": [
            "{85000, 140000, 200000, 15000}\n",
            "{85000, 140000, 200000, 15000}\n",
            "{140000, 200000, 15000}\n",
            "3\n"
          ]
        },
        {
          "output_type": "execute_result",
          "data": {
            "text/plain": [
              "False"
            ]
          },
          "metadata": {},
          "execution_count": 55
        }
      ]
    },
    {
      "cell_type": "code",
      "source": [
        "listA=[1,2,3,1,2,3,4,5,6]\n",
        "print(listA)\n",
        "setA = set(listA) #집합으로 바꿔 중복을 삭제\n",
        "print(setA)\n",
        "listB = list(setA)#중복이 삭제된 상태로 리스트 변환\n",
        "listB"
      ],
      "metadata": {
        "colab": {
          "base_uri": "https://localhost:8080/"
        },
        "id": "-S998kHGGg4U",
        "outputId": "205d3a84-1dfa-4404-fd70-4d39dab8b4ee"
      },
      "execution_count": 59,
      "outputs": [
        {
          "output_type": "stream",
          "name": "stdout",
          "text": [
            "[1, 2, 3, 1, 2, 3, 4, 5, 6]\n",
            "{1, 2, 3, 4, 5, 6}\n"
          ]
        },
        {
          "output_type": "execute_result",
          "data": {
            "text/plain": [
              "[1, 2, 3, 4, 5, 6]"
            ]
          },
          "metadata": {},
          "execution_count": 59
        }
      ]
    },
    {
      "cell_type": "code",
      "source": [
        "my_dict={}\n",
        "my_dict1=dict()#딕셔너리 변환\n",
        "my_dict1"
      ],
      "metadata": {
        "colab": {
          "base_uri": "https://localhost:8080/"
        },
        "id": "gihDs9XKHdDU",
        "outputId": "0f687f05-2f7f-4c20-b4c4-95b43b6e950e"
      },
      "execution_count": 61,
      "outputs": [
        {
          "output_type": "execute_result",
          "data": {
            "text/plain": [
              "{}"
            ]
          },
          "metadata": {},
          "execution_count": 61
        }
      ]
    },
    {
      "cell_type": "code",
      "source": [
        "my_eng={'one':'하나', 'two':'둘','three':'셋', 'apple':'사과' }\n",
        "my_eng['pineapple'] = '파인애플'#추가\n",
        "my_eng['school'] = '학교'\n",
        "print(my_eng)\n",
        "my_eng.pop('one')#삭제\n",
        "print(my_eng)\n",
        "print(my_eng.keys())#키값\n",
        "print(my_eng.values())#밸류값\n",
        "print(my_eng.items())\n",
        "'apple' in my_eng #있는지 확인"
      ],
      "metadata": {
        "colab": {
          "base_uri": "https://localhost:8080/"
        },
        "id": "xX1kzxexIQXt",
        "outputId": "47f7479a-6f8e-42d1-d1e5-ffbe961561c4"
      },
      "execution_count": 80,
      "outputs": [
        {
          "output_type": "stream",
          "name": "stdout",
          "text": [
            "{'one': '하나', 'two': '둘', 'three': '셋', 'apple': '사과', 'pineapple': '파인애플', 'school': '학교'}\n",
            "{'two': '둘', 'three': '셋', 'apple': '사과', 'pineapple': '파인애플', 'school': '학교'}\n",
            "dict_keys(['two', 'three', 'apple', 'pineapple', 'school'])\n",
            "dict_values(['둘', '셋', '사과', '파인애플', '학교'])\n",
            "dict_items([('two', '둘'), ('three', '셋'), ('apple', '사과'), ('pineapple', '파인애플'), ('school', '학교')])\n"
          ]
        },
        {
          "output_type": "execute_result",
          "data": {
            "text/plain": [
              "False"
            ]
          },
          "metadata": {},
          "execution_count": 80
        }
      ]
    },
    {
      "cell_type": "code",
      "source": [
        "my_eng={'one':'하나', 'two':'둘','three':'셋', 'apple':'사과' }\n",
        "for key in my_eng:\n",
        "  print(key, my_eng[key])\n",
        "\n",
        "for aa in my_eng.keys():\n",
        "  print(aa)\n",
        "  print(my_eng[aa])\n",
        "\n",
        "for bb, cc in my_eng.items():\n",
        "  print(bb,cc)\n",
        "\n",
        "for cc in my_eng.values():\n",
        "  print(cc)"
      ],
      "metadata": {
        "colab": {
          "base_uri": "https://localhost:8080/"
        },
        "id": "eR5cDQ7ELQU_",
        "outputId": "98044eb0-2366-4f21-830d-ea1fa3f5a394"
      },
      "execution_count": 88,
      "outputs": [
        {
          "output_type": "stream",
          "name": "stdout",
          "text": [
            "one 하나\n",
            "two 둘\n",
            "three 셋\n",
            "apple 사과\n",
            "one\n",
            "하나\n",
            "two\n",
            "둘\n",
            "three\n",
            "셋\n",
            "apple\n",
            "사과\n",
            "one 하나\n",
            "two 둘\n",
            "three 셋\n",
            "apple 사과\n",
            "하나\n",
            "둘\n",
            "셋\n",
            "사과\n"
          ]
        }
      ]
    },
    {
      "cell_type": "code",
      "source": [
        "my_stocks={'ss':10,'lg':5,'sk':5}\n",
        "print(my_stocks)\n",
        "my_stocks['lg']=15 #값 변경\n",
        "my_stocks['naver']=20 #값 추가\n",
        "print(my_stocks)\n",
        "\n",
        "try:\n",
        "  print(my_stocks['naver'])\n",
        "except KeyError:\n",
        "  print(\"no price\")"
      ],
      "metadata": {
        "colab": {
          "base_uri": "https://localhost:8080/"
        },
        "id": "RP6zKCEiQjIF",
        "outputId": "ac626d67-47e5-4990-9b31-e1ccbf50c0a8"
      },
      "execution_count": 105,
      "outputs": [
        {
          "output_type": "stream",
          "name": "stdout",
          "text": [
            "{'ss': 10, 'lg': 5, 'sk': 5}\n",
            "{'ss': 10, 'lg': 15, 'sk': 5, 'naver': 20}\n",
            "20\n"
          ]
        }
      ]
    },
    {
      "cell_type": "code",
      "source": [
        "1<2\n",
        "True==False\n",
        "1==2\n"
      ],
      "metadata": {
        "colab": {
          "base_uri": "https://localhost:8080/"
        },
        "id": "CKCZ8RZgTFYi",
        "outputId": "88a036fa-9990-4ae5-d551-851bf5f579d3"
      },
      "execution_count": 109,
      "outputs": [
        {
          "output_type": "execute_result",
          "data": {
            "text/plain": [
              "False"
            ]
          },
          "metadata": {},
          "execution_count": 109
        }
      ]
    },
    {
      "cell_type": "code",
      "source": [
        "#all([True, 1==2, {1}]) 모두 참이어야 True\n",
        "#any([False, 1==2, {}]) 모두 거짓이어야 False"
      ],
      "metadata": {
        "colab": {
          "base_uri": "https://localhost:8080/"
        },
        "id": "Rvqa0mhwTWag",
        "outputId": "897c494c-4982-4509-92a2-761b8d79b480"
      },
      "execution_count": 123,
      "outputs": [
        {
          "output_type": "execute_result",
          "data": {
            "text/plain": [
              "False"
            ]
          },
          "metadata": {},
          "execution_count": 123
        }
      ]
    },
    {
      "cell_type": "code",
      "source": [
        "a=4\n",
        "if a%2==0:\n",
        "  print(\"짝수\")\n",
        "else:\n",
        "  print(\"홀수\")"
      ],
      "metadata": {
        "colab": {
          "base_uri": "https://localhost:8080/"
        },
        "id": "eVsp_t3HUqdr",
        "outputId": "5162b9cc-344b-4a1f-d18f-5d12f2a833b1"
      },
      "execution_count": 129,
      "outputs": [
        {
          "output_type": "stream",
          "name": "stdout",
          "text": [
            "짝수\n",
            "입니다\n"
          ]
        }
      ]
    },
    {
      "cell_type": "code",
      "source": [
        "a=4\n",
        "parlty=\"짝수\" if a%2==0 else \"홀수\"\n",
        "parlty"
      ],
      "metadata": {
        "colab": {
          "base_uri": "https://localhost:8080/",
          "height": 35
        },
        "id": "45aLrSa5VoIL",
        "outputId": "f57baf9a-e4bc-4a7b-cba9-867ab1464b9c"
      },
      "execution_count": 130,
      "outputs": [
        {
          "output_type": "execute_result",
          "data": {
            "text/plain": [
              "'짝수'"
            ],
            "application/vnd.google.colaboratory.intrinsic+json": {
              "type": "string"
            }
          },
          "metadata": {},
          "execution_count": 130
        }
      ]
    },
    {
      "cell_type": "code",
      "source": [
        "price=800\n",
        "if price==900:\n",
        "  print(\"직접 입력\")\n",
        "elif price>900:\n",
        "  print(\"비싼 가격\")\n",
        "else:\n",
        "  print(\"낮은 가격\")"
      ],
      "metadata": {
        "colab": {
          "base_uri": "https://localhost:8080/"
        },
        "id": "Zv6zqrzOV3MR",
        "outputId": "bb647b0a-ed43-415a-e8b5-bb66c6c010b9"
      },
      "execution_count": 131,
      "outputs": [
        {
          "output_type": "stream",
          "name": "stdout",
          "text": [
            "낮은 가격\n"
          ]
        }
      ]
    },
    {
      "cell_type": "code",
      "source": [
        "#for x in range(0, 10 ,1):\n",
        "for x in range(10):\n",
        "  print(x,\"는 4의 배수로 10보다 작다\")\n",
        "\n",
        "for x in range(15, 10, -1):\n",
        "  print(x)\n",
        "\n",
        "for i in range(2, 10):\n",
        "  for j in range(1, 10):\n",
        "    print(\"%d*%d=%d\"%(i,j,i*j))"
      ],
      "metadata": {
        "colab": {
          "base_uri": "https://localhost:8080/"
        },
        "id": "e_S7VI8wWKcd",
        "outputId": "08c54af2-ef51-4704-b73c-613beedf17f5"
      },
      "execution_count": 136,
      "outputs": [
        {
          "output_type": "stream",
          "name": "stdout",
          "text": [
            "0 는 4의 배수로 10보다 작다\n",
            "1 는 4의 배수로 10보다 작다\n",
            "2 는 4의 배수로 10보다 작다\n",
            "3 는 4의 배수로 10보다 작다\n",
            "4 는 4의 배수로 10보다 작다\n",
            "5 는 4의 배수로 10보다 작다\n",
            "6 는 4의 배수로 10보다 작다\n",
            "7 는 4의 배수로 10보다 작다\n",
            "8 는 4의 배수로 10보다 작다\n",
            "9 는 4의 배수로 10보다 작다\n",
            "15\n",
            "14\n",
            "13\n",
            "12\n",
            "11\n"
          ]
        }
      ]
    },
    {
      "cell_type": "code",
      "source": [
        "for i in range(1, 10):\n",
        "  for j in range(2, 10):\n",
        "    print(\"%d*%d=%d\"%(j,i,i*j),end=\"\\t\")\n",
        "  print()"
      ],
      "metadata": {
        "colab": {
          "base_uri": "https://localhost:8080/"
        },
        "id": "vWYtSrNFX_tp",
        "outputId": "9c1fbdbf-8705-4486-ba88-d73960ae3652"
      },
      "execution_count": 158,
      "outputs": [
        {
          "output_type": "stream",
          "name": "stdout",
          "text": [
            "2*1=2\t3*1=3\t4*1=4\t5*1=5\t6*1=6\t7*1=7\t8*1=8\t9*1=9\t\n",
            "2*2=4\t3*2=6\t4*2=8\t5*2=10\t6*2=12\t7*2=14\t8*2=16\t9*2=18\t\n",
            "2*3=6\t3*3=9\t4*3=12\t5*3=15\t6*3=18\t7*3=21\t8*3=24\t9*3=27\t\n",
            "2*4=8\t3*4=12\t4*4=16\t5*4=20\t6*4=24\t7*4=28\t8*4=32\t9*4=36\t\n",
            "2*5=10\t3*5=15\t4*5=20\t5*5=25\t6*5=30\t7*5=35\t8*5=40\t9*5=45\t\n",
            "2*6=12\t3*6=18\t4*6=24\t5*6=30\t6*6=36\t7*6=42\t8*6=48\t9*6=54\t\n",
            "2*7=14\t3*7=21\t4*7=28\t5*7=35\t6*7=42\t7*7=49\t8*7=56\t9*7=63\t\n",
            "2*8=16\t3*8=24\t4*8=32\t5*8=40\t6*8=48\t7*8=56\t8*8=64\t9*8=72\t\n",
            "2*9=18\t3*9=27\t4*9=36\t5*9=45\t6*9=54\t7*9=63\t8*9=72\t9*9=81\t\n"
          ]
        }
      ]
    },
    {
      "cell_type": "code",
      "source": [
        "cars = ['sonata', 'tesla', 'avante', 'lexus']\n",
        "for i in cars:\n",
        "  if i == 'tesla':\n",
        "    print(i.upper()) #lower\n",
        "  else:\n",
        "    print(i.title())"
      ],
      "metadata": {
        "colab": {
          "base_uri": "https://localhost:8080/"
        },
        "id": "MdpTHM9waR_2",
        "outputId": "7402113f-d207-4105-f9c2-4408f84944ce"
      },
      "execution_count": 159,
      "outputs": [
        {
          "output_type": "stream",
          "name": "stdout",
          "text": [
            "Sonata\n",
            "TESLA\n",
            "Avante\n",
            "Lexus\n"
          ]
        }
      ]
    },
    {
      "cell_type": "code",
      "source": [
        "for x in range(10):\n",
        "  if x==3:\n",
        "    continue\n",
        "  if x==7:\n",
        "    break\n",
        "  print(x)"
      ],
      "metadata": {
        "colab": {
          "base_uri": "https://localhost:8080/"
        },
        "id": "olQX9heTaz_E",
        "outputId": "0942e3be-616c-4ea3-d43a-f7908922e8c9"
      },
      "execution_count": 160,
      "outputs": [
        {
          "output_type": "stream",
          "name": "stdout",
          "text": [
            "0\n",
            "1\n",
            "2\n",
            "4\n",
            "5\n",
            "6\n"
          ]
        }
      ]
    },
    {
      "cell_type": "code",
      "source": [
        "for x in range(0, 10 ,1):\n",
        "  print(x)"
      ],
      "metadata": {
        "id": "IkMbgYHvbh0v"
      },
      "execution_count": null,
      "outputs": []
    },
    {
      "cell_type": "code",
      "source": [
        "x=10\n",
        "while x>0:\n",
        "  print(x)\n",
        "  x=x-1"
      ],
      "metadata": {
        "colab": {
          "base_uri": "https://localhost:8080/"
        },
        "id": "RAYLkB2ibmtc",
        "outputId": "96029745-f710-40db-d711-6f4872b2a307"
      },
      "execution_count": 169,
      "outputs": [
        {
          "output_type": "stream",
          "name": "stdout",
          "text": [
            "10\n",
            "9\n",
            "8\n",
            "7\n",
            "6\n",
            "5\n",
            "4\n",
            "3\n",
            "2\n",
            "1\n"
          ]
        }
      ]
    },
    {
      "cell_type": "code",
      "source": [
        "s= [x * x for x in range(5)]\n",
        "s"
      ],
      "metadata": {
        "colab": {
          "base_uri": "https://localhost:8080/"
        },
        "id": "3yK23F2_cLqY",
        "outputId": "d551aa71-3852-4272-a912-bb5b3610a8cf"
      },
      "execution_count": 170,
      "outputs": [
        {
          "output_type": "execute_result",
          "data": {
            "text/plain": [
              "[0, 1, 4, 9, 16]"
            ]
          },
          "metadata": {},
          "execution_count": 170
        }
      ]
    }
  ]
}