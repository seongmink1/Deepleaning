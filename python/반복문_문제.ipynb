{
  "nbformat": 4,
  "nbformat_minor": 0,
  "metadata": {
    "colab": {
      "provenance": []
    },
    "kernelspec": {
      "name": "python3",
      "display_name": "Python 3"
    },
    "language_info": {
      "name": "python"
    }
  },
  "cells": [
    {
      "cell_type": "markdown",
      "source": [
        "# WHILE 반복문"
      ],
      "metadata": {
        "id": "7GRL4dWn-0Bu"
      }
    },
    {
      "cell_type": "markdown",
      "source": [
        "# 1. 제곱 출력하기\n",
        "\n",
        "## 요구 사항\n",
        "- 사용자로부터 하나의 정수를 입력받는다.  \n",
        "- 입력된 정수 `num`까지의 숫자에 대해 다음을 수행한다:  \n",
        "  - `while` 문을 이용하여 1부터 `num`까지 각 수의 제곱을 출력한다.  \n",
        "  - `for` 문을 이용하여 1부터 `num`까지 각 수의 제곱을 출력한다.  \n",
        "- 두 반복문 모두 `1^2`, `2^2`, ..., `num^2`까지의 결과를 출력해야 한다.\n"
      ],
      "metadata": {
        "id": "VL9bEF_o7raP"
      }
    },
    {
      "cell_type": "code",
      "execution_count": null,
      "metadata": {
        "id": "IzD2l4je7Iiy",
        "colab": {
          "base_uri": "https://localhost:8080/"
        },
        "outputId": "b43910e4-674d-4d99-9016-6f597dc19690"
      },
      "outputs": [
        {
          "name": "stdout",
          "output_type": "stream",
          "text": [
            "정수를 입력해주세요:0\n",
            "정수를 입력해주세요:0\n"
          ]
        }
      ],
      "source": [
        "num = int(input(\"정수를 입력해주세요:\"))\n",
        "i = 1\n",
        "while i <= num:\n",
        "  print(i**i)\n",
        "  i+=1\n",
        "\n",
        "num = int(input(\"정수를 입력해주세요:\"))\n",
        "for i in range(1,num+1):\n",
        "  print(i**i)"
      ]
    },
    {
      "cell_type": "markdown",
      "source": [
        "# 2. 공 튀기기 시뮬레이션\n",
        "\n",
        "## 요구 사항\n",
        "- 사용자로부터 하나의 정수를 입력받는다.  \n",
        "- 공의 초기 높이는 100cm이다.  \n",
        "- 공은 한 번 튈 때마다 이전 높이의 3/5만큼 튄다.  \n",
        "- 입력한 횟수만큼 공이 튄 후, 최종 높이를 출력한다.  \n",
        "- 최종 출력 형식은 `\"최종 높이: ○○\"`와 같이 표시한다.\n"
      ],
      "metadata": {
        "id": "jOdlXldp7vLq"
      }
    },
    {
      "cell_type": "code",
      "source": [
        "num = int(input(\"정수를 입력해주세요:\"))\n",
        "a = 100\n",
        "for i in range(num):\n",
        "  a = a * 3 / 5\n",
        "print(a)"
      ],
      "metadata": {
        "id": "6zpvovlM77OL",
        "colab": {
          "base_uri": "https://localhost:8080/"
        },
        "outputId": "87699ae3-4297-4e7c-916f-40d2dcd91e8a"
      },
      "execution_count": null,
      "outputs": [
        {
          "output_type": "stream",
          "name": "stdout",
          "text": [
            "정수를 입력해주세요:3\n",
            "21.6\n"
          ]
        }
      ]
    },
    {
      "cell_type": "markdown",
      "source": [
        "# 3. 별찍기 문제\n",
        "## 요구사항(4입력 예시)\n",
        "- 패턴 1: 정방향 삼각형\n",
        "- 패턴 2: 오른쪽 정렬 정방향 삼각형\n",
        "- 패턴 3: 역삼각형\n",
        "- 패턴 4: 오른쪽 정렬 역삼각형\n",
        "- 패턴 5: 피라미드"
      ],
      "metadata": {
        "id": "IpHw--7F7-La"
      }
    },
    {
      "cell_type": "code",
      "source": [
        "# 패턴 1\n",
        "\"\"\"\n",
        "*\n",
        "**\n",
        "***\n",
        "****\n",
        "\"\"\""
      ],
      "metadata": {
        "id": "79itg32R88Ik"
      },
      "execution_count": null,
      "outputs": []
    },
    {
      "cell_type": "code",
      "source": [
        "# 패턴 2\n",
        "\"\"\"\n",
        "   *\n",
        "  **\n",
        " ***\n",
        "****\n",
        "\"\"\""
      ],
      "metadata": {
        "id": "J9hXAWkm9Q0l"
      },
      "execution_count": null,
      "outputs": []
    },
    {
      "cell_type": "code",
      "source": [
        "# 패턴 3\n",
        "\"\"\"\n",
        "****\n",
        "***\n",
        "**\n",
        "*\n",
        "\"\"\""
      ],
      "metadata": {
        "id": "yMcUN0jg9SbG"
      },
      "execution_count": null,
      "outputs": []
    },
    {
      "cell_type": "code",
      "source": [
        "# 패턴 4\n",
        "\"\"\"\n",
        "****\n",
        " ***\n",
        "  **\n",
        "   *\n",
        "\"\"\""
      ],
      "metadata": {
        "id": "sIpKYsJB9ZFH"
      },
      "execution_count": null,
      "outputs": []
    },
    {
      "cell_type": "code",
      "source": [
        "# 패턴 5\n",
        "\"\"\"\n",
        "   *\n",
        "  ***\n",
        " *****\n",
        "*******\n",
        "\"\"\""
      ],
      "metadata": {
        "id": "pEldwTBd9Z0g"
      },
      "execution_count": null,
      "outputs": []
    },
    {
      "cell_type": "code",
      "source": [
        "for i in range(1,5):\n",
        "  print(\"*\"*i)\n",
        "print()\n",
        "\n",
        "for i in range(1,5):        #for i in range(1,5):\n",
        "  a=\"*\"*i                   # print(f\"{'*'*i:>4}\")\n",
        "  print(a.rjust(4))         # print()\n",
        "print()                     #\n",
        "\n",
        "\n",
        "for i in range(4,0,-1):\n",
        "  print(\"*\"*i)\n",
        "print()\n",
        "\n",
        "for i in range(4,0,-1):\n",
        "  a=\"*\"*i\n",
        "  print(a.rjust(4))\n",
        "print()\n",
        "\n",
        "for i in range(1,8,2):\n",
        "  print(f\"{'*'*i:^7}\")\n",
        "\n",
        "#for i in range(1,8,2):\n",
        "  #print(\"{0:^7}\".format(\"*\"*i))\n"
      ],
      "metadata": {
        "colab": {
          "base_uri": "https://localhost:8080/"
        },
        "id": "vjUH9tyucpKE",
        "outputId": "ecc5baed-49c5-4831-ab3f-721dd4c44bc0"
      },
      "execution_count": null,
      "outputs": [
        {
          "output_type": "stream",
          "name": "stdout",
          "text": [
            "*\n",
            "**\n",
            "***\n",
            "****\n",
            "\n",
            "   *\n",
            "  **\n",
            " ***\n",
            "****\n",
            "\n",
            "****\n",
            "***\n",
            "**\n",
            "*\n",
            "\n",
            "****\n",
            " ***\n",
            "  **\n",
            "   *\n",
            "\n",
            "   *   \n",
            "  ***  \n",
            " ***** \n",
            "*******\n",
            "   *   \n",
            "  ***  \n",
            " ***** \n",
            "*******\n"
          ]
        }
      ]
    },
    {
      "cell_type": "markdown",
      "source": [
        "# 4. 커피 자판기 시뮬레이션\n",
        "\n",
        "## 요구 사항\n",
        "- 사용자에게 커피 개수를 입력받는다.\n",
        "- 사용자가 돈을 넣으면 다음 조건에 따라 처리한다:\n",
        "  - 커피 값은 300원이다.\n",
        "  - 300원을 넣으면 \"커피를 줍니다.\"를 출력하고 커피를 1개 줄인다.  \n",
        "  - 300원보다 많이 넣으면 \"거스름돈 ○○원을 주고 커피를 줍니다.\"를 출력하고 커피를 1개 줄인다.  \n",
        "  - 300원보다 적게 넣으면 \"돈을 다시 돌려주고 커피를 주지 않습니다.\"를 출력하고, 남은 커피 수를 출력한다.  \n",
        "- 커피가 0개가 되면 \"커피가 다 떨어졌습니다. 판매를 중지합니다.\"를 출력하고 반복을 종료한다.\n"
      ],
      "metadata": {
        "id": "Gq2KACYx7fm6"
      }
    },
    {
      "cell_type": "code",
      "source": [
        "count = int(input(\"커피 개수:\"))\n",
        "\n",
        "while True:\n",
        "  money = int(input(\"돈을 넣어주세요:\"))\n",
        "  if money == 300:\n",
        "    print(\"커피를 줍니다.\")\n",
        "    count-=1\n",
        "    if count == 0:\n",
        "      print(\"커피가 다 떨어졌습니다. 판매를 중지합니다.\")\n",
        "      break\n",
        "  elif money > 300:\n",
        "    print(\"거스름돈 %d원을 주고 커피를 줍니다.\" %(money - 300))\n",
        "    count-=1\n",
        "    if count == 0:\n",
        "      print(\"커피가 다 떨어졌습니다. 판매를 중지합니다.\")\n",
        "      break\n",
        "  elif money < 300:\n",
        "    print(\"돈을 다시 돌려주고 커피를 주지 않습니다.\")\n",
        "    print(\"남은 커피 개수:%d\" % count)\n",
        "\n"
      ],
      "metadata": {
        "id": "A7yBYTA0BbzJ",
        "colab": {
          "base_uri": "https://localhost:8080/"
        },
        "outputId": "34bfd9d0-a099-4232-b670-f68b7e8d6a0f"
      },
      "execution_count": null,
      "outputs": [
        {
          "output_type": "stream",
          "name": "stdout",
          "text": [
            "커피 개수:3\n",
            "돈을 넣어주세요:300\n",
            "커피를 줍니다.\n",
            "돈을 넣어주세요:3\n",
            "돈을 다시 돌려주고 커피를 주지 않습니다.\n",
            "남은 커피 개수:2\n",
            "돈을 넣어주세요:400\n",
            "거스름돈 100원을 주고 커피를 줍니다.\n",
            "돈을 넣어주세요:3\n",
            "돈을 다시 돌려주고 커피를 주지 않습니다.\n",
            "남은 커피 개수:1\n",
            "돈을 넣어주세요:3\n",
            "돈을 다시 돌려주고 커피를 주지 않습니다.\n",
            "남은 커피 개수:1\n",
            "돈을 넣어주세요:400\n",
            "거스름돈 100원을 주고 커피를 줍니다.\n",
            "커피가 다 떨어졌습니다. 판매를 중지합니다.\n"
          ]
        }
      ]
    },
    {
      "cell_type": "markdown",
      "source": [
        "# FOR 반복문"
      ],
      "metadata": {
        "id": "n0mQVW2N-3Vl"
      }
    },
    {
      "cell_type": "markdown",
      "source": [
        "# 1. 문자열 내 알파벳 빈도수 출력\n",
        "\n",
        "## 요구 사항\n",
        "- 사용자로부터 문자열을 입력받는다.  \n",
        "- 입력된 문자열에서 알파벳(a~z, A~Z)의 빈도수를 출력한다.  \n",
        "- 대소문자는 구분하지 않는다.  \n",
        "- 알파벳이 아닌 문자는 무시한다.  \n",
        "- 알파벳은 오름차순으로 정렬하여 출력한다.\n",
        "\n",
        "### 예시 입력\n",
        "Hello, Python!\n",
        "\n",
        "### 예시 출력\n",
        "- e: 1\n",
        "- h: 2\n",
        "- l: 2\n",
        "- n: 1\n",
        "- o: 2\n",
        "- p: 1\n",
        "- t: 1\n",
        "- y: 1"
      ],
      "metadata": {
        "id": "fNIEwHGq-FW0"
      }
    },
    {
      "cell_type": "code",
      "source": [
        "a = input(\"\")\n",
        "\n",
        "dict = {}\n",
        "for i in a:\n",
        "  if i.encode().isalpha():\n",
        "    b = i.lower()\n",
        "    if b in dict:\n",
        "      dict[b] += 1\n",
        "    else:\n",
        "      dict[b]=1\n",
        "\n",
        "for i,j in sorted(dict.items()):\n",
        "  print(\"%s:%s\" % (i,j))\n",
        "\n",
        "#print(dict)\n",
        "\n",
        "\n",
        "\n",
        "\n",
        "\n",
        "\n",
        "\n",
        "\n",
        "\n",
        "\n",
        "\n",
        "\n",
        "\n",
        "\n",
        "\n",
        "\n",
        "\n",
        "\n",
        "\n",
        "# 1. 알파벳인지 확인 문자열 encode().isalpha()\n",
        "# 2. 소문자로 변경 lower()\n",
        "# 중복 제거(자료형 or 리스트와 for문을 통해서 중복제거)\n",
        "# 3. 문자열 X, 리스트 Sort()\n",
        "# count -> 중복 제거된 거 가지고 원래 문자열의 요소의 개수 세기\n",
        "\n"
      ],
      "metadata": {
        "id": "MlLM7eI4-HmF",
        "colab": {
          "base_uri": "https://localhost:8080/"
        },
        "outputId": "133dd235-be07-4863-d2f2-e6c59ce83d1b"
      },
      "execution_count": null,
      "outputs": [
        {
          "output_type": "stream",
          "name": "stdout",
          "text": [
            "fw$2849jflksㅎㄴㄷㅎ\n",
            "f:2\n",
            "j:1\n",
            "k:1\n",
            "l:1\n",
            "s:1\n",
            "w:1\n"
          ]
        }
      ]
    },
    {
      "cell_type": "markdown",
      "source": [
        "# 2. 계단식 숫자 출력\n",
        "\n",
        "## 요구 사항\n",
        "- 사용자로부터 정수 n을 입력받는다.  \n",
        "- `for` 반복문을 이용해 다음과 같은 숫자 계단을 출력한다.  \n",
        "- 각 줄에는 1부터 해당 줄 번호까지의 숫자를 공백과 함께 출력한다. 단, 마지막에는 공백이 있어선 안된다.\n",
        "- 줄 수는 입력한 정수만큼 출력한다.\n",
        "\n",
        "### 예시 출력 (입력: 5)\n",
        "- 1\n",
        "- 1 2\n",
        "- 1 2 3\n",
        "- 1 2 3 4\n",
        "- 1 2 3 4 5"
      ],
      "metadata": {
        "id": "dmCzBSoE-QSz"
      }
    },
    {
      "cell_type": "code",
      "source": [
        "a = int(input(\"\"))\n",
        "\n",
        "for i in range(1,a+1):\n",
        "  for j in range(1,i+1):\n",
        "    if j != i:\n",
        "      print(\"%d\"%j,end=' ')\n",
        "    else:\n",
        "      print(j, end='')\n",
        "  print()"
      ],
      "metadata": {
        "id": "1EYvV-20-T0i",
        "colab": {
          "base_uri": "https://localhost:8080/"
        },
        "outputId": "1d9697fa-e763-4546-ecbb-0029e486e8c2"
      },
      "execution_count": 338,
      "outputs": [
        {
          "output_type": "stream",
          "name": "stdout",
          "text": [
            "5\n",
            "1\n",
            "1 2\n",
            "1 2 3\n",
            "1 2 3 4\n",
            "1 2 3 4 5\n"
          ]
        }
      ]
    },
    {
      "cell_type": "markdown",
      "source": [
        "# 3. 1부터 500까지 3과 5의 공배수 출력\n",
        "\n",
        "## 요구 사항\n",
        "- 1부터 500까지 숫자 중에서 **3과 5의 공배수**만 출력한다.  \n",
        "- 출력 결과는 한 줄에 5개씩 출력되도록 한다.  \n",
        "- 줄바꿈은 5개를 출력할 때마다 적용한다.  \n",
        "- 각 숫자는 가독성을 위해 일정한 간격으로 정렬한다.\n",
        "\n",
        "### 예시 출력\n",
        "15 30 45 60 75\n",
        "\n",
        "90 ..."
      ],
      "metadata": {
        "id": "o6dcEJ_g-U-J"
      }
    },
    {
      "cell_type": "code",
      "source": [
        "c = 0\n",
        "for i in range(1,501):\n",
        "  if i%3==0 and i%5==0:\n",
        "    print(i,end='\\t')\n",
        "    c+=1\n",
        "    if c % 5 == 0:\n",
        "      print(\" \")\n"
      ],
      "metadata": {
        "id": "q0RslUBz-bA4",
        "colab": {
          "base_uri": "https://localhost:8080/"
        },
        "outputId": "2ec04c68-6941-498f-ab6b-49e6ccc4726d"
      },
      "execution_count": null,
      "outputs": [
        {
          "output_type": "stream",
          "name": "stdout",
          "text": [
            "15\t30\t45\t60\t75\t \n",
            "90\t105\t120\t135\t150\t \n",
            "165\t180\t195\t210\t225\t \n",
            "240\t255\t270\t285\t300\t \n",
            "315\t330\t345\t360\t375\t \n",
            "390\t405\t420\t435\t450\t \n",
            "465\t480\t495\t"
          ]
        }
      ]
    },
    {
      "cell_type": "markdown",
      "source": [
        "# 4. 구구단 2단부터 9단까지 출력하기\n",
        "\n",
        "## 요구 사항\n",
        "- `for` 반복문을 중첩 사용하여 **2단부터 9단까지**의 구구단을 출력한다.  \n",
        "- 각 단은 `단 제목`을 먼저 출력한 후, 그 단의 곱셈 결과를 1부터 9까지 출력한다.  \n",
        "- 출력 형식은 `2 x 1 = 2`, `3 x 2 = 6`과 같은 형태로 출력한다."
      ],
      "metadata": {
        "id": "FVHiSyUmG8ir"
      }
    },
    {
      "cell_type": "code",
      "source": [
        "for i in range(2,10):\n",
        "  print(f\"{i}단\")\n",
        "\n",
        "  for j in range(1,10):\n",
        "    print(\"%d x %d = %d\" %(i,j,j*i))\n",
        "  print()"
      ],
      "metadata": {
        "id": "FaxSmP_hHLrd",
        "colab": {
          "base_uri": "https://localhost:8080/"
        },
        "outputId": "e55ce504-4fa2-46d2-f118-7e95e38ef126"
      },
      "execution_count": 342,
      "outputs": [
        {
          "output_type": "stream",
          "name": "stdout",
          "text": [
            "2단\n",
            "2 x 1 = 2\n",
            "2 x 2 = 4\n",
            "2 x 3 = 6\n",
            "2 x 4 = 8\n",
            "2 x 5 = 10\n",
            "2 x 6 = 12\n",
            "2 x 7 = 14\n",
            "2 x 8 = 16\n",
            "2 x 9 = 18\n",
            "\n",
            "3단\n",
            "3 x 1 = 3\n",
            "3 x 2 = 6\n",
            "3 x 3 = 9\n",
            "3 x 4 = 12\n",
            "3 x 5 = 15\n",
            "3 x 6 = 18\n",
            "3 x 7 = 21\n",
            "3 x 8 = 24\n",
            "3 x 9 = 27\n",
            "\n",
            "4단\n",
            "4 x 1 = 4\n",
            "4 x 2 = 8\n",
            "4 x 3 = 12\n",
            "4 x 4 = 16\n",
            "4 x 5 = 20\n",
            "4 x 6 = 24\n",
            "4 x 7 = 28\n",
            "4 x 8 = 32\n",
            "4 x 9 = 36\n",
            "\n",
            "5단\n",
            "5 x 1 = 5\n",
            "5 x 2 = 10\n",
            "5 x 3 = 15\n",
            "5 x 4 = 20\n",
            "5 x 5 = 25\n",
            "5 x 6 = 30\n",
            "5 x 7 = 35\n",
            "5 x 8 = 40\n",
            "5 x 9 = 45\n",
            "\n",
            "6단\n",
            "6 x 1 = 6\n",
            "6 x 2 = 12\n",
            "6 x 3 = 18\n",
            "6 x 4 = 24\n",
            "6 x 5 = 30\n",
            "6 x 6 = 36\n",
            "6 x 7 = 42\n",
            "6 x 8 = 48\n",
            "6 x 9 = 54\n",
            "\n",
            "7단\n",
            "7 x 1 = 7\n",
            "7 x 2 = 14\n",
            "7 x 3 = 21\n",
            "7 x 4 = 28\n",
            "7 x 5 = 35\n",
            "7 x 6 = 42\n",
            "7 x 7 = 49\n",
            "7 x 8 = 56\n",
            "7 x 9 = 63\n",
            "\n",
            "8단\n",
            "8 x 1 = 8\n",
            "8 x 2 = 16\n",
            "8 x 3 = 24\n",
            "8 x 4 = 32\n",
            "8 x 5 = 40\n",
            "8 x 6 = 48\n",
            "8 x 7 = 56\n",
            "8 x 8 = 64\n",
            "8 x 9 = 72\n",
            "\n",
            "9단\n",
            "9 x 1 = 9\n",
            "9 x 2 = 18\n",
            "9 x 3 = 27\n",
            "9 x 4 = 36\n",
            "9 x 5 = 45\n",
            "9 x 6 = 54\n",
            "9 x 7 = 63\n",
            "9 x 8 = 72\n",
            "9 x 9 = 81\n",
            "\n"
          ]
        }
      ]
    }
  ]
}