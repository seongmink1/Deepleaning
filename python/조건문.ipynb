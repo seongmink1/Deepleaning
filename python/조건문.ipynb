{
  "nbformat": 4,
  "nbformat_minor": 0,
  "metadata": {
    "colab": {
      "provenance": []
    },
    "kernelspec": {
      "name": "python3",
      "display_name": "Python 3"
    },
    "language_info": {
      "name": "python"
    }
  },
  "cells": [
    {
      "cell_type": "code",
      "execution_count": null,
      "metadata": {
        "id": "lUKBazkHUpbc"
      },
      "outputs": [],
      "source": []
    },
    {
      "cell_type": "markdown",
      "source": [
        "#조건문\n",
        "특정 조건을 평가하고, 그 조건에 따라 다른 코드를 실행\n",
        "\n",
        "if문:주어진 조컨이 참일 경우에만 특정 코드를실행\n",
        "\n",
        "else문:if 문의 조건이 거짓일 경우에 실행\n",
        "\n",
        "elif문:첫 번째 if 조건이 거짓이고, 다시 조건문을 평가하고자 할 때 실행"
      ],
      "metadata": {
        "id": "m4-q0hkoVLF4"
      }
    },
    {
      "cell_type": "code",
      "source": [
        "#조건문 예시\n",
        "score = int(input(\"점수를 입력하세요:\"))\n",
        "if score >= 90:\n",
        "  print(\"A\") #90점 이상일 시 출력\n",
        "elif score >= 80:\n",
        "  print(\"B\") #80점 이상일 시 출력\n",
        "elif score >= 70:\n",
        "  print(\"C\") #70점 이상일 시 출력\n",
        "else:\n",
        "  print(\"F\")"
      ],
      "metadata": {
        "colab": {
          "base_uri": "https://localhost:8080/"
        },
        "id": "O-k3Vh0_WFiH",
        "outputId": "8dc16396-31b4-4f4b-9aca-9a5196bfc099"
      },
      "execution_count": 10,
      "outputs": [
        {
          "output_type": "stream",
          "name": "stdout",
          "text": [
            "점수를 입력하세요:100\n",
            "A\n"
          ]
        }
      ]
    },
    {
      "cell_type": "code",
      "source": [
        "#조건문 예시2\n",
        "character = input(\"문자를 입력하세요:\")\n",
        "\n",
        "if character == 'a':\n",
        "  print(\"입력한 문자는 'a'입니다.\")\n",
        "else:\n",
        "  print(\"입력한 문자는 'a'가 아닙니다.\")"
      ],
      "metadata": {
        "colab": {
          "base_uri": "https://localhost:8080/"
        },
        "id": "L8OcuICbVQR_",
        "outputId": "0b5e75a2-5603-4ca4-e18b-f7469bafb3bf"
      },
      "execution_count": 4,
      "outputs": [
        {
          "output_type": "stream",
          "name": "stdout",
          "text": [
            "문자를 입력하세요:ㅁ\n",
            "입력한 문자는 'a'가 아닙니다.\n"
          ]
        }
      ]
    },
    {
      "cell_type": "code",
      "source": [
        "#조건문 예시3\n",
        "a = True\n",
        "if a:\n",
        "  print(\"a는 True입니다.\")\n",
        "  print(\"if문에 속해있는 문장입니다.\")\n",
        "else:\n",
        "  print(\"a는 False입니다.\")\n",
        "  print(\"else문에 속해있는 문장입니다.\")"
      ],
      "metadata": {
        "colab": {
          "base_uri": "https://localhost:8080/"
        },
        "id": "WoRvR0mdXDYp",
        "outputId": "811d132d-059b-4c5a-a5d7-216e191c35cc"
      },
      "execution_count": 12,
      "outputs": [
        {
          "output_type": "stream",
          "name": "stdout",
          "text": [
            "a는 True입니다.\n",
            "if문에 속해있는 문장입니다.\n"
          ]
        }
      ]
    },
    {
      "cell_type": "code",
      "source": [
        "#조건문 예시4\n",
        "m = 70\n",
        "e = 50\n",
        "\n",
        "if m>=60 and e>=60:\n",
        "  print(\"합격\") #and연산문 사용으로 둘다 60점 이상으로 참일 시 출력\n",
        "else:\n",
        "  print(\"불합격\")"
      ],
      "metadata": {
        "colab": {
          "base_uri": "https://localhost:8080/"
        },
        "id": "hldTD2ZnYL2K",
        "outputId": "3dd9f4cc-94a1-4d59-bb5a-b70520279fe2"
      },
      "execution_count": 13,
      "outputs": [
        {
          "output_type": "stream",
          "name": "stdout",
          "text": [
            "불합격\n"
          ]
        }
      ]
    },
    {
      "cell_type": "markdown",
      "source": [
        "#IN\n",
        "원하는 원소가 있는지 확인하는 연산자"
      ],
      "metadata": {
        "id": "sPIZ-likYyrR"
      }
    },
    {
      "cell_type": "code",
      "source": [
        "li = [1,2,3,4,5]\n",
        "tu = (2,3,4,5)\n",
        "\n",
        "print(1 in li) #1이 있어서 True\n",
        "print(1 in tu) #1이 없어서 False"
      ],
      "metadata": {
        "colab": {
          "base_uri": "https://localhost:8080/"
        },
        "id": "Qy0gicnBYjfp",
        "outputId": "2f96b2ce-4508-4346-fecd-ff9bf0ae7b06"
      },
      "execution_count": 21,
      "outputs": [
        {
          "output_type": "stream",
          "name": "stdout",
          "text": [
            "True\n",
            "False\n"
          ]
        }
      ]
    },
    {
      "cell_type": "markdown",
      "source": [
        "#만약 주머니에 돈이 있으면 택시를 타고, 없으면 걸어가세요"
      ],
      "metadata": {
        "id": "GndoTlW8cSek"
      }
    },
    {
      "cell_type": "code",
      "source": [
        "pocket = ['phone','wallet','money','IDcard']\n",
        "#if문과 in연산자를 사용한 코드\n",
        "if 'money' in pocket:\n",
        "  print(\"택시를 타고 가세요.\")\n",
        "else:\n",
        "  print(\"걸어가세요.\")\n",
        "\n",
        "#not으로 반대로도 사용 가능\n",
        "if 'money' not in pocket:\n",
        "  print(\"걸어가세요.\")\n",
        "else:\n",
        "  print(\"택시를 타고 가세요.\")"
      ],
      "metadata": {
        "colab": {
          "base_uri": "https://localhost:8080/"
        },
        "id": "XwsxAnKTY9cJ",
        "outputId": "2643b608-f96a-4fba-a6de-d662c2c519a1"
      },
      "execution_count": 22,
      "outputs": [
        {
          "output_type": "stream",
          "name": "stdout",
          "text": [
            "택시를 타고 가세요.\n",
            "택시를 타고 가세요.\n"
          ]
        }
      ]
    },
    {
      "cell_type": "markdown",
      "source": [
        "#만약 주머니에 돈이 있거나 카드가 있으면 택시를 타고, 없으면 걸어가세요"
      ],
      "metadata": {
        "id": "JazyznwMcZ9T"
      }
    },
    {
      "cell_type": "code",
      "source": [
        "pocket = ['phone','card','money','IDcard']\n",
        "#elif문을 활용\n",
        "if 'money' in pocket:\n",
        "  print(\"택시를 타고 가세요.\")\n",
        "elif 'card' in pocket:\n",
        "  print(\"택시를 타고 가세요.\")\n",
        "else:\n",
        "  print(\"걸어가세요.\")\n",
        "\n",
        "#논리 연산자 or 사용으로 짧게\n",
        "if 'money' or 'card' in pocket:\n",
        "  print(\"택시를 타고 가세요.\")\n",
        "else:\n",
        "  print(\"걸어가세요.\")"
      ],
      "metadata": {
        "colab": {
          "base_uri": "https://localhost:8080/"
        },
        "id": "Gh6wzV2aamkU",
        "outputId": "60e20bea-9a3b-4f09-d830-57021304c540"
      },
      "execution_count": 47,
      "outputs": [
        {
          "output_type": "stream",
          "name": "stdout",
          "text": [
            "택시를 타고 가세요.\n",
            "택시를 타고 가세요.\n"
          ]
        }
      ]
    },
    {
      "cell_type": "markdown",
      "source": [
        "#점수에 따른 등급 부여 문제\n",
        "학생들에게 점수에 따라서 등급을 부여하려고 한다.\n",
        "\n",
        "90점 이상일 경우 A등급.\n",
        "\n",
        "80점 이상일 경우 B등급.\n",
        "\n",
        "70점 이상일 경우 C등급.\n",
        "\n",
        "70점 미만일 경우에는 D등급을 부여하는 코드를 작성하시오."
      ],
      "metadata": {
        "id": "4h48N_Irh7pu"
      }
    },
    {
      "cell_type": "code",
      "source": [
        "score = int(input(\"점수를 입력하세요:\"))\n",
        "\n",
        "if score >= 90:\n",
        "  print(\"A등급\")\n",
        "elif score >= 80:\n",
        "  print(\"B등급\")\n",
        "elif score >= 70:\n",
        "  print(\"C등급\")\n",
        "else:\n",
        "  print(\"D등급\")"
      ],
      "metadata": {
        "colab": {
          "base_uri": "https://localhost:8080/"
        },
        "id": "i2gJkSnQidFA",
        "outputId": "2418eac5-1a31-46bd-ed07-ea8fd0e380e5"
      },
      "execution_count": 82,
      "outputs": [
        {
          "output_type": "stream",
          "name": "stdout",
          "text": [
            "점수를 입력하세요:4\n",
            "D등급\n"
          ]
        }
      ]
    },
    {
      "cell_type": "markdown",
      "source": [
        "#더 큰 숫자 출력 문제\n",
        "사용자에게 정수 값을 2개 입력받아, 더큰 숫자를 출력하고, 만약 같은 숫자라면 같습니다.라는 문장을 출력하시오"
      ],
      "metadata": {
        "id": "P8C3SADmiPbm"
      }
    },
    {
      "cell_type": "code",
      "source": [
        "a = input(\"정수 값을 입력해주세요:\")\n",
        "b = input(\"정수 값을 입력해주세요:\")\n",
        "\n",
        "if a > b:\n",
        "  print(a)\n",
        "elif a < b:\n",
        "  print(b)\n",
        "else:\n",
        "  print(\"같습니다\");"
      ],
      "metadata": {
        "colab": {
          "base_uri": "https://localhost:8080/"
        },
        "id": "sdlRAGV_iczO",
        "outputId": "6825f5d6-a1ea-4f83-9ad3-79b90777cf4f"
      },
      "execution_count": 80,
      "outputs": [
        {
          "output_type": "stream",
          "name": "stdout",
          "text": [
            "정수 값을 입력해주세요:7\n",
            "정수 값을 입력해주세요:3\n",
            "7\n"
          ]
        }
      ]
    },
    {
      "cell_type": "markdown",
      "source": [
        "#숫자에 따른 단위 부여 문제\n",
        "숫자가 1000 이상이면, 백단위를 생략하고 k를 붙인다.\n",
        "\n",
        "숫자가 1000000 이상이면, 십만 단위를 생략하고 M을 붙인다.\n",
        "\n",
        "1,000 -> K\n",
        "\n",
        "1,000,000 -> M\n",
        "\n",
        "1,000,000,000 -> G\n",
        "입력:1000 출력1k"
      ],
      "metadata": {
        "id": "P4jajY31idse"
      }
    },
    {
      "cell_type": "code",
      "source": [
        "a = int(input(\"숫자를 입력해주세요:\"))\n",
        "\n",
        "if a >= 1000 and a<1000000:\n",
        "  print(str(a//1000)+'k')\n",
        "elif a >= 1000000 and a<1000000000:\n",
        "  print(str(a//1000000)+'M')\n",
        "elif a >= 1000000000:\n",
        "  print(str(a//1000000000)+'G')"
      ],
      "metadata": {
        "colab": {
          "base_uri": "https://localhost:8080/"
        },
        "id": "oU1QzPlmjHW2",
        "outputId": "cba30718-769f-4ad1-af6c-b1df638967fb"
      },
      "execution_count": 284,
      "outputs": [
        {
          "output_type": "stream",
          "name": "stdout",
          "text": [
            "숫자를 입력해주세요:1111\n",
            "1k\n"
          ]
        }
      ]
    },
    {
      "cell_type": "code",
      "source": [
        "a=1\n",
        "print(\"%dk\" % a)"
      ],
      "metadata": {
        "colab": {
          "base_uri": "https://localhost:8080/"
        },
        "id": "LCC7uEsF7D5S",
        "outputId": "f7433955-3db2-4f62-9315-44ef39f539d7"
      },
      "execution_count": 266,
      "outputs": [
        {
          "output_type": "stream",
          "name": "stdout",
          "text": [
            "1k\n"
          ]
        }
      ]
    },
    {
      "cell_type": "markdown",
      "source": [
        "#연습문제 1"
      ],
      "metadata": {
        "id": "GX8_RE3Xp_LC"
      }
    },
    {
      "cell_type": "code",
      "source": [
        "korean = 80\n",
        "english = 75\n",
        "math = 55\n",
        "\n",
        "sum = korean + english + math\n",
        "\n",
        "print(sum//3)\n"
      ],
      "metadata": {
        "colab": {
          "base_uri": "https://localhost:8080/"
        },
        "id": "GuiUsBpKqBaF",
        "outputId": "3f2d4a59-ef9f-43ff-864c-31ffae0693ea"
      },
      "execution_count": 127,
      "outputs": [
        {
          "output_type": "stream",
          "name": "stdout",
          "text": [
            "70\n"
          ]
        }
      ]
    },
    {
      "cell_type": "markdown",
      "source": [
        "#연습문제2"
      ],
      "metadata": {
        "id": "8vwDEIdhqmCQ"
      }
    },
    {
      "cell_type": "code",
      "source": [
        "a = 13\n",
        "if a%2==0:\n",
        "  print(\"짝수\")\n",
        "else:\n",
        "  print(\"홀수\")"
      ],
      "metadata": {
        "colab": {
          "base_uri": "https://localhost:8080/"
        },
        "id": "gbhQJ-IUqniJ",
        "outputId": "ee8af9df-f3f8-42ea-c136-53ecf6617b67"
      },
      "execution_count": 128,
      "outputs": [
        {
          "output_type": "stream",
          "name": "stdout",
          "text": [
            "홀수\n"
          ]
        }
      ]
    },
    {
      "cell_type": "markdown",
      "source": [
        "#연습문제3"
      ],
      "metadata": {
        "id": "s3oszBScrNcZ"
      }
    },
    {
      "cell_type": "code",
      "source": [
        "pin = \"881120-1068234\"\n",
        "yyyymmdd = pin[:6]\n",
        "num = pin[7:]\n",
        "print(yyyymmdd)\n",
        "print(num)"
      ],
      "metadata": {
        "colab": {
          "base_uri": "https://localhost:8080/"
        },
        "id": "JbMwjWWIrPCJ",
        "outputId": "b25354ca-59b2-4911-c6e4-c33a758ef778"
      },
      "execution_count": 129,
      "outputs": [
        {
          "output_type": "stream",
          "name": "stdout",
          "text": [
            "881120\n",
            "1068234\n"
          ]
        }
      ]
    },
    {
      "cell_type": "markdown",
      "source": [
        "#연습문제4"
      ],
      "metadata": {
        "id": "gc5IU5G4rpuL"
      }
    },
    {
      "cell_type": "code",
      "source": [
        "pin = \"881120-1068234\"\n",
        "print(pin[7:8])"
      ],
      "metadata": {
        "colab": {
          "base_uri": "https://localhost:8080/"
        },
        "id": "JhlQFI1urs8J",
        "outputId": "04918179-7b02-40b6-f0e2-314c8592183a"
      },
      "execution_count": 131,
      "outputs": [
        {
          "output_type": "stream",
          "name": "stdout",
          "text": [
            "1\n"
          ]
        }
      ]
    },
    {
      "cell_type": "markdown",
      "source": [
        "#연습문제5"
      ],
      "metadata": {
        "id": "eZaL9G5csBnD"
      }
    },
    {
      "cell_type": "code",
      "source": [
        "a = \"a:b:c:d\"\n",
        "b = a.replace(':','#')\n",
        "print(b)"
      ],
      "metadata": {
        "colab": {
          "base_uri": "https://localhost:8080/"
        },
        "id": "40vaXnD3sDXh",
        "outputId": "723bf2c7-78b5-42c1-c2ce-ecc0c8870d91"
      },
      "execution_count": 139,
      "outputs": [
        {
          "output_type": "stream",
          "name": "stdout",
          "text": [
            "a#b#c#d\n"
          ]
        }
      ]
    },
    {
      "cell_type": "markdown",
      "source": [
        "#연습문제6"
      ],
      "metadata": {
        "id": "BwyxMJlJs93K"
      }
    },
    {
      "cell_type": "code",
      "source": [
        "a = [1,3,5,4,2]\n",
        "a.sort()\n",
        "print(a)\n",
        "a.reverse()\n",
        "print(a)"
      ],
      "metadata": {
        "colab": {
          "base_uri": "https://localhost:8080/"
        },
        "id": "5fvTsUrus_bC",
        "outputId": "ca1a12c2-a630-42cf-8608-92e3f71dee7f"
      },
      "execution_count": 147,
      "outputs": [
        {
          "output_type": "stream",
          "name": "stdout",
          "text": [
            "[1, 2, 3, 4, 5]\n",
            "[5, 4, 3, 2, 1]\n"
          ]
        }
      ]
    },
    {
      "cell_type": "markdown",
      "source": [
        "#연습문제7"
      ],
      "metadata": {
        "id": "aA7WFob2tpvE"
      }
    },
    {
      "cell_type": "code",
      "source": [
        "a = ['Life','is','too','short']\n",
        "result = ' '.join(a)\n",
        "print(result)"
      ],
      "metadata": {
        "colab": {
          "base_uri": "https://localhost:8080/"
        },
        "id": "i9oXWYyAtrRb",
        "outputId": "e2eb842e-ae52-460f-e39c-b99d575938e9"
      },
      "execution_count": 153,
      "outputs": [
        {
          "output_type": "stream",
          "name": "stdout",
          "text": [
            "Life is too short\n"
          ]
        }
      ]
    },
    {
      "cell_type": "markdown",
      "source": [
        "#연습문제8"
      ],
      "metadata": {
        "id": "sAFhSinbuirr"
      }
    },
    {
      "cell_type": "code",
      "source": [
        "a = (1,2,3)\n",
        "b = (4,)\n",
        "a = a+b\n",
        "print(a)"
      ],
      "metadata": {
        "colab": {
          "base_uri": "https://localhost:8080/"
        },
        "id": "7fIJ3wnBukC6",
        "outputId": "6d2d5901-15e6-44c5-ed2b-11d23178c3cd"
      },
      "execution_count": 182,
      "outputs": [
        {
          "output_type": "stream",
          "name": "stdout",
          "text": [
            "(1, 2, 3, 4)\n"
          ]
        }
      ]
    },
    {
      "cell_type": "markdown",
      "source": [
        "#연습문제9\n",
        "a['name'] = 'python'\n",
        "\n",
        "a[('a',)] = 'python'\n",
        "\n",
        "a[[1]] = 'python'\n",
        "\n",
        "a[250] = 'python'"
      ],
      "metadata": {
        "id": "Mpb-Oeq9wguc"
      }
    },
    {
      "cell_type": "code",
      "source": [
        "a = dict()\n",
        "\n",
        "\n",
        "a['name'] = 'python'\n",
        "\n",
        "a[('a',)] = 'python'\n",
        "\n",
        "a[[1]] = 'python' #리스트에 리스트를 넣은 리스트타입이라 에러가 난다.\n",
        "\n",
        "a[250] = 'python'\n",
        "print(a)"
      ],
      "metadata": {
        "colab": {
          "base_uri": "https://localhost:8080/",
          "height": 210
        },
        "id": "ArUU6zPjwiJE",
        "outputId": "4f82b1cf-6713-49ad-ca6a-cf013582d33f"
      },
      "execution_count": 196,
      "outputs": [
        {
          "output_type": "error",
          "ename": "TypeError",
          "evalue": "unhashable type: 'list'",
          "traceback": [
            "\u001b[0;31m---------------------------------------------------------------------------\u001b[0m",
            "\u001b[0;31mTypeError\u001b[0m                                 Traceback (most recent call last)",
            "\u001b[0;32m<ipython-input-196-9f43572a3ae5>\u001b[0m in \u001b[0;36m<cell line: 0>\u001b[0;34m()\u001b[0m\n\u001b[1;32m      6\u001b[0m \u001b[0ma\u001b[0m\u001b[0;34m[\u001b[0m\u001b[0;34m(\u001b[0m\u001b[0;34m'a'\u001b[0m\u001b[0;34m,\u001b[0m\u001b[0;34m)\u001b[0m\u001b[0;34m]\u001b[0m \u001b[0;34m=\u001b[0m \u001b[0;34m'python'\u001b[0m\u001b[0;34m\u001b[0m\u001b[0;34m\u001b[0m\u001b[0m\n\u001b[1;32m      7\u001b[0m \u001b[0;34m\u001b[0m\u001b[0m\n\u001b[0;32m----> 8\u001b[0;31m \u001b[0ma\u001b[0m\u001b[0;34m[\u001b[0m\u001b[0;34m[\u001b[0m\u001b[0;36m1\u001b[0m\u001b[0;34m]\u001b[0m\u001b[0;34m]\u001b[0m \u001b[0;34m=\u001b[0m \u001b[0;34m'python'\u001b[0m\u001b[0;34m\u001b[0m\u001b[0;34m\u001b[0m\u001b[0m\n\u001b[0m\u001b[1;32m      9\u001b[0m \u001b[0;34m\u001b[0m\u001b[0m\n\u001b[1;32m     10\u001b[0m \u001b[0ma\u001b[0m\u001b[0;34m[\u001b[0m\u001b[0;36m250\u001b[0m\u001b[0;34m]\u001b[0m \u001b[0;34m=\u001b[0m \u001b[0;34m'python'\u001b[0m\u001b[0;34m\u001b[0m\u001b[0;34m\u001b[0m\u001b[0m\n",
            "\u001b[0;31mTypeError\u001b[0m: unhashable type: 'list'"
          ]
        }
      ]
    },
    {
      "cell_type": "markdown",
      "source": [
        "#연습문제10"
      ],
      "metadata": {
        "id": "-BQkpVxWyPtn"
      }
    },
    {
      "cell_type": "code",
      "source": [
        "a = {'A':90,'B':80,'C':70}\n",
        "result = a.pop('B')\n",
        "print(a)\n",
        "print(result)"
      ],
      "metadata": {
        "colab": {
          "base_uri": "https://localhost:8080/"
        },
        "id": "SGuz-OrvyRS-",
        "outputId": "4bcd3704-e0aa-4d52-f24c-eeadcb1d9a9e"
      },
      "execution_count": 197,
      "outputs": [
        {
          "output_type": "stream",
          "name": "stdout",
          "text": [
            "{'A': 90, 'C': 70}\n",
            "80\n"
          ]
        }
      ]
    },
    {
      "cell_type": "markdown",
      "source": [
        "#연습문제11"
      ],
      "metadata": {
        "id": "DvHT5t43y0JF"
      }
    },
    {
      "cell_type": "code",
      "source": [
        "a = [1,1,1,2,2,3,3,3,4,4,5]\n",
        "aset = set(a)\n",
        "b = list(aset)\n",
        "print(b)"
      ],
      "metadata": {
        "colab": {
          "base_uri": "https://localhost:8080/"
        },
        "id": "HparLNZPy1e-",
        "outputId": "3467eba5-7f9e-4f5b-ccf0-9706b99c6d3d"
      },
      "execution_count": 198,
      "outputs": [
        {
          "output_type": "stream",
          "name": "stdout",
          "text": [
            "[1, 2, 3, 4, 5]\n"
          ]
        }
      ]
    },
    {
      "cell_type": "markdown",
      "source": [
        "#연습문제12"
      ],
      "metadata": {
        "id": "tOVB8m-5zTl-"
      }
    },
    {
      "cell_type": "code",
      "source": [
        "a = b = [1,2,3]\n",
        "a[1] = 4       #a와 b가 같은 리스트를 쓰고있기 때문에 리스트를 바꾸면 a와b의 리스트값이 둘다 바뀐다\n",
        "print(b)\n"
      ],
      "metadata": {
        "colab": {
          "base_uri": "https://localhost:8080/"
        },
        "id": "GC_GiCVqzUuz",
        "outputId": "c9d87967-5227-4572-d1a3-d925258b528d"
      },
      "execution_count": 233,
      "outputs": [
        {
          "output_type": "stream",
          "name": "stdout",
          "text": [
            "[1, 4, 3]\n"
          ]
        }
      ]
    }
  ]
}