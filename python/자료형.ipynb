{
  "nbformat": 4,
  "nbformat_minor": 0,
  "metadata": {
    "colab": {
      "provenance": []
    },
    "kernelspec": {
      "name": "python3",
      "display_name": "Python 3"
    },
    "language_info": {
      "name": "python"
    }
  },
  "cells": [
    {
      "cell_type": "markdown",
      "source": [
        "#변수란?\n",
        "파이썬에서 사용하는 변수는 객체를 가리키는 것이라고도 말할 수 있다.\n",
        "\n",
        "객체란 우리가 지금까지 보아 온 자료형의 데이터(값)와 같은 것을 의미하는 말이다."
      ],
      "metadata": {
        "id": "wPamlMrWoUl5"
      }
    },
    {
      "cell_type": "code",
      "source": [
        "#1. 변수 a에 10 저장\n",
        "a = 10\n",
        "#2. 변수 a 출력\n",
        "print(a)\n",
        "\n",
        "#3. 변수 a에 20저장\n",
        "a = 20\n",
        "#4, 변수 a 출력\n",
        "print(a)"
      ],
      "metadata": {
        "colab": {
          "base_uri": "https://localhost:8080/"
        },
        "id": "tM-VCO0RjmDK",
        "outputId": "6f360533-113b-4cf1-d7b7-f54e70ab8756"
      },
      "execution_count": null,
      "outputs": [
        {
          "output_type": "stream",
          "name": "stdout",
          "text": [
            "10\n",
            "20\n"
          ]
        }
      ]
    },
    {
      "cell_type": "markdown",
      "source": [
        "#변수 만드는법\n",
        "변수 선언 : 변수이름 = 값\n",
        "\n",
        "변수가 자료형을 스스로 판단하여 지정해준다.\n",
        "\n",
        "type() 함수를 사용하여 변수의 자료형을 확인할 수 있다."
      ],
      "metadata": {
        "id": "Vo_tMiHgpDNe"
      }
    },
    {
      "cell_type": "code",
      "source": [
        "a = 10\n",
        "b = 10.123\n",
        "c = 0o111\n",
        "d = 0x88F\n",
        "\n",
        "print(a)\n",
        "print(b)  #변수 값 출력\n",
        "print(c)\n",
        "print(d)\n",
        "\n",
        "print(type(a))\n",
        "print(type(b))  #변수의 자료형 출력 후 확인\n",
        "print(type(c))\n",
        "print(type(d))"
      ],
      "metadata": {
        "colab": {
          "base_uri": "https://localhost:8080/"
        },
        "id": "qhjgVnxnkfNs",
        "outputId": "09118c78-6c8c-4129-f530-69b4f60b8ef1"
      },
      "execution_count": null,
      "outputs": [
        {
          "output_type": "stream",
          "name": "stdout",
          "text": [
            "10\n",
            "10.123\n",
            "73\n",
            "2191\n",
            "<class 'int'>\n",
            "<class 'float'>\n",
            "<class 'int'>\n",
            "<class 'int'>\n"
          ]
        }
      ]
    },
    {
      "cell_type": "markdown",
      "source": [
        "#숫자형을 활용하기 위한 연산자\n",
        "더하기, 빼기, 곱하기, 나누기를 활용한 사칙연산\n",
        "\n",
        "**(제곱),  %(나머지),  //(몫)"
      ],
      "metadata": {
        "id": "MRDHyN80q-ux"
      }
    },
    {
      "cell_type": "code",
      "source": [
        "#사칙연산\n",
        "a = 10\n",
        "b = 5\n",
        "result = a + b  #더하기\n",
        "print(result)\n",
        "\n",
        "result = a - b  #빼기\n",
        "print(result)\n",
        "\n",
        "result = a * b  #곱하기\n",
        "print(result)\n",
        "\n",
        "result = a / b  #나누기(나누기는 항상 실수형으로 답이 나옴.)\n",
        "print(result)\n",
        "\n",
        "result = a % b  #나머지값\n",
        "print(result)\n",
        "\n",
        "result = a ** b #제곱\n",
        "print(result)\n",
        "\n",
        "result = a // b #몫\n",
        "print(result)\n",
        "\n",
        "result = 2 + 3 * 4  #곱하기 먼저\n",
        "print(result)\n",
        "\n",
        "result = (2 + 3) * 4  #괄호 먼저\n",
        "print(result)"
      ],
      "metadata": {
        "colab": {
          "base_uri": "https://localhost:8080/"
        },
        "id": "DW-n9ylTkUEh",
        "outputId": "cdea4bb5-7aae-4991-e7d0-7d4608dc1bea"
      },
      "execution_count": null,
      "outputs": [
        {
          "output_type": "stream",
          "name": "stdout",
          "text": [
            "15\n",
            "5\n",
            "50\n",
            "2.0\n",
            "0\n",
            "100000\n",
            "2\n",
            "14\n",
            "20\n"
          ]
        }
      ]
    },
    {
      "cell_type": "markdown",
      "source": [
        "#문자열을 만들고 사용하기\n",
        "\n",
        "*     \"큰따옴표로 양쪽 둘러싸기\"\n",
        "*     '작은따옴표로 양쪽 둘러싸기'\n",
        "*   \"\"\"큰따옴표 3개를 연속으로 써서 양쪽 둘러싸기\"\"\"\n",
        "*   '''작은따옴표 3개를 연속으로 써서 양쪽 둘러싸기'''\n",
        "\n"
      ],
      "metadata": {
        "id": "As411vH1ss4r"
      }
    },
    {
      "cell_type": "code",
      "source": [
        "a = 'a , 누구는 말했다.\"최선을 다하라\"\\n' #작은 따옴표로 문자열 만들기\n",
        "print(a)\n",
        "\n",
        "b = 'b , 누구는 말했다.\"최선을 다하라\"\\n' #줄이 바뀌면 에러\n",
        "print(b)\n",
        "\n",
        "c = '''c, 안\"녕\n",
        "하'세'\n",
        "요\\n'''\n",
        "print(c)    #작은 따옴표 3개를 써서 줄이 바뀌어도 에러가 나지 않음.\n",
        "\n",
        "d = \"\"\"안녕하\n",
        "세요\"\"\"\n",
        "print(d)  #큰 따옴표 3개를 사용 작은 따옴표와 마찬가지\n"
      ],
      "metadata": {
        "colab": {
          "base_uri": "https://localhost:8080/"
        },
        "id": "PRz1v51wpv46",
        "outputId": "3cb56ab0-4695-484a-8d02-caa73d057536"
      },
      "execution_count": null,
      "outputs": [
        {
          "output_type": "stream",
          "name": "stdout",
          "text": [
            "a , 누구는 말했다.\"최선을 다하라\"\n",
            "\n",
            "b , 누구는 말했다.\"최선을 다하라\"\n",
            "\n",
            "c, 안\"녕\n",
            "하'세'\n",
            "요\n",
            "\n",
            "안녕하\n",
            "세요\n"
          ]
        }
      ]
    },
    {
      "cell_type": "markdown",
      "source": [
        "#이스케이프 코드\n",
        "이스케이프 코드란?\n",
        "\n",
        "문자열 예제에서 여러 줄의 문장을 처리할 때 역슬래시 문자와 소문자 n을 조합한 \\n 이스케이프 코드를 사용했다.\n",
        "\n",
        "이스케이프(escape) 코드란 프로그래밍할 때 사용할 수 있도록 미리 정의해 둔 ‘문자 조합’을 말한다.\n",
        "\n",
        "주로 출력물을 보기 좋게 정렬하는 용도로 사용한다. 몇 가지 이스케이프 코드를 정리하면 다음과 같다."
      ],
      "metadata": {
        "id": "kaRPwUq_tQHC"
      }
    },
    {
      "cell_type": "code",
      "source": [
        "a = 'a , 누구는 말했다.\"최선을 다하라\"\\n' #\\n으로 줄 바꿈\n",
        "print(a)\n",
        "\n",
        "b = \"115\\t23\\t4516\" #\\t 사용으로 중간중간 탭 만큼 간격을 줌\n",
        "c = \"1\\t31255\\t456\"\n",
        "print(b)\n",
        "print(c)"
      ],
      "metadata": {
        "colab": {
          "base_uri": "https://localhost:8080/"
        },
        "id": "6Ox198BmrCTb",
        "outputId": "be97ac28-b99e-4eb9-b4b3-4eb64fe435c2"
      },
      "execution_count": null,
      "outputs": [
        {
          "output_type": "stream",
          "name": "stdout",
          "text": [
            "a , 누구는 말했다.\"최선을 다하라\"\n",
            "\n",
            "115\t23\t4516\n",
            "1\t31255\t456\n"
          ]
        }
      ]
    },
    {
      "cell_type": "markdown",
      "source": [
        "#문자열 연산하기\n",
        "파이썬에서는 문자열을 더하거나 곱할 수 있다.\n",
        "\n",
        " 이는 다른 언어에서는 쉽게 찾아볼 수 없는 재미있는 기능으로, 우리 생각을 그대로 반영해 주는 파이썬만의 장점이라고 할 수 있다."
      ],
      "metadata": {
        "id": "A3jczztytdVf"
      }
    },
    {
      "cell_type": "code",
      "source": [
        "a1 = \"python \"\n",
        "a2 = \"is good\"\n",
        "\n",
        "text = a1 + a2  #문자열을 더해서 합침\n",
        "print(text)\n",
        "\n",
        "text1 = a1 * 5  #문자열에 5를 곱하여 5개의 문자열이 나옴\n",
        "print(text1)\n",
        "print(a2*3)     #변수가 아닌 출력으로도 바로 문자열 곱하기"
      ],
      "metadata": {
        "colab": {
          "base_uri": "https://localhost:8080/"
        },
        "id": "uA3AEPQhrs6B",
        "outputId": "155660e1-d6c0-495a-98fe-50b53f25c05d"
      },
      "execution_count": null,
      "outputs": [
        {
          "output_type": "stream",
          "name": "stdout",
          "text": [
            "python is good\n",
            "python python python python python \n",
            "is goodis goodis good\n"
          ]
        }
      ]
    },
    {
      "cell_type": "markdown",
      "source": [
        "#문자열 인덱싱\n",
        "파이썬에서는 0부터 시작하는 순차 인덱싱 처리도 가능하고, 역순 번호를 이용한 인덱싱도 가능합니다.\n",
        "\n",
        "역순 인덱싱 사용에는 항상 마지막 문자를 기준으로 -1부터 시작합니다."
      ],
      "metadata": {
        "id": "pEJ-KYlruBid"
      }
    },
    {
      "cell_type": "code",
      "source": [
        "#문자열 인덱싱\n",
        "text = \"python good\"\n",
        "\"\"\"python good   첫 문자열 부터 [0]으로 시작하고 공백 포함 [10]까지 되어있음\n",
        "   마이너스로 하면 역순으로 [-11]로 시작하고 [-1]로 끝남\"\"\"\n",
        "a = text[0]\n",
        "aa = text[-11]\n",
        "print(a)\n",
        "print(aa)\n",
        "\n",
        "b = text[6]\n",
        "print(b)\n",
        "\n",
        "c = text[7]\n",
        "cc = text[-4]\n",
        "print(c)\n",
        "\n",
        "d = text[8]\n",
        "print(d)\n",
        "\n",
        "e = text[9]\n",
        "print(e)\n",
        "print(text[-11])\n",
        "print(text[10])"
      ],
      "metadata": {
        "colab": {
          "base_uri": "https://localhost:8080/"
        },
        "id": "kzFizFqOsJyR",
        "outputId": "c17ab3c5-50b4-43a9-db1f-f3f6c3d7d36f"
      },
      "execution_count": null,
      "outputs": [
        {
          "output_type": "stream",
          "name": "stdout",
          "text": [
            "p\n",
            "p\n",
            " \n",
            "g\n",
            "o\n",
            "o\n",
            "p\n",
            "d\n"
          ]
        }
      ]
    },
    {
      "cell_type": "markdown",
      "source": [
        "#문자열 슬라이싱\n",
        "문자열 인덱스 번호를 활용하여 한 문자 이상을 추출해 내는 방법입니다.\n",
        "\n",
        "출력되는 문자열의 경우, 진행 방향에 따라 종료 인덱스 번호의 이전까지 출력 됩니다."
      ],
      "metadata": {
        "id": "_p7_NTwvuZPX"
      }
    },
    {
      "cell_type": "code",
      "source": [
        "#문자열 슬라이싱\n",
        "text = \"python is good\"\n",
        "#하나의 문자만 뽑아내는게 아니라 여러 문자를 합칠 때 사용\n",
        "print(text[10]+text[11]+text[12]+text[13])\n",
        "print(text[10:14]) #[10] ~ [13]까지 출력\n",
        "print(text[10:])   #[10] ~ 끝까지 출력\n",
        "\n",
        "print(text[0]+text[1]+text[2]+text[3]+text[4]+text[5])\n",
        "\n",
        "\n"
      ],
      "metadata": {
        "colab": {
          "base_uri": "https://localhost:8080/"
        },
        "id": "FhHTDL5CtwhM",
        "outputId": "03a7255c-a502-4890-db82-dc0de32a6258"
      },
      "execution_count": null,
      "outputs": [
        {
          "output_type": "stream",
          "name": "stdout",
          "text": [
            "good\n",
            "good\n",
            "good\n",
            "python\n"
          ]
        }
      ]
    },
    {
      "cell_type": "markdown",
      "source": [
        "\n"
      ],
      "metadata": {
        "id": "6uZFpOAOQbmj"
      }
    },
    {
      "cell_type": "markdown",
      "source": [
        "#문자열 길이 구하기(len)"
      ],
      "metadata": {
        "id": "MCCWr0RcumnK"
      }
    },
    {
      "cell_type": "code",
      "source": [
        "text = \"i love\\tpython.\"\n",
        "print(text)\n",
        "print(len(text))"
      ],
      "metadata": {
        "colab": {
          "base_uri": "https://localhost:8080/"
        },
        "id": "aFStRPpWuUa9",
        "outputId": "9d82e3d0-c839-4f01-b34b-79d154d7b252"
      },
      "execution_count": null,
      "outputs": [
        {
          "output_type": "stream",
          "name": "stdout",
          "text": [
            "i love\tpython.\n",
            "14\n"
          ]
        }
      ]
    },
    {
      "cell_type": "markdown",
      "source": [
        "#같은 문자의 개수 구하기(count)"
      ],
      "metadata": {
        "id": "FIDKXEAAutip"
      }
    },
    {
      "cell_type": "code",
      "source": [
        "text = \"python is good\"\n",
        "print(text.count('o'))\n",
        "print(text.count('a'))"
      ],
      "metadata": {
        "colab": {
          "base_uri": "https://localhost:8080/"
        },
        "id": "P4QlnV9NuwM8",
        "outputId": "0106dcb3-1c86-49c4-e68f-a62b7990706a"
      },
      "execution_count": null,
      "outputs": [
        {
          "output_type": "stream",
          "name": "stdout",
          "text": [
            "3\n",
            "0\n"
          ]
        }
      ]
    },
    {
      "cell_type": "markdown",
      "source": [
        "#문자열의 첫 위치 찾기(find)\n",
        "없는 문자열이면 -1값을 준다"
      ],
      "metadata": {
        "id": "8JczCmXuu05y"
      }
    },
    {
      "cell_type": "code",
      "source": [
        "text = \"python is good\"\n",
        "print(text.find(\"d\"))\n",
        "print(text.find(\"o\"))\n",
        "print(text.find(\" \"))\n",
        "print(text.find(\"a\"))\n"
      ],
      "metadata": {
        "colab": {
          "base_uri": "https://localhost:8080/"
        },
        "id": "1hineBmufjEl",
        "outputId": "959087c9-864e-454f-c05e-5b7296a8607c"
      },
      "execution_count": null,
      "outputs": [
        {
          "output_type": "stream",
          "name": "stdout",
          "text": [
            "13\n",
            "4\n",
            "-1\n"
          ]
        }
      ]
    },
    {
      "cell_type": "markdown",
      "source": [
        "#find와 같이 문자열의 첫 위치를 찾아준다(index)\n",
        "다른점은 없는 문자열을 찾으면 오류가 난다"
      ],
      "metadata": {
        "id": "-FZir_uSu5pP"
      }
    },
    {
      "cell_type": "code",
      "source": [
        "text = \"python is good\"\n",
        "print(text.index(\"d\"))\n",
        "print(text.index(\"o\"))\n",
        "print(text.index(\" \"))\n",
        "print(text.index(\"a\")) #없는 문자라 오류를 발생시킴"
      ],
      "metadata": {
        "colab": {
          "base_uri": "https://localhost:8080/",
          "height": 228
        },
        "id": "Ur1KGYDPfi5S",
        "outputId": "47051395-41ba-4e8f-c606-8ded4501fa27"
      },
      "execution_count": null,
      "outputs": [
        {
          "output_type": "stream",
          "name": "stdout",
          "text": [
            "13\n",
            "4\n",
            "6\n"
          ]
        },
        {
          "output_type": "error",
          "ename": "ValueError",
          "evalue": "substring not found",
          "traceback": [
            "\u001b[0;31m---------------------------------------------------------------------------\u001b[0m",
            "\u001b[0;31mValueError\u001b[0m                                Traceback (most recent call last)",
            "\u001b[0;32m<ipython-input-58-e9a1652babdd>\u001b[0m in \u001b[0;36m<cell line: 0>\u001b[0;34m()\u001b[0m\n\u001b[1;32m      3\u001b[0m \u001b[0mprint\u001b[0m\u001b[0;34m(\u001b[0m\u001b[0mtext\u001b[0m\u001b[0;34m.\u001b[0m\u001b[0mindex\u001b[0m\u001b[0;34m(\u001b[0m\u001b[0;34m\"o\"\u001b[0m\u001b[0;34m)\u001b[0m\u001b[0;34m)\u001b[0m\u001b[0;34m\u001b[0m\u001b[0;34m\u001b[0m\u001b[0m\n\u001b[1;32m      4\u001b[0m \u001b[0mprint\u001b[0m\u001b[0;34m(\u001b[0m\u001b[0mtext\u001b[0m\u001b[0;34m.\u001b[0m\u001b[0mindex\u001b[0m\u001b[0;34m(\u001b[0m\u001b[0;34m\" \"\u001b[0m\u001b[0;34m)\u001b[0m\u001b[0;34m)\u001b[0m\u001b[0;34m\u001b[0m\u001b[0;34m\u001b[0m\u001b[0m\n\u001b[0;32m----> 5\u001b[0;31m \u001b[0mprint\u001b[0m\u001b[0;34m(\u001b[0m\u001b[0mtext\u001b[0m\u001b[0;34m.\u001b[0m\u001b[0mindex\u001b[0m\u001b[0;34m(\u001b[0m\u001b[0;34m\"a\"\u001b[0m\u001b[0;34m)\u001b[0m\u001b[0;34m)\u001b[0m\u001b[0;34m\u001b[0m\u001b[0;34m\u001b[0m\u001b[0m\n\u001b[0m",
            "\u001b[0;31mValueError\u001b[0m: substring not found"
          ]
        }
      ]
    },
    {
      "cell_type": "markdown",
      "source": [
        "#문자열 사이에 문자열 삽입(join)"
      ],
      "metadata": {
        "id": "BclEafKFvQAr"
      }
    },
    {
      "cell_type": "code",
      "source": [
        "text = \"python is good\"\n",
        "\n",
        "print(','.join(text))"
      ],
      "metadata": {
        "colab": {
          "base_uri": "https://localhost:8080/"
        },
        "id": "4qWaos8ju8j7",
        "outputId": "81689ca6-9173-474f-d645-963761f4ed30"
      },
      "execution_count": null,
      "outputs": [
        {
          "output_type": "stream",
          "name": "stdout",
          "text": [
            "p,y,t,h,o,n, ,i,s, ,g,o,o,d\n"
          ]
        }
      ]
    },
    {
      "cell_type": "markdown",
      "source": [
        "#문자열의 소문자를 대문자로 바꾸기(upper)"
      ],
      "metadata": {
        "id": "9NDFB_YpvVR7"
      }
    },
    {
      "cell_type": "code",
      "source": [
        "text1 = \"python is good\"\n",
        "text2 = \"PYTHON IS GOOD\"\n",
        "\n",
        "print(text1.upper())\n",
        "print(text2.upper())"
      ],
      "metadata": {
        "colab": {
          "base_uri": "https://localhost:8080/"
        },
        "id": "KJddw10_vPwT",
        "outputId": "2b16852b-4223-41fb-d99a-4ae38d27b613"
      },
      "execution_count": null,
      "outputs": [
        {
          "output_type": "stream",
          "name": "stdout",
          "text": [
            "PYTHON IS GOOD\n",
            "PYTHON IS GOOD\n"
          ]
        }
      ]
    },
    {
      "cell_type": "markdown",
      "source": [
        "#문자열의 대문자를 소문자로 바꾸기(lower)"
      ],
      "metadata": {
        "id": "7mncCJksvZ3T"
      }
    },
    {
      "cell_type": "code",
      "source": [
        "text1 = \"python is good\"\n",
        "text2 = \"PYTHON IS GOOD\"\n",
        "\n",
        "print(text1.lower())\n",
        "print(text2.lower())"
      ],
      "metadata": {
        "colab": {
          "base_uri": "https://localhost:8080/"
        },
        "id": "nD2wh3LlvdrT",
        "outputId": "d66ed058-1679-41d3-df17-2645af764b47"
      },
      "execution_count": null,
      "outputs": [
        {
          "output_type": "stream",
          "name": "stdout",
          "text": [
            "python is good\n",
            "python is good\n"
          ]
        }
      ]
    },
    {
      "cell_type": "markdown",
      "source": [
        "#문자열의 공백 지우기(strip)"
      ],
      "metadata": {
        "id": "dXBzq28Xvdk6"
      }
    },
    {
      "cell_type": "code",
      "source": [
        "text = \"  hi  \"\n",
        "\n",
        "print(text)\n",
        "print(text.strip()) #문자열의 양쪽 끝에 있는 연속되는 공백을 지운다\n",
        "print(text.lstrip()) #문자열의 왼쪽 끝에 있는 연속되는 공백을 지운다\n",
        "print(text.rstrip()) #문자열의 오른쪽 끝에 있는 연속되는 공백을 지운다"
      ],
      "metadata": {
        "colab": {
          "base_uri": "https://localhost:8080/"
        },
        "id": "ie64l3fAviLC",
        "outputId": "a8aef963-ca59-4f0c-cd83-d021c7501673"
      },
      "execution_count": null,
      "outputs": [
        {
          "output_type": "stream",
          "name": "stdout",
          "text": [
            "  hi  \n",
            "hi\n",
            "hi  \n",
            "  hi\n"
          ]
        }
      ]
    },
    {
      "cell_type": "markdown",
      "source": [
        "#문자열 나누기(split)"
      ],
      "metadata": {
        "id": "n-XatYwtvjKf"
      }
    },
    {
      "cell_type": "code",
      "source": [
        "text = \"python is good\"\n",
        "print(text.split()) #split의 괄호안에 아무것도 넣지 않으면 공백을 기준으로 문자열을 나누어준다\n",
        "\n",
        "text1 = \"a,b,c,d,e\"\n",
        "print(text1.split(','))#괄호안에 넣은 ,로 문자열을 하나씩 나누어 준다"
      ],
      "metadata": {
        "colab": {
          "base_uri": "https://localhost:8080/"
        },
        "id": "SMx-9UkhvugD",
        "outputId": "5da1575e-0a5c-4d90-9817-26eb29f6270e"
      },
      "execution_count": null,
      "outputs": [
        {
          "output_type": "stream",
          "name": "stdout",
          "text": [
            "['python', 'is', 'good']\n",
            "['a', 'b', 'c', 'd', 'e']\n"
          ]
        }
      ]
    },
    {
      "cell_type": "markdown",
      "source": [
        "#문자열, 정수, 실수 입력받기(input)"
      ],
      "metadata": {
        "id": "8JHbYgn0vq-M"
      }
    },
    {
      "cell_type": "code",
      "source": [
        "a = input('문자열을 입력해주세요: ') #문자열 입력받기\n",
        "b = int(input('정수를 입력해주세요: ')) #정수형 입력받기\n",
        "c = float(input('실수를을 입력해주세요: ')) #실수형 입력받기\n",
        "\n",
        "print(b+c) #입력받은 수를 더해서 출력"
      ],
      "metadata": {
        "colab": {
          "base_uri": "https://localhost:8080/"
        },
        "id": "cxhI3nDcypwe",
        "outputId": "67b1df9f-11dd-4e5a-e12b-db4e2f9e6c05"
      },
      "execution_count": null,
      "outputs": [
        {
          "output_type": "stream",
          "name": "stdout",
          "text": [
            "문자열을 입력해주세요: 123\n",
            "정수를 입력해주세요: 123\n",
            "실수를을 입력해주세요: 123.123\n",
            "246.123\n"
          ]
        }
      ]
    },
    {
      "cell_type": "markdown",
      "source": [
        "#list(리스트) [ ]\n",
        "리스트 선언 및 활용"
      ],
      "metadata": {
        "id": "yIog9zJ4n4UN"
      }
    },
    {
      "cell_type": "code",
      "source": [
        "#비어있는 리스트\n",
        "a=list()\n",
        "a=[]\n",
        "\n",
        "#리스트 선언\n",
        "b=[1,\"문자열\",-0.5,'안녕']\n",
        "\n",
        "#b리스트 c에 복사\n",
        "c=list(b)\n",
        "\n",
        "print(a)\n",
        "print(b)\n",
        "print(c)"
      ],
      "metadata": {
        "colab": {
          "base_uri": "https://localhost:8080/"
        },
        "id": "9fFBX5pXkmdU",
        "outputId": "3a41a2c0-57d0-4534-aed9-65482d848807"
      },
      "execution_count": 2,
      "outputs": [
        {
          "output_type": "stream",
          "name": "stdout",
          "text": [
            "[]\n",
            "[1, '문자열', -0.5, '안녕']\n",
            "[1, '문자열', -0.5, '안녕']\n"
          ]
        }
      ]
    },
    {
      "cell_type": "markdown",
      "source": [
        "#리스트 인덱싱"
      ],
      "metadata": {
        "id": "ig9aZcsEo4M9"
      }
    },
    {
      "cell_type": "code",
      "source": [
        "a=[1,\"문자열\",-0.5,'안녕']\n",
        "\n",
        "print(\"a[0]:\",a[0])\n",
        "print(\"a[1]:\"+a[1])\n",
        "print(\"a[2]:\",a[2])\n",
        "print(\"a[3]:\"+a[3])\n",
        "\n",
        "print(\"a[1][0]:\"+a[1][0])\n",
        "print(\"a[1][1]:\"+a[1][1])\n",
        "print(\"a[1][2]:\"+a[1][2])\n",
        "\n",
        "b=[1,2,[3,4,5]]\n",
        "print(\"b[0]:\"+str(b[0])) #1\n",
        "print(\"b[1]:\"+str(b[1])) #2\n",
        "print(\"b[2]:\"+str(b[2])) #3,4,5\n",
        "print()\n",
        "\n",
        "c = [1,2,3, ['python', 'is', 'good', ['a', 'b', 'c']]]"
      ],
      "metadata": {
        "colab": {
          "base_uri": "https://localhost:8080/"
        },
        "id": "HAYa7DQQlFJ-",
        "outputId": "597c33ac-10d3-4e5e-e2e3-a2e38edcb9d4"
      },
      "execution_count": 71,
      "outputs": [
        {
          "output_type": "stream",
          "name": "stdout",
          "text": [
            "a[0]: 1\n",
            "a[1]:문자열\n",
            "a[2]: -0.5\n",
            "a[3]:안녕\n",
            "a[1][0]:문\n",
            "a[1][1]:자\n",
            "a[1][2]:열\n",
            "b[0]:1\n",
            "b[1]:2\n",
            "b[2]:[3, 4, 5]\n",
            "\n"
          ]
        }
      ]
    },
    {
      "cell_type": "markdown",
      "source": [
        "#리스트 슬라이싱"
      ],
      "metadata": {
        "id": "IdIZWBNU9K7h"
      }
    },
    {
      "cell_type": "code",
      "source": [
        "b = [1,2,3, ['python', 'is', 'good', ['a', 'b', 'c']]]\n",
        "\n",
        "print(b[0:3])\n",
        "print(b[0:])\n",
        "print(b[:4])"
      ],
      "metadata": {
        "colab": {
          "base_uri": "https://localhost:8080/"
        },
        "id": "5BuhnHmymxwd",
        "outputId": "7072dc64-7724-4aff-a735-b3d412653fe1"
      },
      "execution_count": 67,
      "outputs": [
        {
          "output_type": "stream",
          "name": "stdout",
          "text": [
            "[1, 2, 3]\n",
            "[1, 2, 3, ['python', 'is', 'good', ['a', 'b', 'c']]]\n",
            "[1, 2, 3, ['python', 'is', 'good', ['a', 'b', 'c']]]\n"
          ]
        }
      ]
    },
    {
      "cell_type": "markdown",
      "source": [
        "#리스트 연산하기"
      ],
      "metadata": {
        "id": "vRiN7TPGoe-1"
      }
    },
    {
      "cell_type": "code",
      "source": [
        "a=[1,2,3]\n",
        "b=[4,5,6]\n",
        "\n",
        "print(a+b)\n",
        "print(a[1]+b[1])\n",
        "\n",
        "print(a*3)\n",
        "print(b*4)"
      ],
      "metadata": {
        "colab": {
          "base_uri": "https://localhost:8080/"
        },
        "id": "J6AVcZtrnEVc",
        "outputId": "a75cbfbc-5131-4ff6-cec7-37609b3c3e7d"
      },
      "execution_count": 69,
      "outputs": [
        {
          "output_type": "stream",
          "name": "stdout",
          "text": [
            "[1, 2, 3, 4, 5, 6]\n",
            "7\n",
            "[1, 2, 3, 1, 2, 3, 1, 2, 3]\n",
            "[4, 5, 6, 4, 5, 6, 4, 5, 6, 4, 5, 6]\n"
          ]
        }
      ]
    },
    {
      "cell_type": "markdown",
      "source": [
        "#len()\n",
        "\n",
        "리스트의 길이를 구하는 함수"
      ],
      "metadata": {
        "id": "1Ydb1CNgnpw1"
      }
    },
    {
      "cell_type": "code",
      "source": [
        "b = [1,2,3, ['python', 'is', 'good', ['a', 'b', 'c']]]\n",
        "print(len(b))\n",
        "print(len(b[3]))\n",
        "print(len(b[3][0]))"
      ],
      "metadata": {
        "colab": {
          "base_uri": "https://localhost:8080/"
        },
        "id": "03AYC42anaY9",
        "outputId": "bf0b0705-4373-4fbf-fe3a-b6f781990eb7"
      },
      "execution_count": 15,
      "outputs": [
        {
          "output_type": "stream",
          "name": "stdout",
          "text": [
            "4\n",
            "4\n",
            "6\n"
          ]
        }
      ]
    },
    {
      "cell_type": "markdown",
      "source": [
        "#리스트 수정 삭제 추가\n",
        "삭제:del\n",
        "\n",
        "추가:append()"
      ],
      "metadata": {
        "id": "7LgY2wUrqtnn"
      }
    },
    {
      "cell_type": "code",
      "source": [
        "a = [1,2,3,4,6]\n",
        "print(a)\n",
        "\n",
        "a[4]=5\n",
        "print(a)\n",
        "\n",
        "del a[0]\n",
        "print(a)\n",
        "\n",
        "del a[2:]\n",
        "print(a)\n",
        "\n",
        "a.append(4)\n",
        "print(a)\n",
        "a.append([5,6,7,8])\n",
        "print(a)"
      ],
      "metadata": {
        "colab": {
          "base_uri": "https://localhost:8080/"
        },
        "id": "utTvmuaOq7IV",
        "outputId": "a924431b-54b4-47d3-923e-b123f991a07d"
      },
      "execution_count": 57,
      "outputs": [
        {
          "output_type": "stream",
          "name": "stdout",
          "text": [
            "[1, 2, 3, 4, 6]\n",
            "[1, 2, 3, 4, 5]\n",
            "[2, 3, 4, 5]\n",
            "[2, 3]\n",
            "[2, 3, 4]\n",
            "[2, 3, 4, [5, 6, 7, 8]]\n"
          ]
        }
      ]
    },
    {
      "cell_type": "markdown",
      "source": [
        "#sort()\n",
        "리스트의 값들을 순서대로 정렬해준"
      ],
      "metadata": {
        "id": "gkSLmZvHrYE4"
      }
    },
    {
      "cell_type": "code",
      "source": [
        "a = [7,3,8,5,4,2,9,1]\n",
        "print(a)\n",
        "\n",
        "a.sort()\n",
        "print(a)\n",
        "\n",
        "b = ['b','e','d','f','a','c']\n",
        "print(b)\n",
        "b.sort()\n",
        "print(b)\n"
      ],
      "metadata": {
        "colab": {
          "base_uri": "https://localhost:8080/"
        },
        "id": "3pPL2EQBra8v",
        "outputId": "4802b43f-d216-4d3c-8509-7914b05ffca5"
      },
      "execution_count": 54,
      "outputs": [
        {
          "output_type": "stream",
          "name": "stdout",
          "text": [
            "[7, 3, 8, 5, 4, 2, 9, 1]\n",
            "[1, 2, 3, 4, 5, 7, 8, 9]\n",
            "['b', 'e', 'd', 'f', 'a', 'c']\n",
            "['a', 'b', 'c', 'd', 'e', 'f']\n"
          ]
        }
      ]
    },
    {
      "cell_type": "markdown",
      "source": [
        "#reverse()\n",
        "리스트의 값들을 거꾸로 뒤집어준다"
      ],
      "metadata": {
        "id": "M-uVPVzUrgJI"
      }
    },
    {
      "cell_type": "code",
      "source": [
        "a = [7,3,8,5,4,2,9,1]\n",
        "print(a)\n",
        "\n",
        "a.reverse()\n",
        "print(a)\n",
        "\n",
        "b = ['b','e','d','f','a','c']\n",
        "print(b)\n",
        "b.reverse()\n",
        "print(b)"
      ],
      "metadata": {
        "colab": {
          "base_uri": "https://localhost:8080/"
        },
        "id": "2SB1TtOmrjkm",
        "outputId": "3c3bf2b4-886a-4534-d77f-fefd5d683399"
      },
      "execution_count": 56,
      "outputs": [
        {
          "output_type": "stream",
          "name": "stdout",
          "text": [
            "[7, 3, 8, 5, 4, 2, 9, 1]\n",
            "[1, 9, 2, 4, 5, 8, 3, 7]\n",
            "['b', 'e', 'd', 'f', 'a', 'c']\n",
            "['c', 'a', 'f', 'd', 'e', 'b']\n"
          ]
        }
      ]
    },
    {
      "cell_type": "markdown",
      "source": [
        "#index()\n",
        "원하는 요소의 위치를 찾는 함수\n",
        "\n",
        "없는 값을 찾으면 에러를 발생"
      ],
      "metadata": {
        "id": "TWhfwBIWrrUm"
      }
    },
    {
      "cell_type": "code",
      "source": [
        "a=[1,2,3,4,5,1]\n",
        "print(a.index(3))\n",
        "print(a.index(1))"
      ],
      "metadata": {
        "colab": {
          "base_uri": "https://localhost:8080/"
        },
        "id": "eQm2gyRZryRW",
        "outputId": "f091ec5f-001e-401b-f5be-3c773d53c523"
      },
      "execution_count": 17,
      "outputs": [
        {
          "output_type": "stream",
          "name": "stdout",
          "text": [
            "2\n",
            "0\n"
          ]
        }
      ]
    },
    {
      "cell_type": "markdown",
      "source": [
        "#insert()\n",
        "리스트의 원하는 위치에 원하는 값을 삽입"
      ],
      "metadata": {
        "id": "jJEHKJCZr_U-"
      }
    },
    {
      "cell_type": "code",
      "source": [
        "a = [1,2,3,4,5]\n",
        "print(a)\n",
        "\n",
        "a.insert(2, 6)\n",
        "print(a)"
      ],
      "metadata": {
        "colab": {
          "base_uri": "https://localhost:8080/"
        },
        "id": "3e8xWmIssFBO",
        "outputId": "52a5e640-57b6-4226-b7f2-e868481daebf"
      },
      "execution_count": 16,
      "outputs": [
        {
          "output_type": "stream",
          "name": "stdout",
          "text": [
            "[1, 2, 3, 4, 5]\n",
            "[1, 2, 6, 3, 4, 5]\n"
          ]
        }
      ]
    },
    {
      "cell_type": "markdown",
      "source": [
        "#remove()\n",
        "리스트의 원하는 값을 제거\n",
        "\n",
        "중복된 값이 있을 시 첫번 째 값을 제거"
      ],
      "metadata": {
        "id": "JuqATWn1sRmn"
      }
    },
    {
      "cell_type": "code",
      "source": [
        "a = [1,2,3,1,4,5]\n",
        "print(a)\n",
        "\n",
        "a.remove(1)\n",
        "print(a)\n",
        "\n",
        "a.remove(3)\n",
        "print(a)"
      ],
      "metadata": {
        "id": "eJ6TCEY5skT4"
      },
      "execution_count": null,
      "outputs": []
    },
    {
      "cell_type": "markdown",
      "source": [
        "#pop()\n",
        "리스트의 원하는 위치에 값을 추출"
      ],
      "metadata": {
        "id": "zRBp9pv8svb-"
      }
    },
    {
      "cell_type": "code",
      "source": [
        "a = [1,2,3,4,5]\n",
        "print(a)\n",
        "\n",
        "b = a.pop(2)\n",
        "print(a)\n",
        "print(b)"
      ],
      "metadata": {
        "id": "LuJbkuLfs2e3"
      },
      "execution_count": null,
      "outputs": []
    },
    {
      "cell_type": "markdown",
      "source": [
        "#count()\n",
        "리스트의 있는 원하는 값 개수 세기"
      ],
      "metadata": {
        "id": "NNIQoHNns99f"
      }
    },
    {
      "cell_type": "code",
      "source": [
        "a = [1,5,3,6,4,1,33,4,1,3,753,2,34]\n",
        "print(a)\n",
        "\n",
        "print(a.count(1))\n",
        "print(a.count(999)) #없는 값은 0으로 출력"
      ],
      "metadata": {
        "colab": {
          "base_uri": "https://localhost:8080/"
        },
        "id": "bT_b03ivtUR_",
        "outputId": "76f1592b-f8c2-4172-92f8-abbd0fc3aca6"
      },
      "execution_count": 50,
      "outputs": [
        {
          "output_type": "stream",
          "name": "stdout",
          "text": [
            "[1, 5, 3, 6, 4, 1, 33, 4, 1, 3, 753, 2, 34]\n",
            "3\n",
            "0\n"
          ]
        }
      ]
    },
    {
      "cell_type": "markdown",
      "source": [
        "#extend()\n",
        "원래 리스트에 extend하여 값을 더한다"
      ],
      "metadata": {
        "id": "i5wkqFJ28UT9"
      }
    },
    {
      "cell_type": "code",
      "source": [
        "a = [1,2,3,4,5]\n",
        "print(a)\n",
        "\n",
        "a.extend([6,7,8])\n",
        "print(a)\n",
        "\n",
        "b = [9,10]\n",
        "a.extend(b)\n",
        "print(a)\n",
        "\n",
        "a = ['a','b','c']\n",
        "a.extend('d')\n",
        "print(a)"
      ],
      "metadata": {
        "colab": {
          "base_uri": "https://localhost:8080/"
        },
        "id": "Of9RtrE-8etS",
        "outputId": "2eb56a37-5a36-4780-fef0-4fd725fce684"
      },
      "execution_count": 63,
      "outputs": [
        {
          "output_type": "stream",
          "name": "stdout",
          "text": [
            "[1, 2, 3, 4, 5]\n",
            "[1, 2, 3, 4, 5, 6, 7, 8]\n",
            "[1, 2, 3, 4, 5, 6, 7, 8, 9, 10]\n",
            "['a', 'b', 'c', 'd']\n"
          ]
        }
      ]
    },
    {
      "cell_type": "markdown",
      "source": [
        "#tuple 튜플()\n",
        "튜플은 생성하면 값의 변경과 삭제가 불가능하다"
      ],
      "metadata": {
        "id": "cVmFSLNNti2P"
      }
    },
    {
      "cell_type": "code",
      "source": [
        "t1 = (1,2,3, ('python', 'is', 'good'))\n",
        "print(t1)\n",
        "\n",
        "t2 = (2,)\n",
        "print(t2)\n",
        "\n"
      ],
      "metadata": {
        "colab": {
          "base_uri": "https://localhost:8080/"
        },
        "id": "3sYnswH8tpA_",
        "outputId": "aee0c376-cd43-466a-889a-78268ec854ca"
      },
      "execution_count": 19,
      "outputs": [
        {
          "output_type": "stream",
          "name": "stdout",
          "text": [
            "(1, 2, 3, ('python', 'is', 'good'))\n"
          ]
        }
      ]
    },
    {
      "cell_type": "markdown",
      "source": [
        "#튜플 인덱싱, 슬라이싱"
      ],
      "metadata": {
        "id": "NAQac4LD0378"
      }
    },
    {
      "cell_type": "code",
      "source": [
        "t1 = (1,2,3, ('python', 'is', 'good'))\n",
        "print(t1[0])\n",
        "print(t1[3])\n",
        "\n",
        "print(t1[0:3])\n",
        "print(t1[1:4])"
      ],
      "metadata": {
        "colab": {
          "base_uri": "https://localhost:8080/"
        },
        "id": "Gdv2ceKL09R7",
        "outputId": "0bdb1f08-155c-4184-9229-1a633f0db3f7"
      },
      "execution_count": 43,
      "outputs": [
        {
          "output_type": "stream",
          "name": "stdout",
          "text": [
            "1\n",
            "('python', 'is', 'good')\n",
            "(1, 2, 3)\n",
            "(2, 3, ('python', 'is', 'good'))\n"
          ]
        }
      ]
    },
    {
      "cell_type": "markdown",
      "source": [
        "#튜플 연산하기"
      ],
      "metadata": {
        "id": "gzhwlbcm1hIk"
      }
    },
    {
      "cell_type": "code",
      "source": [
        "t1 = (1,2,3,'a','b','c')\n",
        "t2 = (5,6)\n",
        "\n",
        "t3 = t1+t2  #튜플의 값을 바꿔주는게 아닌 합친 새로운 튜플 생성\n",
        "print(t3)\n",
        "\n",
        "t4 = t2*4   #값을 곱하는게 아닌 반복\n",
        "print(t4)\n"
      ],
      "metadata": {
        "colab": {
          "base_uri": "https://localhost:8080/"
        },
        "id": "Qp9bx47w1jbN",
        "outputId": "896418dc-9721-4cf7-f15f-c5463e0c05c6"
      },
      "execution_count": 49,
      "outputs": [
        {
          "output_type": "stream",
          "name": "stdout",
          "text": [
            "(1, 2, 3, 'a', 'b', 'c', 5, 6)\n",
            "(5, 6, 5, 6, 5, 6, 5, 6)\n"
          ]
        }
      ]
    },
    {
      "cell_type": "markdown",
      "source": [
        "#불 자료형\n",
        "참 또는 거짓의 값을 갖는 자료형"
      ],
      "metadata": {
        "id": "jibijjc8uI4B"
      }
    },
    {
      "cell_type": "code",
      "source": [
        "a = True\n",
        "b = False\n",
        "print(a)\n",
        "print(b)\n",
        "print(1==1)\n",
        "print(2>5)"
      ],
      "metadata": {
        "colab": {
          "base_uri": "https://localhost:8080/"
        },
        "id": "GjeLv0snuPXh",
        "outputId": "3f57e49b-ca15-4fe7-a825-9e08af76193a"
      },
      "execution_count": 26,
      "outputs": [
        {
          "output_type": "stream",
          "name": "stdout",
          "text": [
            "True\n",
            "False\n",
            "True\n",
            "False\n"
          ]
        }
      ]
    },
    {
      "cell_type": "code",
      "source": [
        "print(\"True and False:\",bool(0 and 0)) #하나라도 거짓이면 False 둘다 참이어야 True\n",
        "print(\"True and False:\",bool(0 and 1))\n",
        "print(\"True and False:\",bool(1 and 0))\n",
        "print(\"True and False:\",bool(1 and 1))\n",
        "\n",
        "print(\"True  or False:\",bool(0 or 0)) #하나라도 참이면 True 둘다 거짓이어야 False\n",
        "print(\"True  or False:\",bool(0 or 1))\n",
        "print(\"True  or False:\",bool(1 or 0))\n",
        "print(\"True  or False:\",bool(1 or 1))\n",
        "\n",
        "print(\"not True :\",bool(not 1)) #참이면 거짓\n",
        "print(\"not False:\",bool(not 0)) #거짓이면 참"
      ],
      "metadata": {
        "colab": {
          "base_uri": "https://localhost:8080/"
        },
        "id": "JdgvlAfA_ivK",
        "outputId": "3f92cae1-dc1d-4c66-d110-3eef8196e459"
      },
      "execution_count": 85,
      "outputs": [
        {
          "output_type": "stream",
          "name": "stdout",
          "text": [
            "True and False: False\n",
            "True and False: False\n",
            "True and False: False\n",
            "True and False: True\n",
            "True  or False: False\n",
            "True  or False: True\n",
            "True  or False: True\n",
            "True  or False: True\n",
            "not True : False\n",
            "not False: True\n"
          ]
        }
      ]
    },
    {
      "cell_type": "markdown",
      "source": [
        "#딕셔너리\n",
        "key와 value를 한 쌍으로 가지는 자료형\n",
        "\n",
        "순서가 없기 때문에 인덱싱 및 슬라이싱이 불가능\n",
        "\n",
        "key값은 고유한 값으로 중복되는 key값을 사용하면 안됨\n"
      ],
      "metadata": {
        "id": "OPOVZU02un2I"
      }
    },
    {
      "cell_type": "code",
      "source": [
        "dic = {'사과':'apple','바나나':'banana','메론':'melon'}\n",
        "print(dic)\n",
        "dic[3] = 'three'\n",
        "print(dic)"
      ],
      "metadata": {
        "colab": {
          "base_uri": "https://localhost:8080/"
        },
        "id": "DgfoNvP_u6qI",
        "outputId": "59d87dee-68ec-4641-ae61-b643428924d5"
      },
      "execution_count": 22,
      "outputs": [
        {
          "output_type": "stream",
          "name": "stdout",
          "text": [
            "{'사과': 'apple', '바나나': 'banana', '메론': 'melon'}\n",
            "{'사과': 'apple', '바나나': 'banana', '메론': 'melon', 3: 'three'}\n"
          ]
        }
      ]
    },
    {
      "cell_type": "markdown",
      "source": [
        "#딕셔너리 함수\n",
        "key()\n",
        "\n",
        "values()\n",
        "\n",
        "items()"
      ],
      "metadata": {
        "id": "lhTv6ptnwI1K"
      }
    },
    {
      "cell_type": "code",
      "source": [
        "dic = {'사과':'apple','바나나':'banana','메론':'melon'}\n",
        "print(dic.keys())\n",
        "print(dic.values())\n",
        "print(dic.items())\n",
        "\n",
        "print('사과'in dic)"
      ],
      "metadata": {
        "colab": {
          "base_uri": "https://localhost:8080/"
        },
        "id": "Kp3HbKXcxhU6",
        "outputId": "b218ad1d-5c3b-421f-a372-3528900714db"
      },
      "execution_count": 27,
      "outputs": [
        {
          "output_type": "stream",
          "name": "stdout",
          "text": [
            "dict_keys(['사과', '바나나', '메론'])\n",
            "dict_values(['apple', 'banana', 'melon'])\n",
            "dict_items([('사과', 'apple'), ('바나나', 'banana'), ('메론', 'melon')])\n",
            "True\n"
          ]
        }
      ]
    },
    {
      "cell_type": "markdown",
      "source": [
        "#집합 set()\n",
        "\n",
        "중복을 허용하지 않고 순서가 없다\n",
        "\n",
        "set은 중복을 허용하지 않는 특징 때문에 데이터의 중복을 제거하기 위한 필터로 종종 사용된다"
      ],
      "metadata": {
        "id": "08xcuwofxDa6"
      }
    },
    {
      "cell_type": "code",
      "source": [
        "s1 = set([1,2,3,3,2])\n",
        "s2 = set(\"i am a boy\")\n",
        "s3 = set([1,2,3])\n",
        "print(s1)\n",
        "print(s2)\n",
        "print(s3)\n",
        "\n",
        "#집합의 인덱싱 활용하기위해 리스트로 변환해야한다.\n",
        "li = list(s1)\n",
        "print(li)\n",
        "print(li[0])"
      ],
      "metadata": {
        "colab": {
          "base_uri": "https://localhost:8080/"
        },
        "id": "LkcrpXGmx7B5",
        "outputId": "531a6ea9-4792-4c13-f781-6ffd373d8ca9"
      },
      "execution_count": 28,
      "outputs": [
        {
          "output_type": "stream",
          "name": "stdout",
          "text": [
            "{1, 2, 3}\n",
            "{'y', 'm', 'a', 'o', 'i', ' ', 'b'}\n",
            "{1, 2, 3}\n",
            "[1, 2, 3]\n",
            "1\n"
          ]
        }
      ]
    },
    {
      "cell_type": "markdown",
      "source": [
        "#집합 연산\n",
        "교집합\n",
        "\n",
        "합집합\n",
        "\n",
        "차집합"
      ],
      "metadata": {
        "id": "uzIuHoVDyoCS"
      }
    },
    {
      "cell_type": "code",
      "source": [
        "s1 = set([1,2,3,3,2])\n",
        "s2 = set(\"i am a boy\")\n",
        "s3 = set([1,2,3])\n",
        "\n",
        "print(s1 & s3)\n",
        "print(s1 | s3)\n",
        "print(s1 - s3)"
      ],
      "metadata": {
        "colab": {
          "base_uri": "https://localhost:8080/"
        },
        "id": "KjBPJ9tEypwL",
        "outputId": "1a727063-b487-4af7-ee0b-041d66fd2150"
      },
      "execution_count": 29,
      "outputs": [
        {
          "output_type": "stream",
          "name": "stdout",
          "text": [
            "{1, 2, 3}\n",
            "{1, 2, 3}\n",
            "set()\n"
          ]
        }
      ]
    },
    {
      "cell_type": "markdown",
      "source": [
        "#집합 함수\n",
        "add()\n",
        "\n",
        "update()\n",
        "\n",
        "remove()"
      ],
      "metadata": {
        "id": "UxZjS8mHyzK5"
      }
    },
    {
      "cell_type": "code",
      "source": [
        "s1 = set([1,2,3])\n",
        "print(s1)\n",
        "\n",
        "s1.add(4)\n",
        "print(s1)\n",
        "\n",
        "s1.update([5,6,7])\n",
        "print(s1)\n",
        "\n",
        "s1.remove(4)\n",
        "print(s1)"
      ],
      "metadata": {
        "colab": {
          "base_uri": "https://localhost:8080/"
        },
        "id": "TXrYNyMxy1XD",
        "outputId": "35a77e9f-c703-4189-e2d4-bbe2c918c750"
      },
      "execution_count": 37,
      "outputs": [
        {
          "output_type": "stream",
          "name": "stdout",
          "text": [
            "{1, 2, 3}\n",
            "{1, 2, 3, 4}\n",
            "{1, 2, 3, 4, 5, 6, 7}\n",
            "{1, 2, 3, 5, 6, 7}\n"
          ]
        }
      ]
    }
  ]
}