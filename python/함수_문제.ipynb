{
  "cells": [
    {
      "cell_type": "markdown",
      "id": "fe016d2d",
      "metadata": {
        "id": "fe016d2d"
      },
      "source": [
        "## 문제 1\n",
        "\n",
        "두 숫자를 입력받아 더한 결과를 반환하는 함수를 작성한다.\n",
        "\n",
        "- 함수 이름: `add_numbers`\n",
        "- 매개변수: 두 개의 숫자\n",
        "- 반환값: 두 숫자의 합\n",
        "\n",
        "### 예시\n",
        "입력: 3, 5  \n",
        "출력: 8\n",
        "\n",
        "### 추가 : 사칙연산 모두 구현\n"
      ]
    },
    {
      "cell_type": "code",
      "source": [
        "def add_numbers(a,b):\n",
        "  return a+b\n",
        "\n",
        "add_numbers(2,3)\n",
        "\n"
      ],
      "metadata": {
        "id": "IApbqyu470VN",
        "colab": {
          "base_uri": "https://localhost:8080/"
        },
        "outputId": "c1aec242-857b-4b4b-cd48-c5e8467da545"
      },
      "id": "IApbqyu470VN",
      "execution_count": 65,
      "outputs": [
        {
          "output_type": "execute_result",
          "data": {
            "text/plain": [
              "5"
            ]
          },
          "metadata": {},
          "execution_count": 65
        }
      ]
    },
    {
      "cell_type": "markdown",
      "id": "96152b1c",
      "metadata": {
        "id": "96152b1c"
      },
      "source": [
        "## 문제 2\n",
        "\n",
        "정수를 입력받아 짝수인지 홀수인지 판별하는 함수를 작성한다.\n",
        "\n",
        "- 함수 이름: `check_even_odd`\n",
        "- 매개변수: 정수 하나\n",
        "- 반환값: 문자열 \"짝수입니다.\" 또는 \"홀수입니다.\"\n",
        "\n",
        "### 예시\n",
        "입력: 4  \n",
        "출력: 짝수입니다.\n",
        "\n",
        "입력: 7  \n",
        "출력: 홀수입니다.\n",
        "\n",
        "### 추가 : 짝수 / 홀수 구분하여 리스트에 저장\n"
      ]
    },
    {
      "cell_type": "code",
      "source": [
        "def check_even_odd(a):\n",
        "  if a%2==0:\n",
        "    print(\"짝수입니다\")\n",
        "  else:\n",
        "    print(\"홀수입니다\")\n",
        "\n",
        "check_even_odd(2)"
      ],
      "metadata": {
        "id": "fnqgIfrt7096",
        "colab": {
          "base_uri": "https://localhost:8080/"
        },
        "outputId": "ca627d3b-f169-49f1-f822-e3ec02073e24"
      },
      "id": "fnqgIfrt7096",
      "execution_count": 68,
      "outputs": [
        {
          "output_type": "stream",
          "name": "stdout",
          "text": [
            "짝수입니다\n"
          ]
        }
      ]
    },
    {
      "cell_type": "markdown",
      "id": "ae7d5276",
      "metadata": {
        "id": "ae7d5276"
      },
      "source": [
        "## 문제 3\n",
        "\n",
        "주어진 세 숫자 중 가장 큰 수를 반환하는 함수를 작성한다.\n",
        "\n",
        "- 함수 이름: `max_of_three`\n",
        "- 매개변수: 세 개의 숫자\n",
        "- 반환값: 가장 큰 숫자\n",
        "\n",
        "### 예시\n",
        "입력: 5, 8, 2  \n",
        "출력: 8\n",
        "\n",
        "### 추가 : 별도의 내장함수 사용하지 않고 구현"
      ]
    },
    {
      "cell_type": "code",
      "source": [
        "def max_of_three(a,b,c):\n",
        "  if a>b and a>c:\n",
        "    print(a)\n",
        "  elif b>a and b>c:\n",
        "    print(b)\n",
        "  elif c>a and c>b:\n",
        "    print(c)\n",
        "\n",
        "max_of_three(5,2,8)"
      ],
      "metadata": {
        "id": "wGMe22Zq713f",
        "colab": {
          "base_uri": "https://localhost:8080/"
        },
        "outputId": "81c13958-d937-4143-fddb-d3377de0d3b6"
      },
      "id": "wGMe22Zq713f",
      "execution_count": 71,
      "outputs": [
        {
          "output_type": "stream",
          "name": "stdout",
          "text": [
            "8\n"
          ]
        }
      ]
    },
    {
      "cell_type": "markdown",
      "id": "77aaf063",
      "metadata": {
        "id": "77aaf063"
      },
      "source": [
        "## 문제 4\n",
        "\n",
        "문자열을 입력받아 그 문자열의 길이를 반환하는 함수를 작성한다.\n",
        "\n",
        "- 함수 이름: `string_length`\n",
        "- 매개변수: 문자열 하나\n",
        "- 반환값: 문자열의 길이 (정수형)\n",
        "\n",
        "### 예시\n",
        "입력: \"hello\"  \n",
        "출력: 5\n",
        "\n",
        "### 추가 : 별도의 내장함수 사용하지 않고 구현"
      ]
    },
    {
      "cell_type": "code",
      "source": [
        "def string_length(st):\n",
        "  print(len(st))\n",
        "\n",
        "string_length(\"hello\")"
      ],
      "metadata": {
        "id": "rYp6wn6b72co",
        "colab": {
          "base_uri": "https://localhost:8080/"
        },
        "outputId": "80be8248-d005-4fb5-bbfa-9ae7ae6b1aa9"
      },
      "id": "rYp6wn6b72co",
      "execution_count": 72,
      "outputs": [
        {
          "output_type": "stream",
          "name": "stdout",
          "text": [
            "5\n"
          ]
        }
      ]
    },
    {
      "cell_type": "markdown",
      "id": "f27d5d25",
      "metadata": {
        "id": "f27d5d25"
      },
      "source": [
        "## 문제 5\n",
        "\n",
        "여러 개의 과목 점수를 입력받아 평균을 반환하는 함수를 작성한다.\n",
        "\n",
        "- 함수 이름: `average_score`\n",
        "- 매개변수: 여러 개의 점수(*args 사용)\n",
        "- 반환값: 평균 점수\n",
        "\n",
        "### 예시\n",
        "입력: 80, 90, 100  \n",
        "출력: 90.0\n"
      ]
    },
    {
      "cell_type": "code",
      "source": [
        "def average_score(*args):\n",
        "  sum=0\n",
        "  c=0\n",
        "  for score in args:\n",
        "    sum = sum+score\n",
        "    c=c+1\n",
        "  print(sum/c)\n",
        "average_score(80,90,100)"
      ],
      "metadata": {
        "id": "B6Fhhqte728V",
        "colab": {
          "base_uri": "https://localhost:8080/"
        },
        "outputId": "dfbc7636-3cfa-4105-f383-3b23113b02a1"
      },
      "id": "B6Fhhqte728V",
      "execution_count": 73,
      "outputs": [
        {
          "output_type": "stream",
          "name": "stdout",
          "text": [
            "90.0\n"
          ]
        }
      ]
    },
    {
      "cell_type": "markdown",
      "id": "1253d109",
      "metadata": {
        "id": "1253d109"
      },
      "source": [
        "## 문제 6\n",
        "\n",
        "문자열 리스트를 입력받아, 각 문자열의 길이를 담은 리스트를 반환하는 함수를 작성한다.\n",
        "\n",
        "- 함수 이름: `lengths_of_strings`\n",
        "- 매개변수: 문자열 리스트 하나\n",
        "- 반환값: 정수 리스트\n",
        "\n",
        "### 예시\n",
        "입력: [\"apple\", \"banana\", \"kiwi\"]  \n",
        "출력: [5, 6, 4]\n",
        "\n",
        "### 추가 : 별도의 내장함수 사용하지 않고 구현"
      ]
    },
    {
      "cell_type": "code",
      "source": [
        "def lengths_of_strings(list):\n",
        "  list_len = []\n",
        "  for i in range(len(list)):\n",
        "    list_len.append(len(list[i]))\n",
        "  print(list_len)\n",
        "lengths_of_strings([\"apple\", \"banana\", \"kiwi\"])"
      ],
      "metadata": {
        "id": "Mo07jVRM73Ww",
        "colab": {
          "base_uri": "https://localhost:8080/"
        },
        "outputId": "01fe18fb-0ec0-4074-d9f0-72d6ba2920f0"
      },
      "id": "Mo07jVRM73Ww",
      "execution_count": 149,
      "outputs": [
        {
          "output_type": "stream",
          "name": "stdout",
          "text": [
            "[5, 6, 4]\n"
          ]
        }
      ]
    },
    {
      "cell_type": "markdown",
      "id": "dc187fcb",
      "metadata": {
        "id": "dc187fcb"
      },
      "source": [
        "## 문제 7\n",
        "\n",
        "문자열을 입력받아, 대문자는 소문자로, 소문자는 대문자로 변환하여 반환하는 함수를 작성한다.\n",
        "\n",
        "- 함수 이름: `swap_case`\n",
        "- 매개변수: 문자열 하나\n",
        "- 반환값: 변환된 문자열\n",
        "\n",
        "### 예시\n",
        "입력: \"HeLLo\"  \n",
        "출력: \"hEllO\"\n"
      ]
    },
    {
      "cell_type": "code",
      "source": [
        "def swap_case(string):\n",
        "  list=[]\n",
        "  for i in string:\n",
        "    if i.islower():\n",
        "      list.append(i.upper())\n",
        "    else:\n",
        "      list.append(i.lower())\n",
        "  print(\"\".join(list))\n",
        "swap_case(\"HeLLo\")"
      ],
      "metadata": {
        "id": "MaH76BQs73qh",
        "colab": {
          "base_uri": "https://localhost:8080/"
        },
        "outputId": "65a1d79f-6863-4f4d-dce8-d933b8e2466c"
      },
      "id": "MaH76BQs73qh",
      "execution_count": 313,
      "outputs": [
        {
          "output_type": "stream",
          "name": "stdout",
          "text": [
            "hEllO\n"
          ]
        }
      ]
    },
    {
      "cell_type": "markdown",
      "id": "d1425b87",
      "metadata": {
        "id": "d1425b87"
      },
      "source": [
        "## 문제 8\n",
        "\n",
        "숫자 리스트를 입력받아, 0보다 큰 숫자만 골라서 새로운 리스트로 반환하는 함수를 작성한다.\n",
        "\n",
        "- 함수 이름: `filter_positive_numbers`\n",
        "- 매개변수: 숫자 리스트 하나\n",
        "- 반환값: 양수만 담긴 리스트\n",
        "\n",
        "### 예시\n",
        "입력: [-2, 0, 5, 9, -1]  \n",
        "출력: [5, 9]\n"
      ]
    },
    {
      "cell_type": "code",
      "source": [
        "def filter_positive_numbers(list):\n",
        "  c=0\n",
        "  list1=[]\n",
        "  for i in list:\n",
        "    if i > 0:\n",
        "      list1.append(i)\n",
        "\n",
        "\n",
        "  print(list1)\n",
        "filter_positive_numbers([-2,0,5,9,-1])"
      ],
      "metadata": {
        "id": "rscR2j5Z74Z_",
        "colab": {
          "base_uri": "https://localhost:8080/"
        },
        "outputId": "c1be0959-3171-47d3-c4e2-4cc9ad067d96"
      },
      "id": "rscR2j5Z74Z_",
      "execution_count": 219,
      "outputs": [
        {
          "output_type": "stream",
          "name": "stdout",
          "text": [
            "[5, 9]\n"
          ]
        }
      ]
    },
    {
      "cell_type": "markdown",
      "id": "12d0d9b1",
      "metadata": {
        "id": "12d0d9b1"
      },
      "source": [
        "## 문제 9\n",
        "\n",
        "문자열을 입력받아, 단어별로 분리한 리스트를 반환하는 함수를 작성한다.\n",
        "\n",
        "- 함수 이름: `split_into_words`\n",
        "- 매개변수: 문자열 하나\n",
        "- 반환값: 단어 리스트\n",
        "\n",
        "### 예시\n",
        "입력: \"Python is fun\"  \n",
        "출력: [\"Python\", \"is\", \"fun\"]\n",
        "\n",
        "### 추가 : 별도의 내장함수 사용하지 않고 구현"
      ]
    },
    {
      "cell_type": "code",
      "source": [
        "def split_into_words(list):\n",
        "  print(list.split())\n",
        "\n",
        "\n",
        "\n",
        "split_into_words(\"Python is fun\")"
      ],
      "metadata": {
        "id": "HwZA0RfA74sI",
        "colab": {
          "base_uri": "https://localhost:8080/"
        },
        "outputId": "877c7652-6abb-4c84-b5cc-da234045ae63"
      },
      "id": "HwZA0RfA74sI",
      "execution_count": 233,
      "outputs": [
        {
          "output_type": "stream",
          "name": "stdout",
          "text": [
            "['Python', 'is', 'fun']\n"
          ]
        }
      ]
    },
    {
      "cell_type": "markdown",
      "id": "d00b8080",
      "metadata": {
        "id": "d00b8080"
      },
      "source": [
        "## 문제 10\n",
        "\n",
        "문자열과 부분 문자열을 입력받아, 부분 문자열이 몇 번 등장하는지 세는 함수를 작성한다.\n",
        "\n",
        "- 함수 이름: `count_substring`\n",
        "- 매개변수: 문자열 하나, 부분 문자열 하나\n",
        "- 반환값: 등장 횟수 (정수형)\n",
        "\n",
        "### 예시\n",
        "입력: (\"banana\", \"na\")  \n",
        "출력: 2\n"
      ]
    },
    {
      "cell_type": "code",
      "source": [
        "def count_substring(st1,st2):\n",
        "  print(st1.count(st2))\n",
        "\n",
        "count_substring(\"banana\",\"na\")"
      ],
      "metadata": {
        "id": "PBlyeBjN749R",
        "colab": {
          "base_uri": "https://localhost:8080/"
        },
        "outputId": "e41731c3-3790-44f7-99a0-a3277fd4e3c8"
      },
      "id": "PBlyeBjN749R",
      "execution_count": 244,
      "outputs": [
        {
          "output_type": "stream",
          "name": "stdout",
          "text": [
            "2\n"
          ]
        }
      ]
    },
    {
      "cell_type": "markdown",
      "id": "3ba3f8fd",
      "metadata": {
        "id": "3ba3f8fd"
      },
      "source": [
        "## 문제 11\n",
        "\n",
        "정수 리스트를 입력받아, 리스트 안에서 중복된 숫자만 모아 리스트로 반환하는 함수를 작성한다.\n",
        "\n",
        "- 함수 이름: `find_duplicates`\n",
        "- 매개변수: 숫자 리스트 하나\n",
        "- 반환값: 중복 숫자 리스트\n",
        "\n",
        "### 예시\n",
        "입력: [1, 2, 3, 2, 4, 1]  \n",
        "출력: [1, 2]\n"
      ]
    },
    {
      "cell_type": "code",
      "source": [
        "def find_duplicates(list):\n",
        "  list1=[]\n",
        "  for i in range(len(list)):\n",
        "    if list.count(list[i]) >= 2:\n",
        "      list1.append(list[i])\n",
        "\n",
        "  list1 = set(list1)\n",
        "  list2 = [*list1]\n",
        "  print(list2)\n",
        "find_duplicates( [1, 2, 3, 2, 4, 1])"
      ],
      "metadata": {
        "id": "dYfSS16v75Xs",
        "colab": {
          "base_uri": "https://localhost:8080/"
        },
        "outputId": "929ef7e5-3001-456d-8d53-a76770e34f8a"
      },
      "id": "dYfSS16v75Xs",
      "execution_count": 277,
      "outputs": [
        {
          "output_type": "stream",
          "name": "stdout",
          "text": [
            "[1, 2]\n"
          ]
        }
      ]
    },
    {
      "cell_type": "markdown",
      "id": "3cd3e544",
      "metadata": {
        "id": "3cd3e544"
      },
      "source": [
        "## 문제 12\n",
        "\n",
        "두 개의 문자열을 입력받아, 두 문자열이 아나그램인지 판별하는 함수를 작성한다.\n",
        "\n",
        "아나그램: 같은 알파벳을 사용해서 순서만 바꾼 단어\n",
        "- 함수 이름: `is_anagram`\n",
        "- 매개변수: 문자열 두 개\n",
        "- 반환값: True 또는 False\n",
        "\n",
        "### 예시\n",
        "입력: (\"listen\", \"silent\")  \n",
        "출력: True\n",
        "\n",
        "입력: (\"hello\", \"world\")  \n",
        "출력: False\n"
      ]
    },
    {
      "cell_type": "code",
      "source": [
        "def is_anagram(a,b):\n",
        "  dict_a={}\n",
        "  dict_b={}\n",
        "\n",
        "  for i in a:\n",
        "    dict_a[i] = a.count(i)\n",
        "\n",
        "  for i in b:\n",
        "    dict_b[i] = b.count(i)\n",
        "\n",
        "  if dict_a == dict_b:\n",
        "    print(True)\n",
        "  else:\n",
        "    print(False)\n",
        "\n",
        "is_anagram(\"hello\", \"ehllo\")"
      ],
      "metadata": {
        "id": "G93sOfDb76g_",
        "colab": {
          "base_uri": "https://localhost:8080/"
        },
        "outputId": "4da7889d-6bff-4fc7-923b-ab30166132d9"
      },
      "id": "G93sOfDb76g_",
      "execution_count": 314,
      "outputs": [
        {
          "output_type": "stream",
          "name": "stdout",
          "text": [
            "True\n"
          ]
        }
      ]
    }
  ],
  "metadata": {
    "colab": {
      "provenance": []
    },
    "language_info": {
      "name": "python"
    },
    "kernelspec": {
      "name": "python3",
      "display_name": "Python 3"
    }
  },
  "nbformat": 4,
  "nbformat_minor": 5
}