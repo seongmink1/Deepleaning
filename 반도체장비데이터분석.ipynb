{
  "nbformat": 4,
  "nbformat_minor": 0,
  "metadata": {
    "colab": {
      "provenance": []
    },
    "kernelspec": {
      "name": "python3",
      "display_name": "Python 3"
    },
    "language_info": {
      "name": "python"
    }
  },
  "cells": [
    {
      "cell_type": "code",
      "execution_count": 22,
      "metadata": {
        "colab": {
          "base_uri": "https://localhost:8080/",
          "height": 260
        },
        "id": "TuTnFSNrqxJa",
        "outputId": "050d327b-78b8-4bb0-f945-87c31f41eb90"
      },
      "outputs": [
        {
          "output_type": "stream",
          "name": "stdout",
          "text": [
            "            날짜   온도  압력(pa)  유량(SCCM)  공정 시간(분)\n",
            "0   2025-02-01  450    1.20        50        10\n",
            "1   2025-02-02  460    1.30        60        12\n",
            "2   2025-02-03  455    1.10        55        11\n",
            "3   2025-02-04  470    1.40        65        15\n",
            "4   2025-02-05  465    1.50        70        14\n",
            "..         ...  ...     ...       ...       ...\n",
            "995 2027-10-24  493    1.61        74         8\n",
            "996 2027-10-25  459    1.48        80        20\n",
            "997 2027-10-26  482    1.40        54         8\n",
            "998 2027-10-27  481    1.54        62        12\n",
            "999 2027-10-28  429    1.78        59        20\n",
            "\n",
            "[1000 rows x 5 columns]\n"
          ]
        },
        {
          "output_type": "display_data",
          "data": {
            "text/plain": [
              "<IPython.core.display.Javascript object>"
            ],
            "application/javascript": [
              "\n",
              "    async function download(id, filename, size) {\n",
              "      if (!google.colab.kernel.accessAllowed) {\n",
              "        return;\n",
              "      }\n",
              "      const div = document.createElement('div');\n",
              "      const label = document.createElement('label');\n",
              "      label.textContent = `Downloading \"${filename}\": `;\n",
              "      div.appendChild(label);\n",
              "      const progress = document.createElement('progress');\n",
              "      progress.max = size;\n",
              "      div.appendChild(progress);\n",
              "      document.body.appendChild(div);\n",
              "\n",
              "      const buffers = [];\n",
              "      let downloaded = 0;\n",
              "\n",
              "      const channel = await google.colab.kernel.comms.open(id);\n",
              "      // Send a message to notify the kernel that we're ready.\n",
              "      channel.send({})\n",
              "\n",
              "      for await (const message of channel.messages) {\n",
              "        // Send a message to notify the kernel that we're ready.\n",
              "        channel.send({})\n",
              "        if (message.buffers) {\n",
              "          for (const buffer of message.buffers) {\n",
              "            buffers.push(buffer);\n",
              "            downloaded += buffer.byteLength;\n",
              "            progress.value = downloaded;\n",
              "          }\n",
              "        }\n",
              "      }\n",
              "      const blob = new Blob(buffers, {type: 'application/binary'});\n",
              "      const a = document.createElement('a');\n",
              "      a.href = window.URL.createObjectURL(blob);\n",
              "      a.download = filename;\n",
              "      div.appendChild(a);\n",
              "      a.click();\n",
              "      div.remove();\n",
              "    }\n",
              "  "
            ]
          },
          "metadata": {}
        },
        {
          "output_type": "display_data",
          "data": {
            "text/plain": [
              "<IPython.core.display.Javascript object>"
            ],
            "application/javascript": [
              "download(\"download_f9f95cd7-f88f-46a4-970c-e7146c5fc3ad\", \"\\ucc44\\uc6b4_\\ub300\\uc774\\ud130.csv\", 25629)"
            ]
          },
          "metadata": {}
        }
      ],
      "source": [
        "# pandas 라이브러리를 불러옵니다. (데이터를 다루는 데 유용한 라이브러리입니다.)\n",
        "import pandas as pd\n",
        "\n",
        "# random 라이브러리를 불러옵니다. (랜덤한 숫자를 생성할 때 사용합니다.)\n",
        "import random\n",
        "\n",
        "# 날짜 데이터를 생성합니다.\n",
        "# 2025년 2월 1일부터 1000일 동안 하루 단위로 날짜를 만듭니다.\n",
        "dates = pd.date_range(start=\"2025-02-01\", periods=1000, freq=\"D\")\n",
        "\n",
        "# 온도 데이터 생성 (일부 고정값 + 랜덤 값)\n",
        "# 처음 5개 값은 450, 460, 455, 470, 465로 설정하고,\n",
        "# 나머지 995개 값은 400~500 사이의 랜덤한 정수로 설정합니다.\n",
        "temperature = [450, 460, 455, 470, 465] + [random.randint(400, 500) for _ in range(995)]\n",
        "\n",
        "# 압력 데이터 생성 (일부 고정값 + 랜덤 값)\n",
        "# 처음 5개 값은 1.2, 1.3, 1.1, 1.4, 1.5로 설정하고,\n",
        "# 나머지 995개 값은 1.0~2.0 사이의 랜덤한 실수로 설정합니다.\n",
        "# 소수점 둘째 자리까지 반올림합니다.\n",
        "pressure = [1.2, 1.3, 1.1, 1.4, 1.5] + [round(random.uniform(1.0, 2.0), 2)for _ in range(995)]\n",
        "\n",
        "# 유량(SCCM) 데이터 생성 (일부 고정값 + 랜덤 값)\n",
        "# 처음 5개 값은 50, 60, 55, 65, 70으로 설정하고,\n",
        "# 나머지 995개 값은 40~80 사이의 랜덤한 정수로 설정합니다.\n",
        "flow_rate = [50, 60, 55, 65, 70] + [random.randint(40, 80)for _ in range(995)]\n",
        "\n",
        "# 공정 시간(분) 데이터 생성 (일부 고정값 + 랜덤 값)\n",
        "# 처음 5개 값은 10, 12, 11, 15, 14로 설정하고,\n",
        "# 나머지 995개 값은 5~20 사이의 랜덤한 정수로 설정합니다.\n",
        "process_time = [10, 12, 11, 15, 14] + [random.randint(5, 20)for _ in range(995)]\n",
        "\n",
        "# 데이터프레임(DataFrame) 생성\n",
        "# 각 데이터를 컬럼(열)로 묶어서 표 형태로 만듭니다.\n",
        "df = pd.DataFrame({\n",
        "    \"날짜\": dates,  # 날짜\n",
        "    \"온도\": temperature,  # 온도 (°C)\n",
        "    \"압력(pa)\": pressure,  # 압력 (파스칼)\n",
        "    \"유량(SCCM)\": flow_rate,  # 유량 (SCCM)\n",
        "    \"공정 시간(분)\": process_time  # 공정 시간 (분)\n",
        "})\n",
        "\n",
        "# 데이터프레임 출력 (표 형태로 출력됨)\n",
        "print(df)\n",
        "\n",
        "#DataFrame을 CSV 파일로 저장하는 코드\n",
        "csv_file_path = \"채운_대이터.csv\"\n",
        "df.to_csv(csv_file_path, index=False, encoding=\"utf-8-sig\")\n",
        "\n",
        "#Google Colab에서 CSV 파일 다운로드하는 코드\n",
        "from google.colab import files\n",
        "files.download(csv_file_path)"
      ]
    }
  ]
}