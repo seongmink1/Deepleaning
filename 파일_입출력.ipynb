{
  "nbformat": 4,
  "nbformat_minor": 0,
  "metadata": {
    "colab": {
      "provenance": []
    },
    "kernelspec": {
      "name": "python3",
      "display_name": "Python 3"
    },
    "language_info": {
      "name": "python"
    }
  },
  "cells": [
    {
      "cell_type": "markdown",
      "source": [
        "#파일 입출력\n",
        "이제까지 값을 입력받을 때는 사용자가 직접 입력하는 방식을 사용했고 출력 할 때는 모니터 화면에 결괏값을 출력하는 방식으로 사용했다.\n",
        "\n",
        "이번에는 파일을 통한 입출력방법에 대해 알아본다"
      ],
      "metadata": {
        "id": "_DtW-qJ2n4f7"
      }
    },
    {
      "cell_type": "markdown",
      "source": [
        "#파일 생성하기\n",
        "open(파일_이름, 파일_열기_모드)를 사용한다\n",
        "파일 열기 모드에는 r,w ,a가 있다.\n",
        "쓰기모드(w)로 열면 파일이 없으면 새로 만들고, 있으면 내용이 지워진다"
      ],
      "metadata": {
        "id": "6W6PatrcoL-Q"
      }
    },
    {
      "cell_type": "code",
      "source": [
        "f = open(\"새파일.txt\",'w')\n",
        "f.close()"
      ],
      "metadata": {
        "id": "OhiUsb6loVvw"
      },
      "execution_count": 1,
      "outputs": []
    },
    {
      "cell_type": "code",
      "source": [
        "f = open(\"새폴더//새파일.txt\",'w')\n",
        "f.close()"
      ],
      "metadata": {
        "id": "v79FRcnqonko"
      },
      "execution_count": 3,
      "outputs": []
    },
    {
      "cell_type": "code",
      "source": [
        "f = open(\"새파일.txt\",'w')\n",
        "\n",
        "for i in range(1,11):\n",
        "  data = f\"{i}번째 줄입니다.\\n\"\n",
        "\n",
        "  f.write(data)\n",
        "\n",
        "f.write(\"문자열 파일에 쓰기\\n\")\n",
        "f.close()"
      ],
      "metadata": {
        "id": "ffd4Yz84pCmx"
      },
      "execution_count": 14,
      "outputs": []
    },
    {
      "cell_type": "markdown",
      "source": [
        "#파일을 읽는 여러 가지 방법\n",
        "##readline 함수 이용하기\n",
        "readline()은 한 줄씩 읽는다.\n",
        "\n",
        "반복문과 함께 사용 가능하다."
      ],
      "metadata": {
        "id": "V0Mb6U8dpt6q"
      }
    },
    {
      "cell_type": "code",
      "source": [
        "f = open(\"새파일.txt\",'r')\n",
        "\n",
        "line = f.readline()\n",
        "print(line)\n",
        "\n",
        "line = f.readline()\n",
        "print(line)\n",
        "\n",
        "line = f.readline()\n",
        "print(line)\n",
        "\n",
        "line = f.readline()\n",
        "print(line)\n",
        "\n",
        "line = f.readline()\n",
        "print(line)\n",
        "\n",
        "line = f.readline()\n",
        "print(line)"
      ],
      "metadata": {
        "colab": {
          "base_uri": "https://localhost:8080/"
        },
        "id": "loh1qoUIp7-R",
        "outputId": "e72bd2a2-70f4-4b7a-fbdf-83813fcb674e"
      },
      "execution_count": 6,
      "outputs": [
        {
          "output_type": "stream",
          "name": "stdout",
          "text": [
            "1번째 줄입니다.\n",
            "\n",
            "2번째 줄입니다.\n",
            "\n",
            "3번째 줄입니다.\n",
            "\n",
            "4번째 줄입니다.\n",
            "\n",
            "5번째 줄입니다.\n",
            "\n",
            "6번째 줄입니다.\n",
            "\n"
          ]
        }
      ]
    },
    {
      "cell_type": "markdown",
      "source": [
        "#readlines 함수 사용하기\n",
        "\n",
        "readlines()는 파일의 모든 줄을 리스트로 반환한다.\n"
      ],
      "metadata": {
        "id": "3aXcj9hGqKiZ"
      }
    },
    {
      "cell_type": "code",
      "source": [
        "f = open(\"새파일.txt\",'r')\n",
        "lines = f.readlines()\n",
        "\n",
        "for line in lines:\n",
        "  print(line)\n",
        "f.close()"
      ],
      "metadata": {
        "colab": {
          "base_uri": "https://localhost:8080/"
        },
        "id": "T4mTBa2JqTHz",
        "outputId": "d4c7d28f-9144-4e66-d484-177e770b6a72"
      },
      "execution_count": 8,
      "outputs": [
        {
          "output_type": "stream",
          "name": "stdout",
          "text": [
            "1번째 줄입니다.\n",
            "\n",
            "2번째 줄입니다.\n",
            "\n",
            "3번째 줄입니다.\n",
            "\n",
            "4번째 줄입니다.\n",
            "\n",
            "5번째 줄입니다.\n",
            "\n",
            "6번째 줄입니다.\n",
            "\n",
            "7번째 줄입니다.\n",
            "\n",
            "8번째 줄입니다.\n",
            "\n",
            "9번째 줄입니다.\n",
            "\n",
            "10번째 줄입니다.\n",
            "\n",
            "문자열 파일에 쓰기\n"
          ]
        }
      ]
    },
    {
      "cell_type": "markdown",
      "source": [
        "#read 함수 사용하기\n",
        "read()는 파일의 전체 내용을 문자열로 반환한다."
      ],
      "metadata": {
        "id": "_hR7J8_rqgUy"
      }
    },
    {
      "cell_type": "code",
      "source": [
        "f = open(\"새파일.txt\",'r')\n",
        "data = f.read()\n",
        "print(data)\n",
        "f.close()"
      ],
      "metadata": {
        "colab": {
          "base_uri": "https://localhost:8080/"
        },
        "id": "IaS7hYryqlSJ",
        "outputId": "664a8c67-ae0f-4d5a-a24f-ddedad21d1ff"
      },
      "execution_count": 17,
      "outputs": [
        {
          "output_type": "stream",
          "name": "stdout",
          "text": [
            "1번째 줄입니다.\n",
            "2번째 줄입니다.\n",
            "3번째 줄입니다.\n",
            "4번째 줄입니다.\n",
            "5번째 줄입니다.\n",
            "6번째 줄입니다.\n",
            "7번째 줄입니다.\n",
            "8번째 줄입니다.\n",
            "9번째 줄입니다.\n",
            "10번째 줄입니다.\n",
            "문자열 파일에 쓰기\n",
            "11번째 줄입니다.\n",
            "12번째 줄입니다.\n",
            "13번째 줄입니다.\n",
            "14번째 줄입니다.\n",
            "15번째 줄입니다.\n",
            "16번째 줄입니다.\n",
            "17번째 줄입니다.\n",
            "18번째 줄입니다.\n",
            "19번째 줄입니다.\n",
            "\n"
          ]
        }
      ]
    },
    {
      "cell_type": "markdown",
      "source": [
        "#파일 객체 자체를 for문과 함께 사용하기\n"
      ],
      "metadata": {
        "id": "jtoWha1oq4Jp"
      }
    },
    {
      "cell_type": "code",
      "source": [
        "f = open(\"새파일.txt\",'r')\n",
        "for line in f:\n",
        "  print(line)\n",
        "f.close()"
      ],
      "metadata": {
        "colab": {
          "base_uri": "https://localhost:8080/"
        },
        "id": "gSeqg4scq8ba",
        "outputId": "73b0e132-dc23-4264-ad18-4f780cc4cbfc"
      },
      "execution_count": 12,
      "outputs": [
        {
          "output_type": "stream",
          "name": "stdout",
          "text": [
            "1번째 줄입니다.\n",
            "\n",
            "2번째 줄입니다.\n",
            "\n",
            "3번째 줄입니다.\n",
            "\n",
            "4번째 줄입니다.\n",
            "\n",
            "5번째 줄입니다.\n",
            "\n",
            "6번째 줄입니다.\n",
            "\n",
            "7번째 줄입니다.\n",
            "\n",
            "8번째 줄입니다.\n",
            "\n",
            "9번째 줄입니다.\n",
            "\n",
            "10번째 줄입니다.\n",
            "\n",
            "문자열 파일에 쓰기\n"
          ]
        }
      ]
    },
    {
      "cell_type": "markdown",
      "source": [
        "#파일에 새로운 내용 추가하기\n"
      ],
      "metadata": {
        "id": "Zb0zu4SmrHtB"
      }
    },
    {
      "cell_type": "code",
      "source": [
        "f = open(\"새파일.txt\",'a')\n",
        "\n",
        "for i in range(11,20):\n",
        "  data = f\"{i}번째 줄입니다.\\n\"\n",
        "  f.write(data)\n",
        "\n",
        "f.close()"
      ],
      "metadata": {
        "id": "0tMfxSmkrKuC"
      },
      "execution_count": 76,
      "outputs": []
    },
    {
      "cell_type": "markdown",
      "source": [
        "#with 문과 함께 사용하기\n",
        "with open()을 사용하면 따로 호출하지 않아도 된다"
      ],
      "metadata": {
        "id": "GBmWAJlFrl_a"
      }
    },
    {
      "cell_type": "code",
      "source": [
        "with open(\"foo.txt\",'w') as f:\n",
        "  f.write(\"Life if too short, you need puthon\")"
      ],
      "metadata": {
        "id": "qbdYYa8wrtr7"
      },
      "execution_count": 16,
      "outputs": []
    },
    {
      "cell_type": "markdown",
      "source": [
        "#4장 연습문제"
      ],
      "metadata": {
        "id": "6Y6fJSH6snrj"
      }
    },
    {
      "cell_type": "code",
      "source": [
        "#1\n",
        "def is_odd(number):\n",
        "  if number % 2 == 1:\n",
        "    return True\n",
        "  else:\n",
        "    return False\n",
        "\n",
        "print(is_odd(3))\n",
        "print(is_odd(2))"
      ],
      "metadata": {
        "colab": {
          "base_uri": "https://localhost:8080/"
        },
        "id": "GoQ58C4usmSi",
        "outputId": "0ba1ae3c-640a-46e9-b5cf-b20d4d37e83f"
      },
      "execution_count": 27,
      "outputs": [
        {
          "output_type": "stream",
          "name": "stdout",
          "text": [
            "True\n",
            "False\n"
          ]
        }
      ]
    },
    {
      "cell_type": "code",
      "source": [
        "#2\n",
        "def avg_numbers(*args):\n",
        "  result = 0\n",
        "  for i in args:\n",
        "    result += i\n",
        "  return result / len(args)\n",
        "\n",
        "print(avg_numbers(1,2))\n",
        "print(avg_numbers(1,2,3,4,5))"
      ],
      "metadata": {
        "colab": {
          "base_uri": "https://localhost:8080/"
        },
        "id": "-SjiwsGKterk",
        "outputId": "d134a143-f302-4216-e713-48bf9771d008"
      },
      "execution_count": 31,
      "outputs": [
        {
          "output_type": "stream",
          "name": "stdout",
          "text": [
            "1.5\n",
            "3.0\n"
          ]
        }
      ]
    },
    {
      "cell_type": "code",
      "source": [
        "#3\n",
        "input1 = int(input(\"첫 번째 숫자를 입력하세요:\"))\n",
        "input2 = int(input(\"두 번째 숫자를 입력하세요:\"))\n",
        "\n",
        "total = input1 + input2\n",
        "print(\"두 수의 합은 %s입니다\" % total)"
      ],
      "metadata": {
        "colab": {
          "base_uri": "https://localhost:8080/"
        },
        "id": "ysjiK-jeuks0",
        "outputId": "3f4fad69-e891-4c85-d9cf-21776a004f2f"
      },
      "execution_count": 33,
      "outputs": [
        {
          "output_type": "stream",
          "name": "stdout",
          "text": [
            "첫 번째 숫자를 입력하세요:3\n",
            "두 번째 숫자를 입력하세요:6\n",
            "두 수의 합은 9입니다\n"
          ]
        }
      ]
    },
    {
      "cell_type": "code",
      "source": [
        "#4\n",
        "print(\"you\" \"need\" \"python\")\n",
        "print(\"you\" + \"need\" + \"python\")\n",
        "print(\"you\", \"need\", \"python\")  <- 출력값이 다름\n",
        "print(\"\".join([\"you\" \"need\" \"python\"]))"
      ],
      "metadata": {
        "colab": {
          "base_uri": "https://localhost:8080/"
        },
        "id": "CnRpwYrKvEm7",
        "outputId": "83e8cfc3-78c4-4f65-94cc-1a9bbf9a334d"
      },
      "execution_count": 34,
      "outputs": [
        {
          "output_type": "stream",
          "name": "stdout",
          "text": [
            "youneedpython\n",
            "youneedpython\n",
            "you need python\n",
            "youneedpython\n"
          ]
        }
      ]
    },
    {
      "cell_type": "code",
      "source": [
        "#5\n",
        "f1 = open(\"test.txt\",'w')\n",
        "f1.write(\"Life is too short\")\n",
        "f1.close()\n",
        "f2 = open(\"test.txt\",'r')\n",
        "print(f2.read())\n",
        "f2.close()"
      ],
      "metadata": {
        "colab": {
          "base_uri": "https://localhost:8080/"
        },
        "id": "7B6NtJMyvm_E",
        "outputId": "eac37616-0770-42eb-b820-fa1d3901e0a8"
      },
      "execution_count": 55,
      "outputs": [
        {
          "output_type": "stream",
          "name": "stdout",
          "text": [
            "Life is too short\n"
          ]
        }
      ]
    },
    {
      "cell_type": "code",
      "source": [
        "#6\n",
        "user_input = input(\"저장할 내용 입력하세요:\")\n",
        "f = open(\"test.txt\",'a')\n",
        "f.write(user_input)\n",
        "f.write(\"\\n\")\n",
        "f.close()"
      ],
      "metadata": {
        "colab": {
          "base_uri": "https://localhost:8080/"
        },
        "id": "L44Zph7oxxks",
        "outputId": "984a3134-3b0f-4850-b8d3-93bfe2a66ab8"
      },
      "execution_count": 62,
      "outputs": [
        {
          "name": "stdout",
          "output_type": "stream",
          "text": [
            "저장할 내용 입력하세요:저장\n"
          ]
        }
      ]
    },
    {
      "cell_type": "code",
      "source": [
        "#7\n",
        "f = open(\"test.txt\",'r')\n",
        "body = \"you need java\"\n",
        "f.close()\n",
        "body = body.replace(\"java\", \"python\")\n",
        "f = open(\"test.txt\",'w')\n",
        "f.write(body)\n",
        "f.close()"
      ],
      "metadata": {
        "id": "aFcJdd5gz8i-"
      },
      "execution_count": 67,
      "outputs": []
    }
  ]
}