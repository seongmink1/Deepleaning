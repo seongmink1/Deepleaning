{
  "nbformat": 4,
  "nbformat_minor": 0,
  "metadata": {
    "colab": {
      "provenance": []
    },
    "kernelspec": {
      "name": "python3",
      "display_name": "Python 3"
    },
    "language_info": {
      "name": "python"
    }
  },
  "cells": [
    {
      "cell_type": "markdown",
      "source": [
        "#고양이 사진 랜덤 가져오기\n"
      ],
      "metadata": {
        "id": "dXWi_mA7h5KU"
      }
    },
    {
      "cell_type": "code",
      "execution_count": null,
      "metadata": {
        "colab": {
          "base_uri": "https://localhost:8080/",
          "height": 958
        },
        "id": "D0_3X0vjeOd3",
        "outputId": "d4fda853-3323-405d-f3c0-f7fac0c692e1"
      },
      "outputs": [
        {
          "output_type": "display_data",
          "data": {
            "text/html": [
              "<img src=\"https://cdn2.thecatapi.com/images/bvG8QGrnU.jpg\"/>"
            ],
            "text/plain": [
              "<IPython.core.display.Image object>"
            ]
          },
          "metadata": {}
        }
      ],
      "source": [
        "import requests\n",
        "from IPython.display import Image, display\n",
        "\n",
        "url = \"http://api.thecatapi.com/v1/images/search\"\n",
        "response = requests.get(url)\n",
        "data = response.json()\n",
        "cat_url = data[0]['url']\n",
        "\n",
        "display(Image(url=cat_url))"
      ]
    },
    {
      "cell_type": "code",
      "source": [
        "import requests\n",
        "from datetime import datetime\n",
        "latitude = 37.5665\n",
        "longitude = 126.9780\n",
        "\n",
        "today = '2025-04-14'\n",
        "url = (\n",
        "    f\"http://api.open-meteo.com/v1/forecast?\"\n",
        "    f\"latitude={latitude}&longitude={longitude}\"\n",
        "    f\"&daily=temperature_2m_max,temperature_2m_min&timezone=Asia%2FSeoul\"\n",
        ")\n",
        "response = requests.get(url)\n",
        "data = response.json()\n",
        "dates = data['daily']['time']\n",
        "max_temps = data['daily']['temperature_2m_max']\n",
        "min_temps = data['daily']['temperature_2m_min']\n",
        "\n",
        "for date in dates:\n",
        "  if date == str(today):\n",
        "    i = dates.index(date)\n",
        "    print(f\"오늘({today})서울 날씨\")\n",
        "    print(f\"- 최고 기온: {max_temps[i]} C\" )\n",
        "    print(f\"- 최고 기온: {min_temps[i]} C\" )\n",
        "    break"
      ],
      "metadata": {
        "colab": {
          "base_uri": "https://localhost:8080/"
        },
        "id": "rXxs2O5_hjDB",
        "outputId": "36816f2e-c0e1-484a-c5b7-ccf11c581406"
      },
      "execution_count": null,
      "outputs": [
        {
          "output_type": "stream",
          "name": "stdout",
          "text": [
            "오늘(2025-04-14)서울 날씨\n",
            "- 최고 기온: 6.2 C\n",
            "- 최고 기온: 1.9 C\n"
          ]
        }
      ]
    },
    {
      "cell_type": "code",
      "source": [
        "import requests\n",
        "import json\n",
        "url = \"https://zenquotes.io/api/random\"\n",
        "response = requests.get(url)\n",
        "data = response.json()\n",
        "print(json.dumps(data, indent=3 ))\n",
        "quote = data[0]['q']\n",
        "author = data[0]['a']\n",
        "\n",
        "print(\"오늘의 명언\")\n",
        "print(f'\"{quote}\" -{author}')\n"
      ],
      "metadata": {
        "colab": {
          "base_uri": "https://localhost:8080/"
        },
        "id": "ISGptMhKl8Sc",
        "outputId": "72ccbbb8-4374-48c5-dd83-06ba22779289"
      },
      "execution_count": null,
      "outputs": [
        {
          "output_type": "stream",
          "name": "stdout",
          "text": [
            "[\n",
            "   {\n",
            "      \"q\": \"It's not the love you make. It's the love you give. \",\n",
            "      \"a\": \"Nikola Tesla\",\n",
            "      \"h\": \"<blockquote>&ldquo;It's not the love you make. It's the love you give. &rdquo; &mdash; <footer>Nikola Tesla</footer></blockquote>\"\n",
            "   }\n",
            "]\n",
            "오늘의 명언\n",
            "\"It's not the love you make. It's the love you give. \" -Nikola Tesla\n"
          ]
        }
      ]
    },
    {
      "cell_type": "markdown",
      "source": [
        "#아침 루틴 만들기\n"
      ],
      "metadata": {
        "id": "8bFX15MRrr2l"
      }
    },
    {
      "cell_type": "code",
      "source": [
        "import requests\n",
        "import json\n",
        "\n",
        "url = \"https://api.adviceslip.com/advice\"\n",
        "response = requests.get(url)\n",
        "data = response.json()\n",
        "print(json.dumps(data, indent=3 ))\n",
        "quote = data['slip']['advice']\n",
        "print(\"오늘의 조언\")\n",
        "print(quote)"
      ],
      "metadata": {
        "colab": {
          "base_uri": "https://localhost:8080/"
        },
        "id": "2i_tYRmxDqFz",
        "outputId": "79bf59ea-8999-4bf3-9f80-4f9982463c78"
      },
      "execution_count": 160,
      "outputs": [
        {
          "output_type": "stream",
          "name": "stdout",
          "text": [
            "{\n",
            "   \"slip\": {\n",
            "      \"id\": 107,\n",
            "      \"advice\": \"If you don't ask, you don't get.\"\n",
            "   }\n",
            "}\n",
            "오늘의 조언\n",
            "If you don't ask, you don't get.\n"
          ]
        }
      ]
    },
    {
      "cell_type": "code",
      "source": [
        "class Routine:\n",
        "\n",
        "  def cat():\n",
        "    import requests\n",
        "    from IPython.display import Image, display\n",
        "    url = \"http://api.thecatapi.com/v1/images/search\"\n",
        "    response = requests.get(url)\n",
        "    data = response.json()\n",
        "    cat_url = data[0]['url']\n",
        "    display(Image(url=cat_url))\n",
        "    print()\n",
        "\n",
        "  def today(latitude,longitude):\n",
        "    import requests\n",
        "    from datetime import datetime\n",
        "    #latitude = 37.5665\n",
        "    #longitude = 126.9780\n",
        "\n",
        "    today = '2025-04-14'\n",
        "    url = (\n",
        "      f\"http://api.open-meteo.com/v1/forecast?\"\n",
        "      f\"latitude={latitude}&longitude={longitude}\"\n",
        "      f\"&daily=temperature_2m_max,temperature_2m_min&timezone=Asia%2FSeoul\"\n",
        "         )\n",
        "    response = requests.get(url)\n",
        "    data = response.json()\n",
        "    dates = data['daily']['time']\n",
        "    max_temps = data['daily']['temperature_2m_max']\n",
        "    min_temps = data['daily']['temperature_2m_min']\n",
        "\n",
        "    for date in dates:\n",
        "      if date == str(today):\n",
        "        i = dates.index(date)\n",
        "        print(f\"오늘({today})서울 날씨\")\n",
        "        print(f\"- 최고 기온: {max_temps[i]} C\" )\n",
        "        print(f\"- 최고 기온: {min_temps[i]} C\" )\n",
        "        break\n",
        "    print()\n",
        "\n",
        "  def zenquotes():\n",
        "    import requests\n",
        "    import json\n",
        "    url = \"https://zenquotes.io/api/random\"\n",
        "    response = requests.get(url)\n",
        "    data = response.json()\n",
        "    print(json.dumps(data, indent=3 ))\n",
        "    quote = data[0]['q']\n",
        "    author = data[0]['a']\n",
        "    print()\n",
        "    print(\"오늘의 명언\")\n",
        "    print(f'\"{quote}\" -{author}')\n",
        "\n",
        "  def advice():\n",
        "    import requests\n",
        "    import json\n",
        "\n",
        "    url = \"https://api.adviceslip.com/advice\"\n",
        "    response = requests.get(url)\n",
        "    data = response.json()\n",
        "    slip = data['slip']['advice']\n",
        "    print(\"오늘의 조언\")\n",
        "    print(slip)\n",
        "\n",
        "  def routine():\n",
        "    Routine.cat()\n",
        "    Routine.today(37.5665,126.9780)\n",
        "    Routine.zenquotes()\n",
        "    Routine.advice()\n",
        "\n",
        "\n",
        "\n",
        "Routine.routine()\n"
      ],
      "metadata": {
        "id": "5LfT4DVnrumz",
        "colab": {
          "base_uri": "https://localhost:8080/",
          "height": 743
        },
        "outputId": "2995a752-6a47-4aac-a44d-50b6c4aac8b4"
      },
      "execution_count": 165,
      "outputs": [
        {
          "output_type": "display_data",
          "data": {
            "text/html": [
              "<img src=\"https://cdn2.thecatapi.com/images/boh.jpg\"/>"
            ],
            "text/plain": [
              "<IPython.core.display.Image object>"
            ]
          },
          "metadata": {}
        },
        {
          "output_type": "stream",
          "name": "stdout",
          "text": [
            "\n",
            "오늘(2025-04-14)서울 날씨\n",
            "- 최고 기온: 6.2 C\n",
            "- 최고 기온: 1.9 C\n",
            "\n",
            "[\n",
            "   {\n",
            "      \"q\": \"Let the beauty of what you love be what you do.\",\n",
            "      \"a\": \"Rumi\",\n",
            "      \"h\": \"<blockquote>&ldquo;Let the beauty of what you love be what you do.&rdquo; &mdash; <footer>Rumi</footer></blockquote>\"\n",
            "   }\n",
            "]\n",
            "\n",
            "오늘의 명언\n",
            "\"Let the beauty of what you love be what you do.\" -Rumi\n",
            "오늘의 조언\n",
            "Exercise in the rain can really make you feel alive.\n"
          ]
        }
      ]
    }
  ]
}